{
 "cells": [
  {
   "cell_type": "markdown",
   "metadata": {},
   "source": [
    "Now we know that matrix multiplication stetches and rotates the space. Try to image that you take any vector in space and repeatedly multiply it by the matrix. After some iterations this vector will align with rotation axis. Make sure you understood the claim before jumping into implementation.\n",
    "\n",
    "One caviat is that this vector will get really long and as we know big numbers are computationaly unstable, thus we will simply normalize the vector each time. This trick is called *power itearation* and can be expressed as:\n",
    "\n",
    "$$b_{k+1} = \\frac{Ab_k}{||Ab_k||}.$$"
   ]
  },
  {
   "cell_type": "code",
   "execution_count": 140,
   "metadata": {},
   "outputs": [],
   "source": [
    "import numpy as np"
   ]
  },
  {
   "cell_type": "markdown",
   "metadata": {},
   "source": [
    "Let's start with random matrix and compute svd using numpy."
   ]
  },
  {
   "cell_type": "code",
   "execution_count": 292,
   "metadata": {},
   "outputs": [],
   "source": [
    "n, m = 4, 3\n",
    "\n",
    "A = np.random.normal(size=(n, m))\n",
    "U, S, V = np.linalg.svd(A)"
   ]
  },
  {
   "cell_type": "markdown",
   "metadata": {},
   "source": [
    "Note, that we can drop some rows/columns without loosing any valuable information."
   ]
  },
  {
   "cell_type": "code",
   "execution_count": 299,
   "metadata": {},
   "outputs": [],
   "source": [
    "k = min(n, m)\n",
    "U = U[:, :k]\n",
    "V = V[:k]\n",
    "assert np.allclose(A, U * S @ V)"
   ]
  },
  {
   "cell_type": "markdown",
   "metadata": {},
   "source": [
    "Finding the first singular value."
   ]
  },
  {
   "cell_type": "code",
   "execution_count": 300,
   "metadata": {},
   "outputs": [],
   "source": [
    "v = np.random.normal(size=m)\n",
    "\n",
    "for _ in range(1000):\n",
    "    v = A.T @ A @ v / np.linalg.norm(A.T @ A @ v)\n",
    "\n",
    "s = np.linalg.norm(A @ v)\n",
    "\n",
    "assert np.allclose(s, S[0])\n",
    "# Note, that sign of the vector can be flipped\n",
    "assert np.allclose(V[0], v) or np.allclose(V[0], -v)"
   ]
  },
  {
   "cell_type": "markdown",
   "metadata": {},
   "source": [
    "*Task:* improve run time by refactoring `A.T @ A` and repeating loop only untill value of `v` becomes stable."
   ]
  },
  {
   "cell_type": "markdown",
   "metadata": {},
   "source": [
    "Also we can extract u as follows"
   ]
  },
  {
   "cell_type": "code",
   "execution_count": 301,
   "metadata": {},
   "outputs": [],
   "source": [
    "u = A @ v / s\n",
    "\n",
    "assert np.allclose(U[:, 0], u) or np.allclose(U[:, 0], -u)"
   ]
  },
  {
   "cell_type": "markdown",
   "metadata": {},
   "source": [
    "Now we just need to repeat this."
   ]
  },
  {
   "cell_type": "code",
   "execution_count": 302,
   "metadata": {},
   "outputs": [],
   "source": [
    "U_approx = np.zeros((n, k))\n",
    "S_approx = np.zeros(k)\n",
    "V_approx = np.zeros((k, m))\n",
    "\n",
    "# We will modify matrix, thus let's copy it first\n",
    "B = A.copy()\n",
    "\n",
    "for i in range(k):\n",
    "\n",
    "    v = np.random.normal(size=m)\n",
    "    for _ in range(1000):\n",
    "        v = B.T @ B @ v / np.linalg.norm(B.T @ B @ v)\n",
    "\n",
    "    s = np.linalg.norm(B @ v)\n",
    "    u = B @ v / s     \n",
    "    \n",
    "    V_approx[i] = v\n",
    "    S_approx[i] = s\n",
    "    U_approx[:, i] = u\n",
    "\n",
    "    # Trick is to modify original matrix by subtacting dominating component\n",
    "    B -= s * np.outer(u, v)"
   ]
  },
  {
   "cell_type": "markdown",
   "metadata": {},
   "source": [
    "Let's check our result"
   ]
  },
  {
   "cell_type": "code",
   "execution_count": 303,
   "metadata": {},
   "outputs": [],
   "source": [
    "assert np.allclose(S_approx, S)\n",
    "assert np.allclose(np.abs(V_approx), np.abs(V))\n",
    "assert np.allclose(np.abs(U_approx), np.abs(U))"
   ]
  },
  {
   "cell_type": "markdown",
   "metadata": {},
   "source": [
    "Simple!"
   ]
  },
  {
   "cell_type": "markdown",
   "metadata": {},
   "source": [
    "# (re)sources\n",
    "\n",
    "Inspired by [blog post](https://towardsdatascience.com/simple-svd-algorithms-13291ad2eef2#:~:text=General%20formula%20of%20SVD%20is,columns%20are%20left%20singular%20vectors) and [wiki](https://en.wikipedia.org/wiki/Power_iteration)."
   ]
  }
 ],
 "metadata": {
  "kernelspec": {
   "display_name": "Python 3",
   "language": "python",
   "name": "python3"
  },
  "language_info": {
   "codemirror_mode": {
    "name": "ipython",
    "version": 3
   },
   "file_extension": ".py",
   "mimetype": "text/x-python",
   "name": "python",
   "nbconvert_exporter": "python",
   "pygments_lexer": "ipython3",
   "version": "3.7.7"
  }
 },
 "nbformat": 4,
 "nbformat_minor": 4
}
