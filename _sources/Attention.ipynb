{
 "cells": [
  {
   "cell_type": "markdown",
   "id": "9b3e8c8e",
   "metadata": {},
   "source": [
    "# Attention\n",
    "\n",
    "There are problems where fully connected neural nets and CNNs are not suitable. One of the examples is dealing with sequences of different lengths.\n",
    "\n",
    "In this notebook, we will see how Self-Attention can solve the sorting problem. Given an rbitrary length sequence of digits, the task is to return sorted one.\n",
    "\n",
    "```\n",
    "Input:  [1 1 1 8 4 6 8 5 8 2 6]\n",
    "Output: [1 1 1 2 4 5 6 6 8 8 8]\n",
    "```\n",
    "\n",
    "Let's implement the problem using a generator."
   ]
  },
  {
   "cell_type": "code",
   "execution_count": 1,
   "id": "cbf1f3e8",
   "metadata": {},
   "outputs": [
    {
     "name": "stdout",
     "output_type": "stream",
     "text": [
      "Init Plugin\n",
      "Init Graph Optimizer\n",
      "Init Kernel\n"
     ]
    }
   ],
   "source": [
    "import numpy as np\n",
    "import tensorflow as tf\n",
    "from tensorflow.keras.layers import Attention, Input, Dense, LayerNormalization, Flatten, MultiHeadAttention\n",
    "from tensorflow.keras.models import Model\n",
    "import matplotlib.pyplot as plt"
   ]
  },
  {
   "cell_type": "code",
   "execution_count": 2,
   "id": "2ba3422b",
   "metadata": {},
   "outputs": [],
   "source": [
    "one_hot = np.eye(10)\n",
    "\n",
    "def pad(list_of_seq):\n",
    "    N = max([len(seq) for seq in list_of_seq])\n",
    "    return np.stack([np.pad(seq, (0, N - len(seq)))\n",
    "                     for seq in list_of_seq])\n",
    "\n",
    "def generator(max_seq_len, batch_size=32):\n",
    "    while True:\n",
    "        X = [np.random.randint(10, size=np.random.randint(max_seq_len))\n",
    "             for _ in range(batch_size)]\n",
    "        y = [np.sort(x) for x in X]\n",
    "        yield one_hot[pad(X)], one_hot[pad(y)]"
   ]
  },
  {
   "cell_type": "markdown",
   "id": "6b82c635",
   "metadata": {},
   "source": [
    "Now we can take a look at a small batch."
   ]
  },
  {
   "cell_type": "code",
   "execution_count": 3,
   "id": "ad7b9fd1",
   "metadata": {},
   "outputs": [
    {
     "name": "stdout",
     "output_type": "stream",
     "text": [
      "\n",
      "Input:  [7 9 4 0 0 0 0 0 0 0 0]\n",
      "Output: [4 7 9 0 0 0 0 0 0 0 0]\n",
      "\n",
      "Input:  [4 2 0 0 0 0 0 0 0 0 0]\n",
      "Output: [0 2 4 0 0 0 0 0 0 0 0]\n",
      "\n",
      "Input:  [0 8 7 3 8 0 4 5 8 3 3]\n",
      "Output: [0 0 3 3 3 4 5 7 8 8 8]\n",
      "\n",
      "Input:  [5 7 0 5 1 0 5 0 0 0 0]\n",
      "Output: [0 0 1 5 5 5 7 0 0 0 0]\n",
      "\n",
      "Input:  [4 6 3 6 0 0 0 0 0 0 0]\n",
      "Output: [3 4 6 6 0 0 0 0 0 0 0]\n"
     ]
    }
   ],
   "source": [
    "gen = generator(12, batch_size=5)\n",
    "X, y = next(gen)\n",
    "for inp, out in zip(X, y):\n",
    "    print('\\nInput: ', inp.argmax(axis=1))\n",
    "    print('Output:', out.argmax(axis=1))"
   ]
  },
  {
   "cell_type": "markdown",
   "id": "f1f37ebc",
   "metadata": {},
   "source": [
    "Note, that due to the padding this problem becomes even harder since 0 has different interpretations depending on where it is located. It is a good idea to pad with -1's instead, but let's stick with the current implementation to make it more challenging for the model."
   ]
  },
  {
   "cell_type": "markdown",
   "id": "c53018f9-1b10-4f14-9be1-5e0b2bc1f8d5",
   "metadata": {},
   "source": [
    "## Self-Attention\n",
    "\n",
    "In principle idea of self-attention is quite simple. Input vector gets multiplied by three matrixes - $Q, K, V$ to form **Q**uery, **K**ey and **V**alue vectors. Then **Q**uery and **K**ey are combined between the sequences to get weights which are then used to weight **V**alues before summing them up.\n",
    "\n",
    "![Attention](img/self_attention.gif)\n",
    "\n",
    "There are a lot of good explanations online if you want to go deeper and understand the math behind it - https://peterbloem.nl/blog/transformers."
   ]
  },
  {
   "cell_type": "markdown",
   "id": "294a212a-08aa-4853-a46f-04515398e9ab",
   "metadata": {},
   "source": [
    "## Transformer Block\n",
    "\n",
    "To use self-attention effectively we need to harness a couple of tricks. The first is to mix it up with fully connected layers and introduce some skip connections.\n",
    "\n",
    "![Transformer Block](img/transformer_block.png)\n",
    "\n",
    "Since it is possible to repeat Transformer Blocks let's a for loop (for now it will be executed only once)."
   ]
  },
  {
   "cell_type": "code",
   "execution_count": 4,
   "id": "345ecdd2-c5eb-4cd0-bbc5-aa3f66e26dad",
   "metadata": {},
   "outputs": [],
   "source": [
    "def build_model(hidden=32, num_heads=16, num_blocks=1):\n",
    "\n",
    "    inp = Input((None, 10))\n",
    "    emb = Dense(hidden)(inp)\n",
    "\n",
    "    for _ in range(num_blocks):\n",
    "        enc = MultiHeadAttention(num_heads=num_heads, key_dim=hidden)(emb, emb)\n",
    "        enc = LayerNormalization(epsilon=1e-5)(enc + emb)\n",
    "\n",
    "        fcn = Dense(hidden * 4, activation='relu')(enc)\n",
    "        fcn = Dense(hidden)(fcn)\n",
    "        emb = LayerNormalization(epsilon=1e-5)(fcn + enc)\n",
    "\n",
    "    out = Dense(10, activation='softmax')(emb)\n",
    "\n",
    "    model = Model(inp, out)\n",
    "    model.compile(optimizer='adam', loss='categorical_crossentropy')\n",
    "    \n",
    "    return model"
   ]
  },
  {
   "cell_type": "markdown",
   "id": "058b4154",
   "metadata": {},
   "source": [
    "Let's define a helper function that plots sequences and an image and prints out a small sample."
   ]
  },
  {
   "cell_type": "code",
   "execution_count": 5,
   "id": "cbdbd35f-d256-43df-9637-d53dfaed5dff",
   "metadata": {},
   "outputs": [],
   "source": [
    "def eval_model(model, gen, seq_to_print=5):\n",
    "    X, y = next(gen)\n",
    "    pred = model(X).numpy().argmax(axis=-1)\n",
    "    real = y.argmax(axis=-1)\n",
    "    plt.subplot(121)\n",
    "    plt.imshow(pred)\n",
    "    plt.axis('off')\n",
    "    plt.title('Prediction')\n",
    "    plt.subplot(122)\n",
    "    plt.imshow(real)\n",
    "    plt.axis('off')\n",
    "    plt.title('Actual seq')\n",
    "    plt.show()\n",
    "    for p, a in zip(pred[:seq_to_print],\n",
    "                    real[:seq_to_print]):\n",
    "        print('\\nPrediction:', p)\n",
    "        print('Actual seq:', a)"
   ]
  },
  {
   "cell_type": "markdown",
   "id": "4f59b59c",
   "metadata": {},
   "source": [
    "Finally we are ready to train a model."
   ]
  },
  {
   "cell_type": "code",
   "execution_count": 6,
   "id": "8b997cc1-8477-4aa9-900c-abdc363d7111",
   "metadata": {},
   "outputs": [
    {
     "name": "stdout",
     "output_type": "stream",
     "text": [
      "Metal device set to: Apple M1\n"
     ]
    },
    {
     "name": "stderr",
     "output_type": "stream",
     "text": [
      "2022-08-22 21:47:15.419906: I tensorflow/core/common_runtime/pluggable_device/pluggable_device_factory.cc:305] Could not identify NUMA node of platform GPU ID 0, defaulting to 0. Your kernel may not have been built with NUMA support.\n",
      "2022-08-22 21:47:15.420010: I tensorflow/core/common_runtime/pluggable_device/pluggable_device_factory.cc:271] Created TensorFlow device (/job:localhost/replica:0/task:0/device:GPU:0 with 0 MB memory) -> physical PluggableDevice (device: 0, name: METAL, pci bus id: <undefined>)\n",
      "2022-08-22 21:47:15.990242: I tensorflow/compiler/mlir/mlir_graph_optimization_pass.cc:176] None of the MLIR Optimization Passes are enabled (registered 2)\n",
      "2022-08-22 21:47:15.991041: W tensorflow/core/platform/profile_utils/cpu_utils.cc:128] Failed to get CPU frequency: 0 Hz\n"
     ]
    },
    {
     "name": "stdout",
     "output_type": "stream",
     "text": [
      "Epoch 1/10\n"
     ]
    },
    {
     "name": "stderr",
     "output_type": "stream",
     "text": [
      "2022-08-22 21:47:16.233765: I tensorflow/core/grappler/optimizers/custom_graph_optimizer_registry.cc:112] Plugin optimizer for device_type GPU is enabled.\n"
     ]
    },
    {
     "name": "stdout",
     "output_type": "stream",
     "text": [
      "200/200 [==============================] - 8s 36ms/step - loss: 1.1721\n",
      "Epoch 2/10\n",
      "200/200 [==============================] - 7s 37ms/step - loss: 1.0920\n",
      "Epoch 3/10\n",
      "200/200 [==============================] - 8s 38ms/step - loss: 1.0749\n",
      "Epoch 4/10\n",
      "200/200 [==============================] - 8s 39ms/step - loss: 1.0552\n",
      "Epoch 5/10\n",
      "200/200 [==============================] - 8s 39ms/step - loss: 1.0364\n",
      "Epoch 6/10\n",
      "200/200 [==============================] - 8s 38ms/step - loss: 1.0297\n",
      "Epoch 7/10\n",
      "200/200 [==============================] - 8s 38ms/step - loss: 1.0499\n",
      "Epoch 8/10\n",
      "200/200 [==============================] - 8s 38ms/step - loss: 1.0398\n",
      "Epoch 9/10\n",
      "200/200 [==============================] - 7s 37ms/step - loss: 1.0212\n",
      "Epoch 10/10\n",
      "200/200 [==============================] - 8s 38ms/step - loss: 1.0447\n"
     ]
    },
    {
     "data": {
      "image/png": "[encoded data removed]",
      "text/plain": [
       "<Figure size 432x288 with 2 Axes>"
      ]
     },
     "metadata": {
      "needs_background": "light"
     },
     "output_type": "display_data"
    },
    {
     "name": "stdout",
     "output_type": "stream",
     "text": [
      "\n",
      "Prediction: [7 7 7 7 7 7 7 7 7 7 7 7 7 7 7 7 0 0 0]\n",
      "Actual seq: [1 2 2 3 4 4 4 5 6 6 7 7 7 7 8 9 0 0 0]\n",
      "\n",
      "Prediction: [1 1 5 1 1 1 1 1 1 5 5 1 0 0 0 0 0 0 0]\n",
      "Actual seq: [1 1 3 4 5 5 6 7 7 8 9 9 0 0 0 0 0 0 0]\n",
      "\n",
      "Prediction: [7 7 7 7 7 0 0 0 0 0 0 0 0 0 0 0 0 0 0]\n",
      "Actual seq: [2 7 7 8 9 0 0 0 0 0 0 0 0 0 0 0 0 0 0]\n",
      "\n",
      "Prediction: [3 3 2 3 0 7 0 0 0 0 0 0 0 0 0 0 0 0 0]\n",
      "Actual seq: [0 2 3 5 7 9 0 0 0 0 0 0 0 0 0 0 0 0 0]\n",
      "\n",
      "Prediction: [9 9 9 9 9 9 9 9 9 9 9 9 0 0 0 0 0 0 0]\n",
      "Actual seq: [1 4 4 5 5 6 7 7 8 9 9 9 0 0 0 0 0 0 0]\n"
     ]
    }
   ],
   "source": [
    "gen = generator(max_seq_len=20)\n",
    "\n",
    "model = build_model()\n",
    "model.fit(gen, steps_per_epoch=200, epochs=10)\n",
    "\n",
    "eval_model(model, gen)"
   ]
  },
  {
   "cell_type": "markdown",
   "id": "a8e6f729-5c19-4637-9580-5010bcf35dad",
   "metadata": {},
   "source": [
    "At this point, the model can learn to deal with sequence length and can pick the element that is most common but fails with sorting problem... Clearly, we lack something that allows the model to learn sequential nature.\n",
    "\n",
    "## Positional Embeddings\n",
    "\n",
    "To resolve the problem we will add random weights for each position! We fix those *positional embeddings* before generating sequences and then add them to the inputs. The code below should be self-explanatory. "
   ]
  },
  {
   "cell_type": "code",
   "execution_count": 7,
   "id": "72c8217d-1963-4985-a86a-11907c016eb0",
   "metadata": {},
   "outputs": [],
   "source": [
    "def positional_generator(max_seq_len):\n",
    "    positional_embedding = np.random.random((max_seq_len, 10))\n",
    "    gen = generator(max_seq_len)\n",
    "    while True:\n",
    "        X, y = next(gen)\n",
    "        N = y.shape[1]\n",
    "        X += positional_embedding[:N]\n",
    "        yield X, y"
   ]
  },
  {
   "cell_type": "markdown",
   "id": "5bf9aec5",
   "metadata": {},
   "source": [
    "Let's retrain the model using updated generator."
   ]
  },
  {
   "cell_type": "code",
   "execution_count": 8,
   "id": "7f18d00b-29d2-414c-8300-04253b92ad24",
   "metadata": {},
   "outputs": [
    {
     "name": "stdout",
     "output_type": "stream",
     "text": [
      "Epoch 1/10\n",
      "  1/200 [..............................] - ETA: 1:21 - loss: 2.2106"
     ]
    },
    {
     "name": "stderr",
     "output_type": "stream",
     "text": [
      "2022-08-22 21:48:32.104336: I tensorflow/core/grappler/optimizers/custom_graph_optimizer_registry.cc:112] Plugin optimizer for device_type GPU is enabled.\n"
     ]
    },
    {
     "name": "stdout",
     "output_type": "stream",
     "text": [
      "200/200 [==============================] - 8s 37ms/step - loss: 1.1802\n",
      "Epoch 2/10\n",
      "200/200 [==============================] - 7s 37ms/step - loss: 0.8474\n",
      "Epoch 3/10\n",
      "200/200 [==============================] - 7s 36ms/step - loss: 0.7291\n",
      "Epoch 4/10\n",
      "200/200 [==============================] - 7s 36ms/step - loss: 0.6720\n",
      "Epoch 5/10\n",
      "200/200 [==============================] - 7s 37ms/step - loss: 0.6303\n",
      "Epoch 6/10\n",
      "200/200 [==============================] - 7s 36ms/step - loss: 0.5987\n",
      "Epoch 7/10\n",
      "200/200 [==============================] - 7s 36ms/step - loss: 0.5833\n",
      "Epoch 8/10\n",
      "200/200 [==============================] - 7s 37ms/step - loss: 0.5571\n",
      "Epoch 9/10\n",
      "200/200 [==============================] - 7s 37ms/step - loss: 0.5374\n",
      "Epoch 10/10\n",
      "200/200 [==============================] - 8s 38ms/step - loss: 0.5235\n"
     ]
    },
    {
     "data": {
      "image/png": "[encoded data removed]",
      "text/plain": [
       "<Figure size 432x288 with 2 Axes>"
      ]
     },
     "metadata": {
      "needs_background": "light"
     },
     "output_type": "display_data"
    },
    {
     "name": "stdout",
     "output_type": "stream",
     "text": [
      "\n",
      "Prediction: [0 1 1 1 1 2 2 3 2 6 6 6 6 7 7 7 8 8 7]\n",
      "Actual seq: [0 0 1 1 1 2 2 2 3 3 4 6 6 6 7 7 7 8 8]\n",
      "\n",
      "Prediction: [1 4 4 4 4 4 4 5 5 5 5 7 7 7 9 9 9 0 9]\n",
      "Actual seq: [0 1 3 3 4 4 4 4 5 5 5 6 7 7 7 8 9 9 9]\n",
      "\n",
      "Prediction: [1 1 1 3 3 7 7 0 0 8 0 0 0 0 0 0 0 0 0]\n",
      "Actual seq: [0 0 0 1 1 2 3 5 6 7 8 0 0 0 0 0 0 0 0]\n",
      "\n",
      "Prediction: [0 1 3 3 3 7 5 7 7 7 8 8 8 8 8 8 9 0 0]\n",
      "Actual seq: [1 2 3 5 5 6 7 7 7 7 7 8 8 8 8 8 8 0 0]\n",
      "\n",
      "Prediction: [0 1 2 4 4 4 4 4 7 8 8 8 8 8 0 0 0 0 0]\n",
      "Actual seq: [0 1 2 4 4 4 5 6 7 7 8 8 8 9 0 0 0 0 0]\n"
     ]
    }
   ],
   "source": [
    "gen = positional_generator(max_seq_len=20)\n",
    "\n",
    "model = build_model()\n",
    "model.fit(gen, steps_per_epoch=200, epochs=10)\n",
    "\n",
    "eval_model(model, gen)"
   ]
  },
  {
   "cell_type": "markdown",
   "id": "ae1d1717",
   "metadata": {},
   "source": [
    "Much better! You can try to remove the attention layer to convince yourself that this net will fail without it."
   ]
  },
  {
   "cell_type": "markdown",
   "id": "8e4800e5-1acc-4e34-a11a-e181b5d5a3b9",
   "metadata": {},
   "source": [
    "## Final Architecture\n",
    "\n",
    "For sure we can add more layers to get more power. It's already implemented above, we just need to pass `num_blocks=3` when constructing the model.\n",
    "\n",
    "![Transformer Block](img/transformer.png)"
   ]
  },
  {
   "cell_type": "code",
   "execution_count": 9,
   "id": "ecb53ce9-ec6c-4daf-8d82-291cc5517a17",
   "metadata": {},
   "outputs": [
    {
     "name": "stdout",
     "output_type": "stream",
     "text": [
      "Epoch 1/10\n"
     ]
    },
    {
     "name": "stderr",
     "output_type": "stream",
     "text": [
      "2022-08-22 21:49:46.419997: I tensorflow/core/grappler/optimizers/custom_graph_optimizer_registry.cc:112] Plugin optimizer for device_type GPU is enabled.\n"
     ]
    },
    {
     "name": "stdout",
     "output_type": "stream",
     "text": [
      "200/200 [==============================] - 20s 94ms/step - loss: 1.0445\n",
      "Epoch 2/10\n",
      "200/200 [==============================] - 19s 94ms/step - loss: 0.5815\n",
      "Epoch 3/10\n",
      "200/200 [==============================] - 19s 93ms/step - loss: 0.4544\n",
      "Epoch 4/10\n",
      "200/200 [==============================] - 19s 93ms/step - loss: 0.3942\n",
      "Epoch 5/10\n",
      "200/200 [==============================] - 19s 94ms/step - loss: 0.3435\n",
      "Epoch 6/10\n",
      "200/200 [==============================] - 19s 94ms/step - loss: 0.3268\n",
      "Epoch 7/10\n",
      "200/200 [==============================] - 19s 94ms/step - loss: 0.2976\n",
      "Epoch 8/10\n",
      "200/200 [==============================] - 19s 96ms/step - loss: 0.2707\n",
      "Epoch 9/10\n",
      "200/200 [==============================] - 19s 96ms/step - loss: 0.2787\n",
      "Epoch 10/10\n",
      "200/200 [==============================] - 19s 97ms/step - loss: 0.2496\n"
     ]
    },
    {
     "data": {
      "image/png": "[encoded data removed]",
      "text/plain": [
       "<Figure size 432x288 with 2 Axes>"
      ]
     },
     "metadata": {
      "needs_background": "light"
     },
     "output_type": "display_data"
    },
    {
     "name": "stdout",
     "output_type": "stream",
     "text": [
      "\n",
      "Prediction: [0 1 3 7 7 8 0 0 0 0 0 0 0 0 0 0 0 0 0]\n",
      "Actual seq: [0 1 3 7 7 8 0 0 0 0 0 0 0 0 0 0 0 0 0]\n",
      "\n",
      "Prediction: [2 3 0 0 0 0 0 0 0 0 0 0 0 0 0 0 0 0 0]\n",
      "Actual seq: [2 3 0 0 0 0 0 0 0 0 0 0 0 0 0 0 0 0 0]\n",
      "\n",
      "Prediction: [0 0 1 2 2 2 3 3 5 4 5 5 5 7 7 9 9 9 0]\n",
      "Actual seq: [0 0 1 2 2 3 3 3 4 4 5 5 5 5 7 9 9 9 0]\n",
      "\n",
      "Prediction: [0 3 3 5 7 7 8 8 9 0 0 0 0 0 0 0 0 0 0]\n",
      "Actual seq: [0 3 4 5 7 7 8 8 9 0 0 0 0 0 0 0 0 0 0]\n",
      "\n",
      "Prediction: [0 0 0 0 0 2 7 8 8 9 0 0 0 0 0 0 0 0 0]\n",
      "Actual seq: [0 0 0 0 1 2 7 8 8 9 0 0 0 0 0 0 0 0 0]\n"
     ]
    }
   ],
   "source": [
    "gen = positional_generator(max_seq_len=20)\n",
    "\n",
    "model = build_model(num_blocks=3)\n",
    "model.fit(gen, steps_per_epoch=200, epochs=10)\n",
    "\n",
    "eval_model(model, gen)"
   ]
  },
  {
   "cell_type": "markdown",
   "id": "fe1422bf",
   "metadata": {},
   "source": [
    "Training is still quite fast and this time results are nearly perfect. From time to time model messes up with zeros, but that is expected as discussed in the problem formulation."
   ]
  },
  {
   "cell_type": "markdown",
   "id": "3204a349-8d1e-43a5-a7f4-0f3dbf9334a8",
   "metadata": {
    "tags": []
   },
   "source": [
    "## Age of Transformers\n",
    "\n",
    "Attention is widely used for language and is finding its way into language, voice, vision, and basically any field that uses sequences or can be expressed as a sequence. It was popularized with a paper named [Attention Is All You Need](https://arxiv.org/abs/1706.03762). Usually similarly to autoencoders, there is a block that encodes input data followed by a decoder. It can be from the same domain, for example as in translation problems, but even more interestingly it can be different domains, for example, encoding text and then decoding it as an image!\n",
    "\n",
    "Widely known [GPT-3](https://openai.com/api/) used Transformers with attention to creating stunning text completions that can seam intelligent. It is common to see attention used in summarization, [translation](https://www.deepl.com/translator), and text classification solutions. [DALL-E 2](https://openai.com/dall-e-2/) as well as [midjourney](https://www.midjourney.com/showcase/) used them to create stunning art from the text descriptions.\n",
    "\n",
    "\n",
    "## (re)Sources:\n",
    "\n",
    "- Good explanation - https://peterbloem.nl/blog/transformers.\n",
    "- More simple examples - https://github.com/greentfrapp/attention-primer.\n",
    "- [Attention Is All You Need](https://arxiv.org/abs/1706.03762)"
   ]
  }
 ],
 "metadata": {
  "kernelspec": {
   "display_name": "Python 3 (ipykernel)",
   "language": "python",
   "name": "python3"
  },
  "language_info": {
   "codemirror_mode": {
    "name": "ipython",
    "version": 3
   },
   "file_extension": ".py",
   "mimetype": "text/x-python",
   "name": "python",
   "nbconvert_exporter": "python",
   "pygments_lexer": "ipython3",
   "version": "3.9.6"
  }
 },
 "nbformat": 4,
 "nbformat_minor": 5
}
