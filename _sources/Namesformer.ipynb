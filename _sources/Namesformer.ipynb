{
 "cells": [
  {
   "cell_type": "markdown",
   "id": "f314f8d9",
   "metadata": {},
   "source": [
    "# Namesformer\n",
    "\n",
    "Inspired by Andrej Karpathy lecture [makemore](https://www.youtube.com/watch?v=PaCmpygFfXo&t=131s) that contains english name generation. \n",
    "\n",
    "The code was fully writen using ChatGPT with minimal corrections. My first query was:\n",
    "\n",
    "```\n",
    "I am preparing a lecture for my students on AI basics. They already know how to use attention in keras to create self-attention layers. What I want to explain them is how to make a simplest possible transformer architecture (with minimal amount of code).\n",
    " As a dataset I will use a csv with names:\n",
    "    john\n",
    "    peter\n",
    "    mike\n",
    "    ...\n",
    "And the goal will be to generate more names that sound name-like.\n",
    "Give me an implementation with PyTorch trying to keep it as minimal as possible.\n",
    "```\n",
    "\n",
    "After that I had to ask for couple corrections, like avoiding using Transformer layer, adding comments, fixing a bug in token indexing. All were relatively easy to spot and in less than an hour this notebook was generating plausibly sounding names.\n",
    "\n",
    "I decided to replace original dataset since I found a list of Lithuanian names that are easy to extract from [vardai.vlkk.lt](vardai.vlkk.lt) using the following code snippet:\n",
    "\n",
    "```python\n",
    "import requests\n",
    "from bs4 import BeautifulSoup\n",
    "\n",
    "names = []\n",
    "for key in ['a', 'b', 'c', 'c-2', 'd', 'e', 'f', 'g', 'h', 'i', 'j', 'k', 'l',\n",
    "            'm', 'n', 'o', 'p', 'r', 's', 's-2', 't', 'u', 'v', 'z', 'z-2']:\n",
    "    url = f'https://vardai.vlkk.lt/sarasas/{key}/'\n",
    "    response = requests.get(url)\n",
    "    soup = BeautifulSoup(response.text, 'html.parser')\n",
    "    links = soup.find_all('a', class_='names_list__links names_list__links--man')\n",
    "    names += [name.text for name in links]\n",
    "```\n",
    "\n",
    "If you want to play with english names download them from [here](https://github.com/karpathy/makemore/blob/master/names.txt) and use *names.txt* instead of *vardai.txt*."
   ]
  },
  {
   "cell_type": "code",
   "execution_count": 13,
   "id": "9c33fbd2",
   "metadata": {},
   "outputs": [],
   "source": [
    "import torch\n",
    "import torch.nn as nn\n",
    "import torch.optim as optim\n",
    "import numpy as np\n",
    "import pandas as pd\n",
    "import matplotlib.pyplot as plt\n",
    "from torch.utils.data import DataLoader, Dataset\n",
    "from torch.nn.utils.rnn import pad_sequence"
   ]
  },
  {
   "cell_type": "code",
   "execution_count": 14,
   "id": "fd97ee0d",
   "metadata": {},
   "outputs": [
    {
     "data": {
      "text/plain": [
       "array(['Ãbas', 'Ãbdijus', 'Abdònas', ..., 'Žilvynas', 'Žimantas',\n",
       "       'Žydrunas'], dtype=object)"
      ]
     },
     "execution_count": 14,
     "metadata": {},
     "output_type": "execute_result"
    }
   ],
   "source": [
    "names = pd.read_csv('vardai.txt')['name'].values\n",
    "names"
   ]
  },
  {
   "cell_type": "code",
   "execution_count": 15,
   "id": "9ec9c427",
   "metadata": {},
   "outputs": [
    {
     "data": {
      "text/plain": [
       "3495"
      ]
     },
     "execution_count": 15,
     "metadata": {},
     "output_type": "execute_result"
    }
   ],
   "source": [
    "len(names)"
   ]
  },
  {
   "cell_type": "markdown",
   "id": "c53d51df",
   "metadata": {},
   "source": [
    "Let's add a space at the end to mark the end of the name"
   ]
  },
  {
   "cell_type": "code",
   "execution_count": 16,
   "id": "eb821fc0",
   "metadata": {},
   "outputs": [],
   "source": [
    "names += ' '"
   ]
  },
  {
   "cell_type": "code",
   "execution_count": 17,
   "id": "81f147f9",
   "metadata": {},
   "outputs": [
    {
     "data": {
      "text/plain": [
       "'Ãbas '"
      ]
     },
     "execution_count": 17,
     "metadata": {},
     "output_type": "execute_result"
    }
   ],
   "source": [
    "names[0]"
   ]
  },
  {
   "cell_type": "markdown",
   "id": "d597d5eb",
   "metadata": {},
   "source": [
    "Note that this dataset is not simple since it uses accentuation symbols and capital letters. Let's intentionally keep it like this and see if the model can figure it out."
   ]
  },
  {
   "cell_type": "markdown",
   "id": "9a9739b2",
   "metadata": {},
   "source": [
    "Our transformer will be based on the self-attention."
   ]
  },
  {
   "cell_type": "code",
   "execution_count": 26,
   "id": "3b92cfe1-d9d4-4e61-be53-509694f98c7c",
   "metadata": {},
   "outputs": [
    {
     "data": {
      "text/plain": [
       "83"
      ]
     },
     "execution_count": 26,
     "metadata": {},
     "output_type": "execute_result"
    }
   ],
   "source": [
    "dataset.vocab_size"
   ]
  },
  {
   "cell_type": "code",
   "execution_count": 27,
   "id": "e1ef2ed7-4f30-4a90-ae5f-61243568cb94",
   "metadata": {},
   "outputs": [
    {
     "data": {
      "text/plain": [
       "83"
      ]
     },
     "execution_count": 27,
     "metadata": {},
     "output_type": "execute_result"
    }
   ],
   "source": [
    "len(dataset.int_to_char)"
   ]
  },
  {
   "cell_type": "code",
   "execution_count": 18,
   "id": "5a252583",
   "metadata": {},
   "outputs": [
    {
     "name": "stderr",
     "output_type": "stream",
     "text": [
      "/opt/homebrew/Caskroom/miniforge/base/envs/torch/lib/python3.10/site-packages/torch/nn/modules/transformer.py:286: UserWarning: enable_nested_tensor is True, but self.use_nested_tensor is False because encoder_layer.self_attn.batch_first was not True(use batch_first for better inference performance)\n",
      "  warnings.warn(f\"enable_nested_tensor is True, but self.use_nested_tensor is False because {why_not_sparsity_fast_path}\")\n"
     ]
    },
    {
     "name": "stdout",
     "output_type": "stream",
     "text": [
      "Epoch 1, Average Loss: 1.5661300399086693\n",
      "Epoch 2, Average Loss: 1.3030138059095904\n",
      "Epoch 3, Average Loss: 1.274652126160535\n",
      "Epoch 4, Average Loss: 1.2546222600069914\n",
      "Epoch 5, Average Loss: 1.2314461583440954\n",
      "Epoch 6, Average Loss: 1.22686504017223\n",
      "Epoch 7, Average Loss: 1.2192441631447186\n",
      "Epoch 8, Average Loss: 1.2121069810607217\n",
      "Epoch 9, Average Loss: 1.2129392515529285\n",
      "Epoch 10, Average Loss: 1.2083363023671236\n"
     ]
    }
   ],
   "source": [
    "# Adjusted NameDataset\n",
    "class NameDataset(Dataset):\n",
    "    def __init__(self, csv_file):\n",
    "        self.names = pd.read_csv('vardai.txt')['name'].values\n",
    "        self.chars = sorted(list(set(''.join(self.names) + ' ')))  # Including a padding character\n",
    "        self.char_to_int = {c: i for i, c in enumerate(self.chars)}\n",
    "        self.int_to_char = {i: c for c, i in self.char_to_int.items()}\n",
    "        self.vocab_size = len(self.chars)\n",
    "\n",
    "    def __len__(self):\n",
    "        return len(self.names)\n",
    "\n",
    "    def __getitem__(self, idx):\n",
    "        name = self.names[idx] + ' '  # Adding padding character at the end\n",
    "        encoded_name = [self.char_to_int[char] for char in name]\n",
    "        return torch.tensor(encoded_name)\n",
    "\n",
    "# Custom collate function for padding\n",
    "def pad_collate(batch):\n",
    "    padded_seqs = pad_sequence(batch, batch_first=True, padding_value=0)\n",
    "    input_seq = padded_seqs[:, :-1]\n",
    "    target_seq = padded_seqs[:, 1:]\n",
    "    return input_seq, target_seq\n",
    "\n",
    "# Minimal Transformer Model\n",
    "class MinimalTransformer(nn.Module):\n",
    "    def __init__(self, vocab_size, embed_size, num_heads, forward_expansion):\n",
    "        super(MinimalTransformer, self).__init__()\n",
    "        self.embed = nn.Embedding(vocab_size, embed_size)\n",
    "        self.positional_encoding = nn.Parameter(torch.randn(1, 100, embed_size))\n",
    "        self.encoder_layer = nn.TransformerEncoderLayer(d_model=embed_size, nhead=num_heads)\n",
    "        self.transformer_encoder = nn.TransformerEncoder(self.encoder_layer, num_layers=1)\n",
    "        self.output_layer = nn.Linear(embed_size, vocab_size)\n",
    "\n",
    "    def forward(self, x):\n",
    "        positions = torch.arange(0, x.size(1)).unsqueeze(0)\n",
    "        x = self.embed(x) + self.positional_encoding[:, :x.size(1), :]\n",
    "        x = self.transformer_encoder(x)\n",
    "        x = self.output_layer(x)\n",
    "        return x\n",
    "\n",
    "# Training Loop\n",
    "def train_model(model, dataloader, epochs=10):\n",
    "    criterion = nn.CrossEntropyLoss()\n",
    "    optimizer = optim.Adam(model.parameters())\n",
    "\n",
    "    for epoch in range(epochs):\n",
    "        model.train()  # Ensure the model is in training mode\n",
    "        total_loss = 0.0\n",
    "        batch_count = 0\n",
    "\n",
    "        for batch_idx, (input_seq, target_seq) in enumerate(dataloader):\n",
    "            optimizer.zero_grad()\n",
    "            output = model(input_seq)\n",
    "            loss = criterion(output.transpose(1, 2), target_seq)\n",
    "            loss.backward()\n",
    "            optimizer.step()\n",
    "            \n",
    "            total_loss += loss.item()\n",
    "            batch_count += 1\n",
    "\n",
    "        average_loss = total_loss / batch_count\n",
    "        print(f'Epoch {epoch+1}, Average Loss: {average_loss}')\n",
    "\n",
    "\n",
    "csv_file = 'vardai.txt'\n",
    "dataset = NameDataset(csv_file)\n",
    "dataloader = DataLoader(dataset, batch_size=32, shuffle=True, collate_fn=pad_collate)\n",
    "model = MinimalTransformer(vocab_size=dataset.vocab_size, embed_size=128, num_heads=8, forward_expansion=4)\n",
    "train_model(model, dataloader)"
   ]
  },
  {
   "cell_type": "markdown",
   "id": "fefca499",
   "metadata": {},
   "source": [
    "And generate a name by predicing the next letter."
   ]
  },
  {
   "cell_type": "code",
   "execution_count": 19,
   "id": "bd5ee5ed",
   "metadata": {},
   "outputs": [
    {
     "name": "stdout",
     "output_type": "stream",
     "text": [
      "Regontas\n",
      "Rongonis\n",
      "Rẽšvijus\n",
      "Ralijijus\n",
      "Rugaustinas\n",
      "Rámeñtas\n",
      "Raùcius\n",
      "Rigū̃sintas\n",
      "Rùntis\n",
      "Rorū́lis\n"
     ]
    }
   ],
   "source": [
    "def sample(model, dataset, start_str='a', max_length=20):\n",
    "    model.eval()  # Switch to evaluation mode\n",
    "    with torch.no_grad():\n",
    "        # Convert start string to tensor\n",
    "        chars = [dataset.char_to_int[c] for c in start_str]\n",
    "        input_seq = torch.tensor(chars).unsqueeze(0)  # Add batch dimension\n",
    "        \n",
    "        output_name = start_str\n",
    "        for _ in range(max_length - len(start_str)):\n",
    "            output = model(input_seq)\n",
    "            \n",
    "            # Get the last character from the output\n",
    "            probabilities = torch.softmax(output[0, -1], dim=0)\n",
    "            # Sample a character from the probability distribution\n",
    "            next_char_idx = torch.multinomial(probabilities, 1).item()\n",
    "            next_char = dataset.int_to_char[next_char_idx]\n",
    "            \n",
    "            if next_char == ' ':  # Assume ' ' is your end-of-sequence character\n",
    "                break\n",
    "            \n",
    "            output_name += next_char\n",
    "            # Update the input sequence for the next iteration\n",
    "            input_seq = torch.cat([input_seq, torch.tensor([[next_char_idx]])], dim=1)\n",
    "        \n",
    "        return output_name\n",
    "\n",
    "# After training your model, generate a name starting with a specific letter\n",
    "for _ in range(10):\n",
    "    generated_name = sample(model, dataset, start_str='R')\n",
    "    print(generated_name)"
   ]
  },
  {
   "cell_type": "markdown",
   "id": "e3b6a045",
   "metadata": {},
   "source": [
    "Not bad! Note that this name is not in our names list."
   ]
  },
  {
   "cell_type": "code",
   "execution_count": 20,
   "id": "400ad854",
   "metadata": {},
   "outputs": [
    {
     "data": {
      "text/plain": [
       "'Rorū́lis'"
      ]
     },
     "execution_count": 20,
     "metadata": {},
     "output_type": "execute_result"
    }
   ],
   "source": [
    "generated_name"
   ]
  },
  {
   "cell_type": "code",
   "execution_count": 21,
   "id": "424c0507",
   "metadata": {},
   "outputs": [
    {
     "data": {
      "text/plain": [
       "False"
      ]
     },
     "execution_count": 21,
     "metadata": {},
     "output_type": "execute_result"
    }
   ],
   "source": [
    "generated_name + ' ' in names"
   ]
  },
  {
   "cell_type": "markdown",
   "id": "47f2c232",
   "metadata": {},
   "source": [
    "Let's train for longer."
   ]
  },
  {
   "cell_type": "code",
   "execution_count": 22,
   "id": "a391f399",
   "metadata": {},
   "outputs": [
    {
     "name": "stdout",
     "output_type": "stream",
     "text": [
      "Epoch 1, Average Loss: 1.2126153149388053\n",
      "Epoch 2, Average Loss: 1.2008646195585078\n",
      "Epoch 3, Average Loss: 1.2044431323354894\n",
      "Epoch 4, Average Loss: 1.2084777745333586\n",
      "Epoch 5, Average Loss: 1.2039412173357877\n",
      "Epoch 6, Average Loss: 1.2010385670445183\n",
      "Epoch 7, Average Loss: 1.2084186375141144\n",
      "Epoch 8, Average Loss: 1.2009209258989855\n",
      "Epoch 9, Average Loss: 1.1919255847280676\n",
      "Epoch 10, Average Loss: 1.196088556809859\n",
      "Epoch 11, Average Loss: 1.1934009887955406\n",
      "Epoch 12, Average Loss: 1.1910438266667454\n",
      "Epoch 13, Average Loss: 1.1883929929950021\n",
      "Epoch 14, Average Loss: 1.18849547884681\n",
      "Epoch 15, Average Loss: 1.1841346204280854\n",
      "Epoch 16, Average Loss: 1.1886381100524555\n",
      "Epoch 17, Average Loss: 1.1862260487946596\n",
      "Epoch 18, Average Loss: 1.1879008596593683\n",
      "Epoch 19, Average Loss: 1.1960965817624873\n",
      "Epoch 20, Average Loss: 1.182948770306327\n",
      "Epoch 21, Average Loss: 1.1842969905246388\n",
      "Epoch 22, Average Loss: 1.184790024432269\n",
      "Epoch 23, Average Loss: 1.181914219531146\n",
      "Epoch 24, Average Loss: 1.1763226807117462\n",
      "Epoch 25, Average Loss: 1.179220708391883\n",
      "Epoch 26, Average Loss: 1.1783306847919117\n",
      "Epoch 27, Average Loss: 1.1771398804404518\n",
      "Epoch 28, Average Loss: 1.1773126699707726\n",
      "Epoch 29, Average Loss: 1.176071114431728\n",
      "Epoch 30, Average Loss: 1.1774945611303502\n",
      "Epoch 31, Average Loss: 1.1753104345365004\n",
      "Epoch 32, Average Loss: 1.1693926020102068\n",
      "Epoch 33, Average Loss: 1.1799512798135932\n",
      "Epoch 34, Average Loss: 1.1740663609721445\n",
      "Epoch 35, Average Loss: 1.1694568932056426\n",
      "Epoch 36, Average Loss: 1.1811962263150648\n",
      "Epoch 37, Average Loss: 1.17307439067147\n",
      "Epoch 38, Average Loss: 1.176123644547029\n",
      "Epoch 39, Average Loss: 1.1735039640556681\n",
      "Epoch 40, Average Loss: 1.1717253424904563\n",
      "Epoch 41, Average Loss: 1.177093555168672\n",
      "Epoch 42, Average Loss: 1.171743896332654\n",
      "Epoch 43, Average Loss: 1.1714473003690893\n",
      "Epoch 44, Average Loss: 1.1676099918105385\n",
      "Epoch 45, Average Loss: 1.1768520918759433\n",
      "Epoch 46, Average Loss: 1.173742602630095\n",
      "Epoch 47, Average Loss: 1.180647957866842\n",
      "Epoch 48, Average Loss: 1.1670065533031118\n",
      "Epoch 49, Average Loss: 1.1708998994393782\n",
      "Epoch 50, Average Loss: 1.174356814406135\n",
      "Epoch 51, Average Loss: 1.171154983477159\n",
      "Epoch 52, Average Loss: 1.1716643262993205\n",
      "Epoch 53, Average Loss: 1.1670574442906814\n",
      "Epoch 54, Average Loss: 1.1785864970900797\n",
      "Epoch 55, Average Loss: 1.1648033169182863\n",
      "Epoch 56, Average Loss: 1.1688325421376662\n",
      "Epoch 57, Average Loss: 1.17388866760514\n",
      "Epoch 58, Average Loss: 1.1666124620220877\n",
      "Epoch 59, Average Loss: 1.172797761180184\n",
      "Epoch 60, Average Loss: 1.176192511211742\n",
      "Epoch 61, Average Loss: 1.169443035667593\n",
      "Epoch 62, Average Loss: 1.1800002092664892\n",
      "Epoch 63, Average Loss: 1.171481213244525\n",
      "Epoch 64, Average Loss: 1.1669982026923786\n",
      "Epoch 65, Average Loss: 1.1764582509344275\n",
      "Epoch 66, Average Loss: 1.163921559940685\n",
      "Epoch 67, Average Loss: 1.1642179787158966\n",
      "Epoch 68, Average Loss: 1.1651612466031855\n",
      "Epoch 69, Average Loss: 1.1650332786820152\n",
      "Epoch 70, Average Loss: 1.1688154946674\n",
      "Epoch 71, Average Loss: 1.1705795759504491\n",
      "Epoch 72, Average Loss: 1.1614629257809033\n",
      "Epoch 73, Average Loss: 1.1699370909820903\n",
      "Epoch 74, Average Loss: 1.1682413280010224\n",
      "Epoch 75, Average Loss: 1.1624731887470592\n",
      "Epoch 76, Average Loss: 1.1658373101191086\n",
      "Epoch 77, Average Loss: 1.1636967192996632\n",
      "Epoch 78, Average Loss: 1.1620631938630885\n",
      "Epoch 79, Average Loss: 1.1607454305345362\n",
      "Epoch 80, Average Loss: 1.1687679886817932\n",
      "Epoch 81, Average Loss: 1.1678154587745666\n",
      "Epoch 82, Average Loss: 1.1654754454439336\n",
      "Epoch 83, Average Loss: 1.155006990107623\n",
      "Epoch 84, Average Loss: 1.163443606008183\n",
      "Epoch 85, Average Loss: 1.1602861404418945\n",
      "Epoch 86, Average Loss: 1.167173838073557\n",
      "Epoch 87, Average Loss: 1.1719990968704224\n",
      "Epoch 88, Average Loss: 1.1669102771715685\n",
      "Epoch 89, Average Loss: 1.1618749781088396\n",
      "Epoch 90, Average Loss: 1.165453993732279\n",
      "Epoch 91, Average Loss: 1.1623399273915724\n",
      "Epoch 92, Average Loss: 1.1563565720211375\n",
      "Epoch 93, Average Loss: 1.163650984655727\n",
      "Epoch 94, Average Loss: 1.1724212256344881\n",
      "Epoch 95, Average Loss: 1.167005370421843\n",
      "Epoch 96, Average Loss: 1.1674671113491057\n",
      "Epoch 97, Average Loss: 1.1701534655961123\n",
      "Epoch 98, Average Loss: 1.1644188783385536\n",
      "Epoch 99, Average Loss: 1.1655203813856299\n",
      "Epoch 100, Average Loss: 1.1715436978773637\n",
      "Epoch 101, Average Loss: 1.1552146738225764\n",
      "Epoch 102, Average Loss: 1.1608184684406628\n",
      "Epoch 103, Average Loss: 1.159850030595606\n",
      "Epoch 104, Average Loss: 1.1684163879264484\n",
      "Epoch 105, Average Loss: 1.1663107931613923\n",
      "Epoch 106, Average Loss: 1.158122861927206\n",
      "Epoch 107, Average Loss: 1.1624844074249268\n",
      "Epoch 108, Average Loss: 1.1574821585958655\n",
      "Epoch 109, Average Loss: 1.1655770285563036\n",
      "Epoch 110, Average Loss: 1.1647455410523848\n",
      "Epoch 111, Average Loss: 1.1573507780378516\n",
      "Epoch 112, Average Loss: 1.1607191784815354\n",
      "Epoch 113, Average Loss: 1.1629504626447504\n",
      "Epoch 114, Average Loss: 1.1642750745469874\n",
      "Epoch 115, Average Loss: 1.1613674646074121\n",
      "Epoch 116, Average Loss: 1.166970002109354\n",
      "Epoch 117, Average Loss: 1.1576437251134353\n",
      "Epoch 118, Average Loss: 1.1650751937519421\n",
      "Epoch 119, Average Loss: 1.1617956735871056\n",
      "Epoch 120, Average Loss: 1.164371263439005\n",
      "Epoch 121, Average Loss: 1.1629116388884457\n",
      "Epoch 122, Average Loss: 1.1550310535864396\n",
      "Epoch 123, Average Loss: 1.1581492738290267\n",
      "Epoch 124, Average Loss: 1.158476221561432\n",
      "Epoch 125, Average Loss: 1.1614776307886296\n",
      "Epoch 126, Average Loss: 1.1575686704028736\n",
      "Epoch 127, Average Loss: 1.1618938050486824\n",
      "Epoch 128, Average Loss: 1.1620031795718453\n",
      "Epoch 129, Average Loss: 1.1597038236531345\n",
      "Epoch 130, Average Loss: 1.1628466026349502\n",
      "Epoch 131, Average Loss: 1.158760524337942\n",
      "Epoch 132, Average Loss: 1.1628416088494387\n",
      "Epoch 133, Average Loss: 1.1603023599494586\n",
      "Epoch 134, Average Loss: 1.1653292233293706\n",
      "Epoch 135, Average Loss: 1.1570394418456338\n",
      "Epoch 136, Average Loss: 1.159251956506209\n",
      "Epoch 137, Average Loss: 1.15108516107906\n",
      "Epoch 138, Average Loss: 1.157251045920632\n",
      "Epoch 139, Average Loss: 1.1605818797241558\n",
      "Epoch 140, Average Loss: 1.162669566002759\n",
      "Epoch 141, Average Loss: 1.1601114251396873\n",
      "Epoch 142, Average Loss: 1.16759164983576\n",
      "Epoch 143, Average Loss: 1.1619377488439733\n",
      "Epoch 144, Average Loss: 1.1621505347165195\n",
      "Epoch 145, Average Loss: 1.1543098693544214\n",
      "Epoch 146, Average Loss: 1.1532247613776814\n",
      "Epoch 147, Average Loss: 1.1500764911825008\n",
      "Epoch 148, Average Loss: 1.1602625012397767\n",
      "Epoch 149, Average Loss: 1.1586852783506567\n",
      "Epoch 150, Average Loss: 1.1529835099523718\n",
      "Epoch 151, Average Loss: 1.1618636467240073\n",
      "Epoch 152, Average Loss: 1.1549416943029924\n",
      "Epoch 153, Average Loss: 1.1662258408286355\n",
      "Epoch 154, Average Loss: 1.1571188888766548\n",
      "Epoch 155, Average Loss: 1.1591200124133716\n",
      "Epoch 156, Average Loss: 1.1585772801529277\n",
      "Epoch 157, Average Loss: 1.1559988807548176\n",
      "Epoch 158, Average Loss: 1.1582237693396482\n",
      "Epoch 159, Average Loss: 1.1598566656762903\n",
      "Epoch 160, Average Loss: 1.150617011568763\n",
      "Epoch 161, Average Loss: 1.1551114580848\n",
      "Epoch 162, Average Loss: 1.1640103768218648\n",
      "Epoch 163, Average Loss: 1.160990835319866\n",
      "Epoch 164, Average Loss: 1.1596852134574542\n",
      "Epoch 165, Average Loss: 1.1487048609690234\n",
      "Epoch 166, Average Loss: 1.1591558082537217\n",
      "Epoch 167, Average Loss: 1.1607873385602778\n",
      "Epoch 168, Average Loss: 1.1556667615066876\n",
      "Epoch 169, Average Loss: 1.1585448243401266\n",
      "Epoch 170, Average Loss: 1.1581260957501152\n",
      "Epoch 171, Average Loss: 1.1559378802776337\n",
      "Epoch 172, Average Loss: 1.161676243760369\n",
      "Epoch 173, Average Loss: 1.158989368243651\n",
      "Epoch 174, Average Loss: 1.1545235828919844\n",
      "Epoch 175, Average Loss: 1.1571894456039775\n",
      "Epoch 176, Average Loss: 1.1542898205193606\n",
      "Epoch 177, Average Loss: 1.1522481392730366\n",
      "Epoch 178, Average Loss: 1.1551333757964048\n",
      "Epoch 179, Average Loss: 1.153004600243135\n",
      "Epoch 180, Average Loss: 1.1598306520418686\n",
      "Epoch 181, Average Loss: 1.162586285309358\n",
      "Epoch 182, Average Loss: 1.1609084183519536\n",
      "Epoch 183, Average Loss: 1.1571473636410452\n",
      "Epoch 184, Average Loss: 1.1611249522729354\n",
      "Epoch 185, Average Loss: 1.1568290174007416\n",
      "Epoch 186, Average Loss: 1.1532831658016551\n",
      "Epoch 187, Average Loss: 1.1452395493333989\n",
      "Epoch 188, Average Loss: 1.1520163557746195\n",
      "Epoch 189, Average Loss: 1.1546604254029014\n",
      "Epoch 190, Average Loss: 1.1602082713083788\n",
      "Epoch 191, Average Loss: 1.1623538266528737\n",
      "Epoch 192, Average Loss: 1.1638677071441303\n",
      "Epoch 193, Average Loss: 1.1488759859041735\n",
      "Epoch 194, Average Loss: 1.14711737036705\n",
      "Epoch 195, Average Loss: 1.1594428961927241\n",
      "Epoch 196, Average Loss: 1.1597402187910948\n",
      "Epoch 197, Average Loss: 1.1606087662956932\n",
      "Epoch 198, Average Loss: 1.1493876272981818\n",
      "Epoch 199, Average Loss: 1.1451929959383877\n",
      "Epoch 200, Average Loss: 1.1518649155443366\n"
     ]
    }
   ],
   "source": [
    "train_model(model, dataloader, epochs=200)"
   ]
  },
  {
   "cell_type": "code",
   "execution_count": 23,
   "id": "a817ea2f",
   "metadata": {},
   "outputs": [
    {
     "name": "stdout",
     "output_type": "stream",
     "text": [
      "Ritãperdas\n",
      "Rãlantas\n",
      "Rãtardas\n",
      "Ripõnas\n",
      "Rìlmiktẽras\n",
      "Rárvydas\n",
      "Rìnis\n",
      "Rarntìndas\n",
      "Rusktaugas\n",
      "Rĩšvas\n"
     ]
    }
   ],
   "source": [
    "for _ in range(10):\n",
    "    generated_name = sample(model, dataset, start_str='R')\n",
    "    print(generated_name)"
   ]
  },
  {
   "cell_type": "markdown",
   "id": "62f9ab4e",
   "metadata": {},
   "source": [
    "If we want the model to be more creative we can add temperature/creativity control."
   ]
  },
  {
   "cell_type": "code",
   "execution_count": 24,
   "id": "b25591e8",
   "metadata": {},
   "outputs": [
    {
     "name": "stdout",
     "output_type": "stream",
     "text": [
      "More confident:\n",
      "  Rìnartas\n",
      "  Rèntas\n",
      "  Rĩgis\n",
      "  Rùrìldas\n",
      "  Ròrijus\n",
      "  Rìnis\n",
      "  Rarìtas\n",
      "  Rėnas\n",
      "  Relinijus\n",
      "  Rìnijus\n",
      "\n",
      "More diverse/creative:\n",
      "  Rūdrìmildas\n",
      "  Ratėnas\n",
      "  Revýdridas\n",
      "  Rõr̃mijus\n",
      "  Rýgmas\n",
      "  Ròtotrdas\n",
      "  Rãan\n",
      "  Riguòmas\n",
      "  Ridmistis\n",
      "  Rìrhez\n"
     ]
    }
   ],
   "source": [
    "def sample(model, dataset, start_str='a', max_length=20, temperature=1.0):\n",
    "    assert temperature > 0, \"Temperature must be greater than 0\"\n",
    "    model.eval()  # Switch model to evaluation mode\n",
    "    with torch.no_grad():\n",
    "        # Convert start string to tensor\n",
    "        chars = [dataset.char_to_int[c] for c in start_str]\n",
    "        input_seq = torch.tensor(chars).unsqueeze(0)  # Add batch dimension\n",
    "        \n",
    "        output_name = start_str\n",
    "        for _ in range(max_length - len(start_str)):\n",
    "            output = model(input_seq)\n",
    "            \n",
    "            # Apply temperature scaling\n",
    "            logits = output[0, -1] / temperature\n",
    "            probabilities = torch.softmax(logits, dim=0)\n",
    "            \n",
    "            # Sample a character from the probability distribution\n",
    "            next_char_idx = torch.multinomial(probabilities, 1).item()\n",
    "            next_char = dataset.int_to_char[next_char_idx]\n",
    "            \n",
    "            if next_char == ' ':  # Assume ' ' is your end-of-sequence character\n",
    "                break\n",
    "            \n",
    "            output_name += next_char\n",
    "            # Update the input sequence for the next iteration\n",
    "            input_seq = torch.cat([input_seq, torch.tensor([[next_char_idx]])], dim=1)\n",
    "        \n",
    "        return output_name\n",
    "\n",
    "# Example usage with different temperatures\n",
    "print('More confident:')\n",
    "for _ in range(10):\n",
    "    print(' ', sample(model, dataset, start_str='R', temperature=0.5))  # More confident\n",
    "\n",
    "print('\\nMore diverse/creative:')\n",
    "for _ in range(10):\n",
    "    print(' ', sample(model, dataset, start_str='R', temperature=1.5))  # More diverse"
   ]
  },
  {
   "cell_type": "markdown",
   "id": "1ab4baf7",
   "metadata": {},
   "source": [
    "Here we go, we have a Lithuanian name generator!"
   ]
  },
  {
   "cell_type": "code",
   "execution_count": 25,
   "id": "4b2cb7c8-cee7-49b5-bf47-6208d552b006",
   "metadata": {},
   "outputs": [],
   "source": [
    "import json\n",
    "\n",
    "torch.save(model, '../namesformer_app/namesformer_model.pt')\n",
    "    \n",
    "with open('../namesformer_app/int_to_char.json', 'w') as f:\n",
    "    json.dump(dataset.int_to_char, f)\n",
    "\n",
    "with open('../namesformer_app/char_to_int.json', 'w') as f:\n",
    "    json.dump(dataset.char_to_int, f)"
   ]
  }
 ],
 "metadata": {
  "kernelspec": {
   "display_name": "Python 3 (ipykernel)",
   "language": "python",
   "name": "python3"
  },
  "language_info": {
   "codemirror_mode": {
    "name": "ipython",
    "version": 3
   },
   "file_extension": ".py",
   "mimetype": "text/x-python",
   "name": "python",
   "nbconvert_exporter": "python",
   "pygments_lexer": "ipython3",
   "version": "3.10.14"
  }
 },
 "nbformat": 4,
 "nbformat_minor": 5
}
