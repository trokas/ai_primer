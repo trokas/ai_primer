{
 "cells": [
  {
   "cell_type": "markdown",
   "id": "f314f8d9",
   "metadata": {},
   "source": [
    "# Namesformer\n",
    "\n",
    "Before we get into the lecture you can play with the trained model here: [Namesformer Streamlit app](https://namesformer.streamlit.app/).\n",
    "\n",
    "Inspired by Andrej Karpathy lecture [makemore](https://www.youtube.com/watch?v=PaCmpygFfXo&t=131s) that contains english name generation. \n",
    "\n",
    "The code was fully writen using ChatGPT with minimal corrections. My first query was:\n",
    "\n",
    "```\n",
    "I am preparing a lecture for my students on AI basics. They already know how to use attention in PyTorch to create self-attention layers. What I want to explain them is how to make a simplest possible transformer architecture (with minimal amount of code).\n",
    " As a dataset I will use a csv with names:\n",
    "    john\n",
    "    peter\n",
    "    mike\n",
    "    ...\n",
    "And the goal will be to generate more names that sound name-like.\n",
    "Give me an implementation with PyTorch trying to keep it as minimal as possible.\n",
    "```\n",
    "\n",
    "After that I had to ask for couple corrections, like avoiding using Transformer layer, adding comments, fixing a bug in token indexing. All were relatively easy to spot and in less than an hour this notebook was generating plausibly sounding names.\n",
    "\n",
    "I decided to replace original dataset since I found a list of Lithuanian names that are easy to extract from [vardai.vlkk.lt](vardai.vlkk.lt) using the following code snippet:"
   ]
  },
  {
   "cell_type": "code",
   "execution_count": 1,
   "id": "9c33fbd2",
   "metadata": {},
   "outputs": [],
   "source": [
    "import torch\n",
    "import torch.nn as nn\n",
    "import torch.optim as optim\n",
    "import numpy as np\n",
    "import pandas as pd\n",
    "import matplotlib.pyplot as plt\n",
    "from torch.utils.data import DataLoader, Dataset\n",
    "from torch.nn.utils.rnn import pad_sequence"
   ]
  },
  {
   "cell_type": "code",
   "execution_count": 2,
   "id": "18577fcc",
   "metadata": {},
   "outputs": [],
   "source": [
    "import requests\n",
    "from bs4 import BeautifulSoup\n",
    "\n",
    "names = []\n",
    "for key in ['a', 'b', 'c', 'c-2', 'd', 'e', 'f', 'g', 'h', 'i', 'j', 'k', 'l',\n",
    "            'm', 'n', 'o', 'p', 'r', 's', 's-2', 't', 'u', 'v', 'z', 'z-2']:\n",
    "    url = f'https://vardai.vlkk.lt/sarasas/{key}/'\n",
    "    response = requests.get(url)\n",
    "    soup = BeautifulSoup(response.text, 'html.parser')\n",
    "    links = soup.find_all('a', class_='names_list__links names_list__links--man')\n",
    "    names += [name.text for name in links]\n",
    "    \n",
    "np.savetxt('vardai.txt', names, fmt='%s', header='name', comments='', newline='\\n')"
   ]
  },
  {
   "cell_type": "markdown",
   "id": "a28dee39",
   "metadata": {},
   "source": [
    "If you want to play with english names download them from [here](https://github.com/karpathy/makemore/blob/master/names.txt) and use *names.txt* instead of *vardai.txt*.\n",
    "\n",
    "Let's add a space at the end to mark the end of the name. We will need a dictionary that encodes characters to integers and back, thus let's wrap that logic in a class."
   ]
  },
  {
   "cell_type": "code",
   "execution_count": 3,
   "id": "6820fb46",
   "metadata": {},
   "outputs": [],
   "source": [
    "class NameDataset(Dataset):\n",
    "    def __init__(self, csv_file):\n",
    "        self.names = pd.read_csv(csv_file)['name'].values\n",
    "        self.chars = sorted(list(set(''.join(self.names) + ' ')))  # Including a padding character\n",
    "        self.char_to_int = {c: i for i, c in enumerate(self.chars)}\n",
    "        self.int_to_char = {i: c for c, i in self.char_to_int.items()}\n",
    "        self.vocab_size = len(self.chars)\n",
    "\n",
    "    def __len__(self):\n",
    "        return len(self.names)\n",
    "\n",
    "    def __getitem__(self, idx):\n",
    "        name = self.names[idx] + ' '  # Adding padding character at the end\n",
    "        encoded_name = [self.char_to_int[char] for char in name]\n",
    "        return torch.tensor(encoded_name)"
   ]
  },
  {
   "cell_type": "code",
   "execution_count": 4,
   "id": "fd97ee0d",
   "metadata": {},
   "outputs": [
    {
     "data": {
      "text/plain": [
       "3850"
      ]
     },
     "execution_count": 4,
     "metadata": {},
     "output_type": "execute_result"
    }
   ],
   "source": [
    "dataset = NameDataset('vardai.txt')\n",
    "len(dataset)"
   ]
  },
  {
   "cell_type": "code",
   "execution_count": 5,
   "id": "9134b71c",
   "metadata": {},
   "outputs": [
    {
     "data": {
      "text/plain": [
       "tensor([ 1, 82, 24, 23, 40,  0])"
      ]
     },
     "execution_count": 5,
     "metadata": {},
     "output_type": "execute_result"
    }
   ],
   "source": [
    "dataset[0]"
   ]
  },
  {
   "cell_type": "code",
   "execution_count": 6,
   "id": "2203fb24",
   "metadata": {},
   "outputs": [
    {
     "data": {
      "text/plain": [
       "['A', '̃', 'b', 'a', 's', ' ']"
      ]
     },
     "execution_count": 6,
     "metadata": {},
     "output_type": "execute_result"
    }
   ],
   "source": [
    "[dataset.int_to_char[int(char)] for char in dataset[0]]"
   ]
  },
  {
   "cell_type": "markdown",
   "id": "d597d5eb",
   "metadata": {},
   "source": [
    "Note that this dataset is not simple since it uses accentuation symbols and capital letters. Let's intentionally keep it like this and see if the model can figure it out. When you do it yourself feel free to remove accentuation and use only lower case letters.\n",
    "\n",
    "We need a way to construct padded batches."
   ]
  },
  {
   "cell_type": "code",
   "execution_count": 7,
   "id": "3c41a583",
   "metadata": {},
   "outputs": [],
   "source": [
    "# Custom collate function for padding\n",
    "def pad_collate(batch):\n",
    "    padded_seqs = pad_sequence(batch, batch_first=True, padding_value=0)\n",
    "    input_seq = padded_seqs[:, :-1]\n",
    "    target_seq = padded_seqs[:, 1:]\n",
    "    return input_seq, target_seq\n",
    "\n",
    "dataloader = DataLoader(dataset, batch_size=32, shuffle=True, collate_fn=pad_collate)"
   ]
  },
  {
   "cell_type": "markdown",
   "id": "e319e267",
   "metadata": {},
   "source": [
    "Make sure you understand what this generates and why."
   ]
  },
  {
   "cell_type": "code",
   "execution_count": 8,
   "id": "3ac62d84",
   "metadata": {},
   "outputs": [
    {
     "data": {
      "text/plain": [
       "(tensor([[ 1, 75, 26, 31, 40,  0,  0,  0,  0,  0,  0,  0,  0],\n",
       "         [16, 23, 81, 42, 34, 31, 40,  0,  0,  0,  0,  0,  0],\n",
       "         [17, 23, 82, 40, 35, 23, 36, 41, 23, 40,  0,  0,  0],\n",
       "         [ 7, 31, 80, 36, 41, 23, 42, 41, 23, 40,  0,  0,  0],\n",
       "         [21, 31, 80, 33, 31, 40,  0,  0,  0,  0,  0,  0,  0],\n",
       "         [ 8, 23, 39, 37, 34, 26,  0,  0,  0,  0,  0,  0,  0],\n",
       "         [ 5, 80, 34, 31, 36, 29, 23, 40,  0,  0,  0,  0,  0],\n",
       "         [ 7, 37, 81, 41, 23, 39, 23, 40,  0,  0,  0,  0,  0],\n",
       "         [13, 37, 26, 27, 80, 40, 41, 23, 40,  0,  0,  0,  0],\n",
       "         [14, 37, 23, 30,  0,  0,  0,  0,  0,  0,  0,  0,  0],\n",
       "         [ 1, 34, 27, 33, 40,  0,  0,  0,  0,  0,  0,  0,  0],\n",
       "         [ 5, 80, 26, 31, 40,  0,  0,  0,  0,  0,  0,  0,  0],\n",
       "         [ 4, 37, 80, 39, 23, 40,  0,  0,  0,  0,  0,  0,  0],\n",
       "         [16, 23, 82, 41, 39, 31, 40,  0,  0,  0,  0,  0,  0],\n",
       "         [ 5, 28, 29, 27, 36, 31, 32, 42, 40,  0,  0,  0,  0],\n",
       "         [ 2, 23, 34, 41, 39, 23, 35, 31, 27, 82, 32, 42, 40],\n",
       "         [21, 31, 25, 41, 37, 39, 23, 40,  0,  0,  0,  0,  0],\n",
       "         [ 7, 58, 39, 79, 23, 26, 23, 40,  0,  0,  0,  0,  0],\n",
       "         [18, 33, 23, 31, 82, 26, 39, 31, 42, 40,  0,  0,  0],\n",
       "         [ 5, 31, 82, 43, 23, 39, 26, 23, 40,  0,  0,  0,  0],\n",
       "         [22, 27, 28, 31, 39, 31, 80, 36, 23, 40,  0,  0,  0],\n",
       "         [ 5, 36, 26, 39, 31, 27, 32, 42, 40,  0,  0,  0,  0],\n",
       "         [18, 23, 43, 70, 34, 31, 32, 42, 40,  0,  0,  0,  0],\n",
       "         [16, 23, 39, 28, 31, 39, 31, 32, 42, 40,  0,  0,  0],\n",
       "         [17, 70, 82, 26, 23, 40,  0,  0,  0,  0,  0,  0,  0],\n",
       "         [17, 23, 35, 42, 36, 23, 40,  0,  0,  0,  0,  0,  0],\n",
       "         [14, 23, 39, 46, 35, 23, 36, 41, 23, 40,  0,  0,  0],\n",
       "         [ 7, 27, 82, 26, 35, 23, 36, 41, 23, 40,  0,  0,  0],\n",
       "         [ 1, 31, 82, 29, 31, 36, 41, 23, 40,  0,  0,  0,  0],\n",
       "         [16, 34, 23, 41, 37, 36,  0,  0,  0,  0,  0,  0,  0],\n",
       "         [ 7, 43, 31, 80, 26, 35, 23, 36, 41, 23, 40,  0,  0],\n",
       "         [18, 23, 81, 36, 29, 27, 26, 23, 40,  0,  0,  0,  0]]),\n",
       " tensor([[75, 26, 31, 40,  0,  0,  0,  0,  0,  0,  0,  0,  0],\n",
       "         [23, 81, 42, 34, 31, 40,  0,  0,  0,  0,  0,  0,  0],\n",
       "         [23, 82, 40, 35, 23, 36, 41, 23, 40,  0,  0,  0,  0],\n",
       "         [31, 80, 36, 41, 23, 42, 41, 23, 40,  0,  0,  0,  0],\n",
       "         [31, 80, 33, 31, 40,  0,  0,  0,  0,  0,  0,  0,  0],\n",
       "         [23, 39, 37, 34, 26,  0,  0,  0,  0,  0,  0,  0,  0],\n",
       "         [80, 34, 31, 36, 29, 23, 40,  0,  0,  0,  0,  0,  0],\n",
       "         [37, 81, 41, 23, 39, 23, 40,  0,  0,  0,  0,  0,  0],\n",
       "         [37, 26, 27, 80, 40, 41, 23, 40,  0,  0,  0,  0,  0],\n",
       "         [37, 23, 30,  0,  0,  0,  0,  0,  0,  0,  0,  0,  0],\n",
       "         [34, 27, 33, 40,  0,  0,  0,  0,  0,  0,  0,  0,  0],\n",
       "         [80, 26, 31, 40,  0,  0,  0,  0,  0,  0,  0,  0,  0],\n",
       "         [37, 80, 39, 23, 40,  0,  0,  0,  0,  0,  0,  0,  0],\n",
       "         [23, 82, 41, 39, 31, 40,  0,  0,  0,  0,  0,  0,  0],\n",
       "         [28, 29, 27, 36, 31, 32, 42, 40,  0,  0,  0,  0,  0],\n",
       "         [23, 34, 41, 39, 23, 35, 31, 27, 82, 32, 42, 40,  0],\n",
       "         [31, 25, 41, 37, 39, 23, 40,  0,  0,  0,  0,  0,  0],\n",
       "         [58, 39, 79, 23, 26, 23, 40,  0,  0,  0,  0,  0,  0],\n",
       "         [33, 23, 31, 82, 26, 39, 31, 42, 40,  0,  0,  0,  0],\n",
       "         [31, 82, 43, 23, 39, 26, 23, 40,  0,  0,  0,  0,  0],\n",
       "         [27, 28, 31, 39, 31, 80, 36, 23, 40,  0,  0,  0,  0],\n",
       "         [36, 26, 39, 31, 27, 32, 42, 40,  0,  0,  0,  0,  0],\n",
       "         [23, 43, 70, 34, 31, 32, 42, 40,  0,  0,  0,  0,  0],\n",
       "         [23, 39, 28, 31, 39, 31, 32, 42, 40,  0,  0,  0,  0],\n",
       "         [70, 82, 26, 23, 40,  0,  0,  0,  0,  0,  0,  0,  0],\n",
       "         [23, 35, 42, 36, 23, 40,  0,  0,  0,  0,  0,  0,  0],\n",
       "         [23, 39, 46, 35, 23, 36, 41, 23, 40,  0,  0,  0,  0],\n",
       "         [27, 82, 26, 35, 23, 36, 41, 23, 40,  0,  0,  0,  0],\n",
       "         [31, 82, 29, 31, 36, 41, 23, 40,  0,  0,  0,  0,  0],\n",
       "         [34, 23, 41, 37, 36,  0,  0,  0,  0,  0,  0,  0,  0],\n",
       "         [43, 31, 80, 26, 35, 23, 36, 41, 23, 40,  0,  0,  0],\n",
       "         [23, 81, 36, 29, 27, 26, 23, 40,  0,  0,  0,  0,  0]]))"
      ]
     },
     "execution_count": 8,
     "metadata": {},
     "output_type": "execute_result"
    }
   ],
   "source": [
    "next(iter(dataloader))"
   ]
  },
  {
   "cell_type": "markdown",
   "id": "9a9739b2",
   "metadata": {},
   "source": [
    "Our transformer will be based on the self-attention."
   ]
  },
  {
   "cell_type": "code",
   "execution_count": 9,
   "id": "5a252583",
   "metadata": {},
   "outputs": [
    {
     "name": "stdout",
     "output_type": "stream",
     "text": [
      "Epoch 1, Average Loss: 1.560861560923994\n",
      "Epoch 2, Average Loss: 1.3083962241480174\n",
      "Epoch 3, Average Loss: 1.275466939634528\n",
      "Epoch 4, Average Loss: 1.2612562283011508\n",
      "Epoch 5, Average Loss: 1.2426953862521275\n",
      "Epoch 6, Average Loss: 1.2460837374048785\n",
      "Epoch 7, Average Loss: 1.2364239564611892\n",
      "Epoch 8, Average Loss: 1.2283017211709142\n",
      "Epoch 9, Average Loss: 1.226946584941927\n",
      "Epoch 10, Average Loss: 1.2349231972182093\n"
     ]
    }
   ],
   "source": [
    "class MinimalTransformer(nn.Module):\n",
    "    def __init__(self, vocab_size, embed_size, num_heads, forward_expansion):\n",
    "        super(MinimalTransformer, self).__init__()\n",
    "        self.embed = nn.Embedding(vocab_size, embed_size)\n",
    "        self.positional_encoding = nn.Parameter(torch.randn(1, 100, embed_size))\n",
    "        self.encoder_layer = nn.TransformerEncoderLayer(d_model=embed_size, nhead=num_heads)\n",
    "        self.transformer_encoder = nn.TransformerEncoder(self.encoder_layer, num_layers=1)\n",
    "        self.output_layer = nn.Linear(embed_size, vocab_size)\n",
    "\n",
    "    def forward(self, x):\n",
    "        positions = torch.arange(0, x.size(1)).unsqueeze(0)\n",
    "        x = self.embed(x) + self.positional_encoding[:, :x.size(1), :]\n",
    "        x = self.transformer_encoder(x)\n",
    "        x = self.output_layer(x)\n",
    "        return x\n",
    "\n",
    "# Training Loop\n",
    "def train_model(model, dataloader, epochs=10):\n",
    "    criterion = nn.CrossEntropyLoss()\n",
    "    optimizer = optim.Adam(model.parameters())\n",
    "\n",
    "    for epoch in range(epochs):\n",
    "        model.train()  # Ensure the model is in training mode\n",
    "        total_loss = 0.0\n",
    "        batch_count = 0\n",
    "\n",
    "        for batch_idx, (input_seq, target_seq) in enumerate(dataloader):\n",
    "            optimizer.zero_grad()\n",
    "            output = model(input_seq)\n",
    "            loss = criterion(output.transpose(1, 2), target_seq)\n",
    "            loss.backward()\n",
    "            optimizer.step()\n",
    "            \n",
    "            total_loss += loss.item()\n",
    "            batch_count += 1\n",
    "\n",
    "        average_loss = total_loss / batch_count\n",
    "        print(f'Epoch {epoch+1}, Average Loss: {average_loss}')\n",
    "\n",
    "model = MinimalTransformer(vocab_size=dataset.vocab_size, embed_size=128, num_heads=8, forward_expansion=4)\n",
    "train_model(model, dataloader)"
   ]
  },
  {
   "cell_type": "markdown",
   "id": "fefca499",
   "metadata": {},
   "source": [
    "And generate a name by predicing the next letter. We will use the fact that model returns logits that can be turned into probabilities which can later be used to sample a character from the probability distribution."
   ]
  },
  {
   "cell_type": "code",
   "execution_count": 10,
   "id": "bd5ee5ed",
   "metadata": {},
   "outputs": [
    {
     "name": "stdout",
     "output_type": "stream",
     "text": [
      "Rãvelijovas\n",
      "Rãgmenas\n",
      "Retuvytinton\n",
      "Raĩnas\n",
      "Rĩtris\n",
      "Ranolìas\n",
      "Roanis\n",
      "Ranautontas\n",
      "Rõmicis\n",
      "Ralmas\n"
     ]
    }
   ],
   "source": [
    "def sample(model, dataset, start_str='a', max_length=20):\n",
    "    model.eval()  # Switch to evaluation mode\n",
    "    with torch.no_grad():\n",
    "        # Convert start string to tensor\n",
    "        chars = [dataset.char_to_int[c] for c in start_str]\n",
    "        input_seq = torch.tensor(chars).unsqueeze(0)  # Add batch dimension\n",
    "        \n",
    "        output_name = start_str\n",
    "        for _ in range(max_length - len(start_str)):\n",
    "            output = model(input_seq)\n",
    "            \n",
    "            # Get the last character from the output\n",
    "            probabilities = torch.softmax(output[0, -1], dim=0)\n",
    "            # Sample a character from the probability distribution\n",
    "            next_char_idx = torch.multinomial(probabilities, 1).item()\n",
    "            next_char = dataset.int_to_char[next_char_idx]\n",
    "            \n",
    "            if next_char == ' ':  # Assume ' ' is your end-of-sequence character\n",
    "                break\n",
    "            \n",
    "            output_name += next_char\n",
    "            # Update the input sequence for the next iteration\n",
    "            input_seq = torch.cat([input_seq, torch.tensor([[next_char_idx]])], dim=1)\n",
    "        \n",
    "        return output_name\n",
    "\n",
    "# After training your model, generate a name starting with a specific letter\n",
    "for _ in range(10):\n",
    "    generated_name = sample(model, dataset, start_str='R')\n",
    "    print(generated_name)"
   ]
  },
  {
   "cell_type": "markdown",
   "id": "e3b6a045",
   "metadata": {},
   "source": [
    "Not bad! Note that this name is not in our names list."
   ]
  },
  {
   "cell_type": "code",
   "execution_count": 11,
   "id": "400ad854",
   "metadata": {},
   "outputs": [
    {
     "data": {
      "text/plain": [
       "'Ralmas'"
      ]
     },
     "execution_count": 11,
     "metadata": {},
     "output_type": "execute_result"
    }
   ],
   "source": [
    "generated_name"
   ]
  },
  {
   "cell_type": "code",
   "execution_count": 12,
   "id": "424c0507",
   "metadata": {},
   "outputs": [
    {
     "data": {
      "text/plain": [
       "False"
      ]
     },
     "execution_count": 12,
     "metadata": {},
     "output_type": "execute_result"
    }
   ],
   "source": [
    "generated_name + ' ' in names"
   ]
  },
  {
   "cell_type": "markdown",
   "id": "47f2c232",
   "metadata": {},
   "source": [
    "Let's train for longer."
   ]
  },
  {
   "cell_type": "code",
   "execution_count": 13,
   "id": "a391f399",
   "metadata": {},
   "outputs": [
    {
     "name": "stdout",
     "output_type": "stream",
     "text": [
      "Epoch 1, Average Loss: 1.2292306038958967\n",
      "Epoch 2, Average Loss: 1.2296753338545807\n",
      "Epoch 3, Average Loss: 1.2113789906186505\n",
      "Epoch 4, Average Loss: 1.2123224966782185\n",
      "Epoch 5, Average Loss: 1.2134187822499551\n",
      "Epoch 6, Average Loss: 1.2100671367211775\n",
      "Epoch 7, Average Loss: 1.2046438445729657\n",
      "Epoch 8, Average Loss: 1.216528780696806\n",
      "Epoch 9, Average Loss: 1.2090119542169178\n",
      "Epoch 10, Average Loss: 1.204182753385591\n",
      "Epoch 11, Average Loss: 1.19694076096716\n",
      "Epoch 12, Average Loss: 1.2097524177929586\n",
      "Epoch 13, Average Loss: 1.2037021379825497\n",
      "Epoch 14, Average Loss: 1.2041516210422043\n",
      "Epoch 15, Average Loss: 1.2032628212093321\n",
      "Epoch 16, Average Loss: 1.1915799916283158\n",
      "Epoch 17, Average Loss: 1.191510959105058\n",
      "Epoch 18, Average Loss: 1.204029481273052\n",
      "Epoch 19, Average Loss: 1.1954617096372873\n",
      "Epoch 20, Average Loss: 1.1981768662279302\n",
      "Epoch 21, Average Loss: 1.2015780131678937\n",
      "Epoch 22, Average Loss: 1.2011014198468737\n",
      "Epoch 23, Average Loss: 1.195754015248669\n",
      "Epoch 24, Average Loss: 1.1914489850525027\n",
      "Epoch 25, Average Loss: 1.1945332929122547\n",
      "Epoch 26, Average Loss: 1.1859642592343418\n",
      "Epoch 27, Average Loss: 1.1900481729468038\n",
      "Epoch 28, Average Loss: 1.1984371597116643\n",
      "Epoch 29, Average Loss: 1.1915138644620407\n",
      "Epoch 30, Average Loss: 1.1930926890412639\n",
      "Epoch 31, Average Loss: 1.1906916233133678\n",
      "Epoch 32, Average Loss: 1.1895758549043955\n",
      "Epoch 33, Average Loss: 1.1972257815116694\n",
      "Epoch 34, Average Loss: 1.1903804575116181\n",
      "Epoch 35, Average Loss: 1.1944811595372917\n",
      "Epoch 36, Average Loss: 1.1970710424352284\n",
      "Epoch 37, Average Loss: 1.1916139130749979\n",
      "Epoch 38, Average Loss: 1.1847474373076572\n",
      "Epoch 39, Average Loss: 1.1924392846990224\n",
      "Epoch 40, Average Loss: 1.197125053602802\n",
      "Epoch 41, Average Loss: 1.1875630809255868\n",
      "Epoch 42, Average Loss: 1.1958131982275277\n",
      "Epoch 43, Average Loss: 1.1888317726860362\n",
      "Epoch 44, Average Loss: 1.1850869113748723\n",
      "Epoch 45, Average Loss: 1.1943016303472282\n",
      "Epoch 46, Average Loss: 1.1864741745073932\n",
      "Epoch 47, Average Loss: 1.1840156661577461\n",
      "Epoch 48, Average Loss: 1.1876781114861985\n",
      "Epoch 49, Average Loss: 1.1812076967609815\n",
      "Epoch 50, Average Loss: 1.1807344807080986\n",
      "Epoch 51, Average Loss: 1.1867172599824007\n",
      "Epoch 52, Average Loss: 1.184158510905652\n",
      "Epoch 53, Average Loss: 1.1861653234347824\n",
      "Epoch 54, Average Loss: 1.18255559324233\n",
      "Epoch 55, Average Loss: 1.187564582864115\n",
      "Epoch 56, Average Loss: 1.1790710707341343\n",
      "Epoch 57, Average Loss: 1.1837314874672693\n",
      "Epoch 58, Average Loss: 1.1867934169848102\n",
      "Epoch 59, Average Loss: 1.186100725300056\n",
      "Epoch 60, Average Loss: 1.1863626276165986\n",
      "Epoch 61, Average Loss: 1.1842943878213237\n",
      "Epoch 62, Average Loss: 1.1788255060014645\n",
      "Epoch 63, Average Loss: 1.189123210335566\n",
      "Epoch 64, Average Loss: 1.1844587252159748\n",
      "Epoch 65, Average Loss: 1.183324110409445\n",
      "Epoch 66, Average Loss: 1.1821246408233959\n",
      "Epoch 67, Average Loss: 1.1777123020700186\n",
      "Epoch 68, Average Loss: 1.1788903292545603\n",
      "Epoch 69, Average Loss: 1.186970629967934\n",
      "Epoch 70, Average Loss: 1.1829478819508197\n",
      "Epoch 71, Average Loss: 1.1873527243117656\n",
      "Epoch 72, Average Loss: 1.1788276197496526\n",
      "Epoch 73, Average Loss: 1.180316432448458\n",
      "Epoch 74, Average Loss: 1.1803383127716947\n",
      "Epoch 75, Average Loss: 1.1891687940960087\n",
      "Epoch 76, Average Loss: 1.1843605652328366\n",
      "Epoch 77, Average Loss: 1.17897569837649\n",
      "Epoch 78, Average Loss: 1.1766234498378658\n",
      "Epoch 79, Average Loss: 1.175462582387215\n",
      "Epoch 80, Average Loss: 1.1749394437498297\n",
      "Epoch 81, Average Loss: 1.1846170775161302\n",
      "Epoch 82, Average Loss: 1.1909018454472882\n",
      "Epoch 83, Average Loss: 1.1792369213971226\n",
      "Epoch 84, Average Loss: 1.1763497935838936\n",
      "Epoch 85, Average Loss: 1.1755769646857395\n",
      "Epoch 86, Average Loss: 1.1799335519144358\n",
      "Epoch 87, Average Loss: 1.181434384554871\n",
      "Epoch 88, Average Loss: 1.1844923865696615\n",
      "Epoch 89, Average Loss: 1.1836248995843999\n",
      "Epoch 90, Average Loss: 1.1798809003238835\n",
      "Epoch 91, Average Loss: 1.178152390748016\n",
      "Epoch 92, Average Loss: 1.178901397984875\n",
      "Epoch 93, Average Loss: 1.1763924128753094\n",
      "Epoch 94, Average Loss: 1.1776803554582203\n",
      "Epoch 95, Average Loss: 1.1745359493681222\n",
      "Epoch 96, Average Loss: 1.190951465575163\n",
      "Epoch 97, Average Loss: 1.168050891111705\n",
      "Epoch 98, Average Loss: 1.180815726272331\n",
      "Epoch 99, Average Loss: 1.179542955288217\n",
      "Epoch 100, Average Loss: 1.1771875082953902\n",
      "Epoch 101, Average Loss: 1.169836976804024\n",
      "Epoch 102, Average Loss: 1.1732540869515788\n",
      "Epoch 103, Average Loss: 1.1739061696470277\n",
      "Epoch 104, Average Loss: 1.1792582514857457\n",
      "Epoch 105, Average Loss: 1.1752005519945758\n",
      "Epoch 106, Average Loss: 1.1760616937944712\n",
      "Epoch 107, Average Loss: 1.170486671865479\n",
      "Epoch 108, Average Loss: 1.1782956773584539\n",
      "Epoch 109, Average Loss: 1.1726476963886545\n",
      "Epoch 110, Average Loss: 1.1795510324564846\n",
      "Epoch 111, Average Loss: 1.1746162230318242\n",
      "Epoch 112, Average Loss: 1.1758471683037182\n",
      "Epoch 113, Average Loss: 1.1813066552493199\n",
      "Epoch 114, Average Loss: 1.172285570093423\n",
      "Epoch 115, Average Loss: 1.176815803385963\n",
      "Epoch 116, Average Loss: 1.1789336785797244\n",
      "Epoch 117, Average Loss: 1.1769179090980655\n",
      "Epoch 118, Average Loss: 1.1783951860814055\n",
      "Epoch 119, Average Loss: 1.1832648427033228\n",
      "Epoch 120, Average Loss: 1.1782682405030431\n",
      "Epoch 121, Average Loss: 1.17259880925013\n",
      "Epoch 122, Average Loss: 1.1715694592018757\n",
      "Epoch 123, Average Loss: 1.1720148526932583\n",
      "Epoch 124, Average Loss: 1.1784934568996273\n",
      "Epoch 125, Average Loss: 1.1775894431043263\n",
      "Epoch 126, Average Loss: 1.1746587122767425\n",
      "Epoch 127, Average Loss: 1.1776675808528239\n",
      "Epoch 128, Average Loss: 1.1725553574640888\n",
      "Epoch 129, Average Loss: 1.177438148782273\n",
      "Epoch 130, Average Loss: 1.176710447496619\n",
      "Epoch 131, Average Loss: 1.1731141327826444\n",
      "Epoch 132, Average Loss: 1.1767307495282702\n",
      "Epoch 133, Average Loss: 1.1693934473124417\n",
      "Epoch 134, Average Loss: 1.1733752405347904\n",
      "Epoch 135, Average Loss: 1.1659849537305595\n",
      "Epoch 136, Average Loss: 1.179626563363824\n",
      "Epoch 137, Average Loss: 1.1743027917609727\n",
      "Epoch 138, Average Loss: 1.1785855022343723\n",
      "Epoch 139, Average Loss: 1.1783450354229321\n",
      "Epoch 140, Average Loss: 1.1774260229315638\n",
      "Epoch 141, Average Loss: 1.1715978881544318\n",
      "Epoch 142, Average Loss: 1.172811331335178\n",
      "Epoch 143, Average Loss: 1.1768728031599818\n",
      "Epoch 144, Average Loss: 1.1773389183785306\n",
      "Epoch 145, Average Loss: 1.1743187510277615\n",
      "Epoch 146, Average Loss: 1.1694534598303234\n",
      "Epoch 147, Average Loss: 1.1702861293288302\n",
      "Epoch 148, Average Loss: 1.1727704543712711\n",
      "Epoch 149, Average Loss: 1.176124067838527\n",
      "Epoch 150, Average Loss: 1.1815643192322787\n",
      "Epoch 151, Average Loss: 1.1782729832594059\n",
      "Epoch 152, Average Loss: 1.1701082518278074\n",
      "Epoch 153, Average Loss: 1.1694987559121501\n",
      "Epoch 154, Average Loss: 1.1757246812513051\n",
      "Epoch 155, Average Loss: 1.1738169045487712\n",
      "Epoch 156, Average Loss: 1.1750259355080028\n",
      "Epoch 157, Average Loss: 1.1777134389916728\n",
      "Epoch 158, Average Loss: 1.1760852149695404\n",
      "Epoch 159, Average Loss: 1.1643548263005974\n",
      "Epoch 160, Average Loss: 1.1709187139164319\n",
      "Epoch 161, Average Loss: 1.1754598174213378\n",
      "Epoch 162, Average Loss: 1.1712363441128375\n",
      "Epoch 163, Average Loss: 1.1688077036014273\n",
      "Epoch 164, Average Loss: 1.171680351919379\n",
      "Epoch 165, Average Loss: 1.167231542512405\n",
      "Epoch 166, Average Loss: 1.1670489754558595\n",
      "Epoch 167, Average Loss: 1.170683554873979\n",
      "Epoch 168, Average Loss: 1.1787078419992747\n",
      "Epoch 169, Average Loss: 1.171857633373954\n",
      "Epoch 170, Average Loss: 1.1711103881686187\n",
      "Epoch 171, Average Loss: 1.1698308936820543\n",
      "Epoch 172, Average Loss: 1.1775098812481588\n",
      "Epoch 173, Average Loss: 1.1744549757192944\n",
      "Epoch 174, Average Loss: 1.17041007644874\n",
      "Epoch 175, Average Loss: 1.17597955760877\n",
      "Epoch 176, Average Loss: 1.18260009525236\n",
      "Epoch 177, Average Loss: 1.1756152614089084\n",
      "Epoch 178, Average Loss: 1.1773499137113903\n",
      "Epoch 179, Average Loss: 1.17570225709726\n",
      "Epoch 180, Average Loss: 1.1799813922771738\n",
      "Epoch 181, Average Loss: 1.1755351079396965\n",
      "Epoch 182, Average Loss: 1.1673592575325453\n",
      "Epoch 183, Average Loss: 1.1690961984563466\n",
      "Epoch 184, Average Loss: 1.1743551965587395\n",
      "Epoch 185, Average Loss: 1.1734651322207175\n",
      "Epoch 186, Average Loss: 1.1740981872416725\n",
      "Epoch 187, Average Loss: 1.1676894603681958\n",
      "Epoch 188, Average Loss: 1.1670344974383835\n",
      "Epoch 189, Average Loss: 1.1741712733733753\n",
      "Epoch 190, Average Loss: 1.1770059106763728\n"
     ]
    },
    {
     "name": "stdout",
     "output_type": "stream",
     "text": [
      "Epoch 191, Average Loss: 1.1694683334058966\n",
      "Epoch 192, Average Loss: 1.167220690526253\n",
      "Epoch 193, Average Loss: 1.1743362151886807\n",
      "Epoch 194, Average Loss: 1.1695056434505242\n",
      "Epoch 195, Average Loss: 1.1659075292673977\n",
      "Epoch 196, Average Loss: 1.180610185319727\n",
      "Epoch 197, Average Loss: 1.1654542231362712\n",
      "Epoch 198, Average Loss: 1.1696561141447588\n",
      "Epoch 199, Average Loss: 1.1685029637715048\n",
      "Epoch 200, Average Loss: 1.1642742590470747\n"
     ]
    }
   ],
   "source": [
    "train_model(model, dataloader, epochs=200)"
   ]
  },
  {
   "cell_type": "code",
   "execution_count": 14,
   "id": "a817ea2f",
   "metadata": {},
   "outputs": [
    {
     "name": "stdout",
     "output_type": "stream",
     "text": [
      "Rãšmaus\n",
      "Ralionijus\n",
      "Raydòlonas\n",
      "Rãvijus\n",
      "Reonaldas\n",
      "Rijuas\n",
      "Ror\n",
      "Raĩslãkas\n",
      "Rìrmoldas\n",
      "Rõviudas\n"
     ]
    }
   ],
   "source": [
    "for _ in range(10):\n",
    "    generated_name = sample(model, dataset, start_str='R')\n",
    "    print(generated_name)"
   ]
  },
  {
   "cell_type": "markdown",
   "id": "62f9ab4e",
   "metadata": {},
   "source": [
    "If we want the model to be more creative we can add temperature/creativity control.\n",
    "\n",
    "**Question:** does temparature increase or decrease model creativity? What is min/max value?"
   ]
  },
  {
   "cell_type": "code",
   "execution_count": 15,
   "id": "b25591e8",
   "metadata": {},
   "outputs": [
    {
     "name": "stdout",
     "output_type": "stream",
     "text": [
      "More confident:\n",
      "  Reraras\n",
      "  Raugìlas\n",
      "  Raũtas\n",
      "  Ravìmas\n",
      "  Rìlijus\n",
      "  Rãtas\n",
      "  Rìlius\n",
      "  Reris\n",
      "  Rãgas\n",
      "  Rìlijus\n",
      "\n",
      "More diverse/creative:\n",
      "  Rntemijus\n",
      "  Rimtžvaus\n",
      "  Romènis\n",
      "  Romūdiutas\n",
      "  Ruolienas\n",
      "  Rẽdỹjuis\n",
      "  Reapẽndas\n",
      "  Rū̃drans\n",
      "  Rivì\n",
      "  Rámìk\n"
     ]
    }
   ],
   "source": [
    "def sample(model, dataset, start_str='a', max_length=20, temperature=1.0):\n",
    "    assert temperature > 0, \"Temperature must be greater than 0\"\n",
    "    model.eval()  # Switch model to evaluation mode\n",
    "    with torch.no_grad():\n",
    "        # Convert start string to tensor\n",
    "        chars = [dataset.char_to_int[c] for c in start_str]\n",
    "        input_seq = torch.tensor(chars).unsqueeze(0)  # Add batch dimension\n",
    "        \n",
    "        output_name = start_str\n",
    "        for _ in range(max_length - len(start_str)):\n",
    "            output = model(input_seq)\n",
    "            \n",
    "            # Apply temperature scaling\n",
    "            logits = output[0, -1] / temperature\n",
    "            probabilities = torch.softmax(logits, dim=0)\n",
    "            \n",
    "            # Sample a character from the probability distribution\n",
    "            next_char_idx = torch.multinomial(probabilities, 1).item()\n",
    "            next_char = dataset.int_to_char[next_char_idx]\n",
    "            \n",
    "            if next_char == ' ':  # Assume ' ' is your end-of-sequence character\n",
    "                break\n",
    "            \n",
    "            output_name += next_char\n",
    "            # Update the input sequence for the next iteration\n",
    "            input_seq = torch.cat([input_seq, torch.tensor([[next_char_idx]])], dim=1)\n",
    "        \n",
    "        return output_name\n",
    "\n",
    "# Example usage with different temperatures\n",
    "print('More confident:')\n",
    "for _ in range(10):\n",
    "    print(' ', sample(model, dataset, start_str='R', temperature=0.5))  # More confident\n",
    "\n",
    "print('\\nMore diverse/creative:')\n",
    "for _ in range(10):\n",
    "    print(' ', sample(model, dataset, start_str='R', temperature=1.5))  # More diverse"
   ]
  },
  {
   "cell_type": "markdown",
   "id": "1ab4baf7",
   "metadata": {},
   "source": [
    "Here we go, we have a Lithuanian name generator!\n",
    "\n",
    "Next we can save the model and with some help from ChatGPT build a simple [Streamlit](https://streamlit.io/) app (https://namesformer.streamlit.app/).\n",
    "\n",
    "**TASK:** add female names to the dataset, retrain the model (or make a 2nd one) and create your own Streamlit app (you do not need to have names leaderboard, that requires a database). Any improvement are welcome."
   ]
  },
  {
   "cell_type": "code",
   "execution_count": 16,
   "id": "4b2cb7c8-cee7-49b5-bf47-6208d552b006",
   "metadata": {},
   "outputs": [],
   "source": [
    "torch.save(model, 'namesformer_model.pt')"
   ]
  }
 ],
 "metadata": {
  "kernelspec": {
   "display_name": "Python 3 (ipykernel)",
   "language": "python",
   "name": "python3"
  },
  "language_info": {
   "codemirror_mode": {
    "name": "ipython",
    "version": 3
   },
   "file_extension": ".py",
   "mimetype": "text/x-python",
   "name": "python",
   "nbconvert_exporter": "python",
   "pygments_lexer": "ipython3",
   "version": "3.9.6"
  }
 },
 "nbformat": 4,
 "nbformat_minor": 5
}
