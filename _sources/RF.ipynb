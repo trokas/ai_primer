{
 "cells": [
  {
   "cell_type": "markdown",
   "metadata": {
    "gradient": {
     "editing": false
    }
   },
   "source": [
    "# RF (Random Forest)\n",
    "\n",
    "We will break timeline a bit and jump to random forests instead of introducing perceptrons. The general method of random decision forests was first proposed by Ho only in 1995. RF became really popular approach for tabular dataset due to their simplicity and quite robust behaviour. They are still widely used and for some problems can outperform neural nets.\n",
    "\n",
    "Before defining random forests we need to explore it's main building block - entropy.\n",
    "\n",
    "## Entropy\n",
    "\n",
    "Coined by Claude Shannon in “A Mathematical Theory of Communication” 1948 ([link](http://www.math.harvard.edu/~ctm/home/text/others/shannon/entropy/entropy.pdf)).\n",
    "Main question: how much useful information are we transmitting?\n",
    "When we transmit one bit of information we reduce recipients uncertainty by the factor of two.\n",
    "\n",
    "P.S.: same paper introduced term bit = **bi**nary uni**t**.\n",
    "\n",
    "Look at the following video:\n",
    "\n",
    "<iframe width=\"560\" height=\"315\" src=\"https://www.youtube.com/embed/ErfnhcEV1O8\" frameborder=\"0\" allow=\"accelerometer; autoplay; encrypted-media; gyroscope; picture-in-picture\" allowfullscreen></iframe>\n",
    "\n",
    "Some key points:\n",
    "- How much information are we getting measured in bits? $- \\log_2 (prob) = bits$\n",
    "- Entropy: $H(p)=-\\sum_i p_i \\log_2 (p_i)$\n",
    "- Cross-Entropy: let $p$ - true distribution, $q$ - predicted distribution, then Cross-entropy is\n",
    "$H(p,q) = -\\sum_i p_i \\log_2(q_i)$\n",
    "- If predictions are perfect Cross-entropy is equal to entropy, but usually it is greater than entropy.\n",
    "- Cross-entropy is often used for ML as a cost function (log-loss) comparing $p$ with $q$."
   ]
  },
  {
   "cell_type": "code",
   "execution_count": 1,
   "metadata": {
    "gradient": {
     "editing": false
    }
   },
   "outputs": [],
   "source": [
    "%matplotlib inline\n",
    "\n",
    "import numpy as np\n",
    "import pandas as pd\n",
    "from sklearn.datasets import load_iris\n",
    "import matplotlib.pyplot as plt\n",
    "from sklearn.tree import DecisionTreeClassifier, export_graphviz\n",
    "from graphviz import Source\n",
    "from IPython.display import display, SVG"
   ]
  },
  {
   "cell_type": "markdown",
   "metadata": {
    "gradient": {
     "editing": false
    }
   },
   "source": [
    "## Iris dataset\n",
    "\n",
    "Bellow we will work with iris dataset. The idea of the dataset is to find out iris class based on given measurements.\n",
    "\n",
    "<img src=\"https://miro.medium.com/max/1100/0*SHhnoaaIm36pc1bd\" alt=\"Iris dataset\" style=\"width: 60%\"/>"
   ]
  },
  {
   "cell_type": "code",
   "execution_count": 2,
   "metadata": {
    "gradient": {
     "editing": false
    }
   },
   "outputs": [],
   "source": [
    "# Load dataset\n",
    "iris = load_iris()\n",
    "df = pd.DataFrame(iris.data, columns = iris.feature_names)\n",
    "df['class'] = iris.target_names[iris.target]"
   ]
  },
  {
   "cell_type": "code",
   "execution_count": 8,
   "metadata": {
    "gradient": {}
   },
   "outputs": [
    {
     "data": {
      "text/html": [
       "<div>\n",
       "<style scoped>\n",
       "    .dataframe tbody tr th:only-of-type {\n",
       "        vertical-align: middle;\n",
       "    }\n",
       "\n",
       "    .dataframe tbody tr th {\n",
       "        vertical-align: top;\n",
       "    }\n",
       "\n",
       "    .dataframe thead th {\n",
       "        text-align: right;\n",
       "    }\n",
       "</style>\n",
       "<table border=\"1\" class=\"dataframe\">\n",
       "  <thead>\n",
       "    <tr style=\"text-align: right;\">\n",
       "      <th></th>\n",
       "      <th>sepal length (cm)</th>\n",
       "      <th>sepal width (cm)</th>\n",
       "      <th>petal length (cm)</th>\n",
       "      <th>petal width (cm)</th>\n",
       "      <th>class</th>\n",
       "    </tr>\n",
       "  </thead>\n",
       "  <tbody>\n",
       "    <tr>\n",
       "      <th>0</th>\n",
       "      <td>5.1</td>\n",
       "      <td>3.5</td>\n",
       "      <td>1.4</td>\n",
       "      <td>0.2</td>\n",
       "      <td>setosa</td>\n",
       "    </tr>\n",
       "    <tr>\n",
       "      <th>1</th>\n",
       "      <td>4.9</td>\n",
       "      <td>3.0</td>\n",
       "      <td>1.4</td>\n",
       "      <td>0.2</td>\n",
       "      <td>setosa</td>\n",
       "    </tr>\n",
       "    <tr>\n",
       "      <th>2</th>\n",
       "      <td>4.7</td>\n",
       "      <td>3.2</td>\n",
       "      <td>1.3</td>\n",
       "      <td>0.2</td>\n",
       "      <td>setosa</td>\n",
       "    </tr>\n",
       "    <tr>\n",
       "      <th>3</th>\n",
       "      <td>4.6</td>\n",
       "      <td>3.1</td>\n",
       "      <td>1.5</td>\n",
       "      <td>0.2</td>\n",
       "      <td>setosa</td>\n",
       "    </tr>\n",
       "    <tr>\n",
       "      <th>4</th>\n",
       "      <td>5.0</td>\n",
       "      <td>3.6</td>\n",
       "      <td>1.4</td>\n",
       "      <td>0.2</td>\n",
       "      <td>setosa</td>\n",
       "    </tr>\n",
       "    <tr>\n",
       "      <th>...</th>\n",
       "      <td>...</td>\n",
       "      <td>...</td>\n",
       "      <td>...</td>\n",
       "      <td>...</td>\n",
       "      <td>...</td>\n",
       "    </tr>\n",
       "    <tr>\n",
       "      <th>145</th>\n",
       "      <td>6.7</td>\n",
       "      <td>3.0</td>\n",
       "      <td>5.2</td>\n",
       "      <td>2.3</td>\n",
       "      <td>virginica</td>\n",
       "    </tr>\n",
       "    <tr>\n",
       "      <th>146</th>\n",
       "      <td>6.3</td>\n",
       "      <td>2.5</td>\n",
       "      <td>5.0</td>\n",
       "      <td>1.9</td>\n",
       "      <td>virginica</td>\n",
       "    </tr>\n",
       "    <tr>\n",
       "      <th>147</th>\n",
       "      <td>6.5</td>\n",
       "      <td>3.0</td>\n",
       "      <td>5.2</td>\n",
       "      <td>2.0</td>\n",
       "      <td>virginica</td>\n",
       "    </tr>\n",
       "    <tr>\n",
       "      <th>148</th>\n",
       "      <td>6.2</td>\n",
       "      <td>3.4</td>\n",
       "      <td>5.4</td>\n",
       "      <td>2.3</td>\n",
       "      <td>virginica</td>\n",
       "    </tr>\n",
       "    <tr>\n",
       "      <th>149</th>\n",
       "      <td>5.9</td>\n",
       "      <td>3.0</td>\n",
       "      <td>5.1</td>\n",
       "      <td>1.8</td>\n",
       "      <td>virginica</td>\n",
       "    </tr>\n",
       "  </tbody>\n",
       "</table>\n",
       "<p>150 rows × 5 columns</p>\n",
       "</div>"
      ],
      "text/plain": [
       "     sepal length (cm)  sepal width (cm)  petal length (cm)  petal width (cm)  \\\n",
       "0                  5.1               3.5                1.4               0.2   \n",
       "1                  4.9               3.0                1.4               0.2   \n",
       "2                  4.7               3.2                1.3               0.2   \n",
       "3                  4.6               3.1                1.5               0.2   \n",
       "4                  5.0               3.6                1.4               0.2   \n",
       "..                 ...               ...                ...               ...   \n",
       "145                6.7               3.0                5.2               2.3   \n",
       "146                6.3               2.5                5.0               1.9   \n",
       "147                6.5               3.0                5.2               2.0   \n",
       "148                6.2               3.4                5.4               2.3   \n",
       "149                5.9               3.0                5.1               1.8   \n",
       "\n",
       "         class  \n",
       "0       setosa  \n",
       "1       setosa  \n",
       "2       setosa  \n",
       "3       setosa  \n",
       "4       setosa  \n",
       "..         ...  \n",
       "145  virginica  \n",
       "146  virginica  \n",
       "147  virginica  \n",
       "148  virginica  \n",
       "149  virginica  \n",
       "\n",
       "[150 rows x 5 columns]"
      ]
     },
     "execution_count": 8,
     "metadata": {},
     "output_type": "execute_result"
    }
   ],
   "source": [
    "df"
   ]
  },
  {
   "cell_type": "markdown",
   "metadata": {},
   "source": [
    "We have 4 dimensions, but we already know that we can visualize that using PCA."
   ]
  },
  {
   "cell_type": "code",
   "execution_count": 9,
   "metadata": {
    "gradient": {}
   },
   "outputs": [],
   "source": [
    "from sklearn.decomposition import PCA"
   ]
  },
  {
   "cell_type": "code",
   "execution_count": 10,
   "metadata": {
    "gradient": {}
   },
   "outputs": [
    {
     "data": {
      "text/plain": [
       "PCA(n_components=2)"
      ]
     },
     "execution_count": 10,
     "metadata": {},
     "output_type": "execute_result"
    }
   ],
   "source": [
    "pca = PCA(2)\n",
    "pca.fit(df.drop('class', axis=1))"
   ]
  },
  {
   "cell_type": "code",
   "execution_count": 11,
   "metadata": {
    "gradient": {}
   },
   "outputs": [],
   "source": [
    "X = pca.transform(df.drop('class', axis=1))"
   ]
  },
  {
   "cell_type": "code",
   "execution_count": 15,
   "metadata": {
    "gradient": {}
   },
   "outputs": [
    {
     "data": {
      "text/plain": [
       "<AxesSubplot:xlabel='pc_1', ylabel='pc_2'>"
      ]
     },
     "execution_count": 15,
     "metadata": {},
     "output_type": "execute_result"
    },
    {
     "data": {
      "image/png": "[encoded data removed]",
      "text/plain": [
       "<Figure size 432x288 with 2 Axes>"
      ]
     },
     "metadata": {
      "needs_background": "light"
     },
     "output_type": "display_data"
    }
   ],
   "source": [
    "pc = pd.DataFrame(X, columns=['pc_1', 'pc_2'])\n",
    "pc['class_id'] = iris.target\n",
    "\n",
    "pc.plot(kind='scatter', x='pc_1', y='pc_2', c='class_id', cmap='viridis')"
   ]
  },
  {
   "cell_type": "markdown",
   "metadata": {},
   "source": [
    "## Decision Trees\n",
    "\n",
    "Simple decision tree can be constructed using rule: make a split which **reduces entropy** the most. In a well-constructed tree, each question will cut the number of options by approximately half, very quickly narrowing the options even among a large number of classes.\n",
    "\n",
    "<img src=\"https://paper-attachments.dropbox.com/s_4C6E1420D930BE100F0F1313D7A90868E9FB8CAFCB77E86AC4D0FB805D8FC787_1569515384629_image.png\" alt=\"Space deformation\" style=\"width: 70%\"/>\n",
    "\n",
    "\n",
    "Couple facts about decision trees:\n",
    "\n",
    "- Alternatively you could use Gini impurity as a split criteria, which is defined as $G_i = 1 - \\sum_{k=1}^n p_{i,k}^2$ where $p_{i,k}$ is the ratio of class k instances among the training instances in the ith node.\n",
    "- Finding the optimal tree is known to be an NP-Complete problem $O(\\exp (m))$.\n",
    "- Decision Trees are very sensitive to small variations in the training data.\n",
    "- Decision Trees can easily over-fit if there is high number of columns! \n",
    "\n",
    "Let's try this out on iris dataset. First we will need to make train/test split."
   ]
  },
  {
   "cell_type": "code",
   "execution_count": 27,
   "metadata": {
    "gradient": {}
   },
   "outputs": [],
   "source": [
    "from sklearn.model_selection import train_test_split\n",
    "\n",
    "X_train, X_test, y_train, y_test = train_test_split(\n",
    "    df.drop('class', axis=1), df['class'],\n",
    "    test_size=0.3, random_state=42)"
   ]
  },
  {
   "cell_type": "markdown",
   "metadata": {},
   "source": [
    "Let's fit entropy based tree on iris dataset."
   ]
  },
  {
   "cell_type": "code",
   "execution_count": 28,
   "metadata": {
    "gradient": {}
   },
   "outputs": [
    {
     "name": "stdout",
     "output_type": "stream",
     "text": [
      "----------------------------------------------------------------------\n",
      "Tree for max_dept = 1\n",
      "\n",
      "Correctly identified on train set - 64.76%, on test set - 71.11%\n"
     ]
    },
    {
     "data": {
      "image/svg+xml": [
       "<svg xmlns=\"http://www.w3.org/2000/svg\" xmlns:xlink=\"http://www.w3.org/1999/xlink\" width=\"272pt\" height=\"195pt\" viewBox=\"0.00 0.00 272.00 195.00\">\n",
       "<g id=\"graph0\" class=\"graph\" transform=\"scale(1 1) rotate(0) translate(4 191)\">\n",
       "<title>Tree</title>\n",
       "<polygon fill=\"white\" stroke=\"transparent\" points=\"-4,4 -4,-191 268,-191 268,4 -4,4\"/>\n",
       "<!-- 0 -->\n",
       "<g id=\"node1\" class=\"node\">\n",
       "<title>0</title>\n",
       "<polygon fill=\"#ffffff\" stroke=\"black\" points=\"206,-187 47,-187 47,-104 206,-104 206,-187\"/>\n",
       "<text text-anchor=\"middle\" x=\"126.5\" y=\"-171.8\" font-family=\"Times,serif\" font-size=\"14.00\">petal length (cm) &lt;= 2.45</text>\n",
       "<text text-anchor=\"middle\" x=\"126.5\" y=\"-156.8\" font-family=\"Times,serif\" font-size=\"14.00\">entropy = 1.58</text>\n",
       "<text text-anchor=\"middle\" x=\"126.5\" y=\"-141.8\" font-family=\"Times,serif\" font-size=\"14.00\">samples = 105</text>\n",
       "<text text-anchor=\"middle\" x=\"126.5\" y=\"-126.8\" font-family=\"Times,serif\" font-size=\"14.00\">value = [31, 37, 37]</text>\n",
       "<text text-anchor=\"middle\" x=\"126.5\" y=\"-111.8\" font-family=\"Times,serif\" font-size=\"14.00\">class = 1 - versicolor</text>\n",
       "</g>\n",
       "<!-- 1 -->\n",
       "<g id=\"node2\" class=\"node\">\n",
       "<title>1</title>\n",
       "<polygon fill=\"#e58139\" stroke=\"black\" points=\"113,-68 0,-68 0,0 113,0 113,-68\"/>\n",
       "<text text-anchor=\"middle\" x=\"56.5\" y=\"-52.8\" font-family=\"Times,serif\" font-size=\"14.00\">entropy = 0.0</text>\n",
       "<text text-anchor=\"middle\" x=\"56.5\" y=\"-37.8\" font-family=\"Times,serif\" font-size=\"14.00\">samples = 31</text>\n",
       "<text text-anchor=\"middle\" x=\"56.5\" y=\"-22.8\" font-family=\"Times,serif\" font-size=\"14.00\">value = [31, 0, 0]</text>\n",
       "<text text-anchor=\"middle\" x=\"56.5\" y=\"-7.8\" font-family=\"Times,serif\" font-size=\"14.00\">class = 0 - setosa</text>\n",
       "</g>\n",
       "<!-- 0&#45;&gt;1 -->\n",
       "<g id=\"edge1\" class=\"edge\">\n",
       "<title>0-&gt;1</title>\n",
       "<path fill=\"none\" stroke=\"black\" d=\"M100.43,-103.73C94.84,-94.97 88.91,-85.7 83.29,-76.91\"/>\n",
       "<polygon fill=\"black\" stroke=\"black\" points=\"86.12,-74.84 77.79,-68.3 80.22,-78.61 86.12,-74.84\"/>\n",
       "<text text-anchor=\"middle\" x=\"72.41\" y=\"-89.02\" font-family=\"Times,serif\" font-size=\"14.00\">True</text>\n",
       "</g>\n",
       "<!-- 2 -->\n",
       "<g id=\"node3\" class=\"node\">\n",
       "<title>2</title>\n",
       "<polygon fill=\"#ffffff\" stroke=\"black\" points=\"264,-68 131,-68 131,0 264,0 264,-68\"/>\n",
       "<text text-anchor=\"middle\" x=\"197.5\" y=\"-52.8\" font-family=\"Times,serif\" font-size=\"14.00\">entropy = 1.0</text>\n",
       "<text text-anchor=\"middle\" x=\"197.5\" y=\"-37.8\" font-family=\"Times,serif\" font-size=\"14.00\">samples = 74</text>\n",
       "<text text-anchor=\"middle\" x=\"197.5\" y=\"-22.8\" font-family=\"Times,serif\" font-size=\"14.00\">value = [0, 37, 37]</text>\n",
       "<text text-anchor=\"middle\" x=\"197.5\" y=\"-7.8\" font-family=\"Times,serif\" font-size=\"14.00\">class = 1 - versicolor</text>\n",
       "</g>\n",
       "<!-- 0&#45;&gt;2 -->\n",
       "<g id=\"edge2\" class=\"edge\">\n",
       "<title>0-&gt;2</title>\n",
       "<path fill=\"none\" stroke=\"black\" d=\"M152.94,-103.73C158.62,-94.97 164.62,-85.7 170.33,-76.91\"/>\n",
       "<polygon fill=\"black\" stroke=\"black\" points=\"173.4,-78.59 175.91,-68.3 167.53,-74.79 173.4,-78.59\"/>\n",
       "<text text-anchor=\"middle\" x=\"181.12\" y=\"-89.05\" font-family=\"Times,serif\" font-size=\"14.00\">False</text>\n",
       "</g>\n",
       "</g>\n",
       "</svg>"
      ],
      "text/plain": [
       "<IPython.core.display.SVG object>"
      ]
     },
     "metadata": {},
     "output_type": "display_data"
    },
    {
     "name": "stdout",
     "output_type": "stream",
     "text": [
      "----------------------------------------------------------------------\n",
      "Tree for max_dept = 2\n",
      "\n",
      "Correctly identified on train set - 94.29%, on test set - 97.78%\n"
     ]
    },
    {
     "data": {
      "image/svg+xml": [
       "<svg xmlns=\"http://www.w3.org/2000/svg\" xmlns:xlink=\"http://www.w3.org/1999/xlink\" width=\"356pt\" height=\"314pt\" viewBox=\"0.00 0.00 356.00 314.00\">\n",
       "<g id=\"graph0\" class=\"graph\" transform=\"scale(1 1) rotate(0) translate(4 310)\">\n",
       "<title>Tree</title>\n",
       "<polygon fill=\"white\" stroke=\"transparent\" points=\"-4,4 -4,-310 352,-310 352,4 -4,4\"/>\n",
       "<!-- 0 -->\n",
       "<g id=\"node1\" class=\"node\">\n",
       "<title>0</title>\n",
       "<polygon fill=\"#ffffff\" stroke=\"black\" points=\"213,-306 54,-306 54,-223 213,-223 213,-306\"/>\n",
       "<text text-anchor=\"middle\" x=\"133.5\" y=\"-290.8\" font-family=\"Times,serif\" font-size=\"14.00\">petal length (cm) &lt;= 2.45</text>\n",
       "<text text-anchor=\"middle\" x=\"133.5\" y=\"-275.8\" font-family=\"Times,serif\" font-size=\"14.00\">entropy = 1.58</text>\n",
       "<text text-anchor=\"middle\" x=\"133.5\" y=\"-260.8\" font-family=\"Times,serif\" font-size=\"14.00\">samples = 105</text>\n",
       "<text text-anchor=\"middle\" x=\"133.5\" y=\"-245.8\" font-family=\"Times,serif\" font-size=\"14.00\">value = [31, 37, 37]</text>\n",
       "<text text-anchor=\"middle\" x=\"133.5\" y=\"-230.8\" font-family=\"Times,serif\" font-size=\"14.00\">class = 1 - versicolor</text>\n",
       "</g>\n",
       "<!-- 1 -->\n",
       "<g id=\"node2\" class=\"node\">\n",
       "<title>1</title>\n",
       "<polygon fill=\"#e58139\" stroke=\"black\" points=\"113,-179.5 0,-179.5 0,-111.5 113,-111.5 113,-179.5\"/>\n",
       "<text text-anchor=\"middle\" x=\"56.5\" y=\"-164.3\" font-family=\"Times,serif\" font-size=\"14.00\">entropy = 0.0</text>\n",
       "<text text-anchor=\"middle\" x=\"56.5\" y=\"-149.3\" font-family=\"Times,serif\" font-size=\"14.00\">samples = 31</text>\n",
       "<text text-anchor=\"middle\" x=\"56.5\" y=\"-134.3\" font-family=\"Times,serif\" font-size=\"14.00\">value = [31, 0, 0]</text>\n",
       "<text text-anchor=\"middle\" x=\"56.5\" y=\"-119.3\" font-family=\"Times,serif\" font-size=\"14.00\">class = 0 - setosa</text>\n",
       "</g>\n",
       "<!-- 0&#45;&gt;1 -->\n",
       "<g id=\"edge1\" class=\"edge\">\n",
       "<title>0-&gt;1</title>\n",
       "<path fill=\"none\" stroke=\"black\" d=\"M106.79,-222.91C99.38,-211.65 91.33,-199.42 83.88,-188.11\"/>\n",
       "<polygon fill=\"black\" stroke=\"black\" points=\"86.75,-186.1 78.33,-179.67 80.9,-189.94 86.75,-186.1\"/>\n",
       "<text text-anchor=\"middle\" x=\"73.28\" y=\"-200.45\" font-family=\"Times,serif\" font-size=\"14.00\">True</text>\n",
       "</g>\n",
       "<!-- 2 -->\n",
       "<g id=\"node3\" class=\"node\">\n",
       "<title>2</title>\n",
       "<polygon fill=\"#ffffff\" stroke=\"black\" points=\"290,-187 131,-187 131,-104 290,-104 290,-187\"/>\n",
       "<text text-anchor=\"middle\" x=\"210.5\" y=\"-171.8\" font-family=\"Times,serif\" font-size=\"14.00\">petal length (cm) &lt;= 4.75</text>\n",
       "<text text-anchor=\"middle\" x=\"210.5\" y=\"-156.8\" font-family=\"Times,serif\" font-size=\"14.00\">entropy = 1.0</text>\n",
       "<text text-anchor=\"middle\" x=\"210.5\" y=\"-141.8\" font-family=\"Times,serif\" font-size=\"14.00\">samples = 74</text>\n",
       "<text text-anchor=\"middle\" x=\"210.5\" y=\"-126.8\" font-family=\"Times,serif\" font-size=\"14.00\">value = [0, 37, 37]</text>\n",
       "<text text-anchor=\"middle\" x=\"210.5\" y=\"-111.8\" font-family=\"Times,serif\" font-size=\"14.00\">class = 1 - versicolor</text>\n",
       "</g>\n",
       "<!-- 0&#45;&gt;2 -->\n",
       "<g id=\"edge2\" class=\"edge\">\n",
       "<title>0-&gt;2</title>\n",
       "<path fill=\"none\" stroke=\"black\" d=\"M160.21,-222.91C166.01,-214.1 172.2,-204.7 178.18,-195.61\"/>\n",
       "<polygon fill=\"black\" stroke=\"black\" points=\"181.26,-197.3 183.83,-187.02 175.41,-193.45 181.26,-197.3\"/>\n",
       "<text text-anchor=\"middle\" x=\"188.88\" y=\"-207.81\" font-family=\"Times,serif\" font-size=\"14.00\">False</text>\n",
       "</g>\n",
       "<!-- 3 -->\n",
       "<g id=\"node4\" class=\"node\">\n",
       "<title>3</title>\n",
       "<polygon fill=\"#3fe685\" stroke=\"black\" points=\"203,-68 70,-68 70,0 203,0 203,-68\"/>\n",
       "<text text-anchor=\"middle\" x=\"136.5\" y=\"-52.8\" font-family=\"Times,serif\" font-size=\"14.00\">entropy = 0.196</text>\n",
       "<text text-anchor=\"middle\" x=\"136.5\" y=\"-37.8\" font-family=\"Times,serif\" font-size=\"14.00\">samples = 33</text>\n",
       "<text text-anchor=\"middle\" x=\"136.5\" y=\"-22.8\" font-family=\"Times,serif\" font-size=\"14.00\">value = [0, 32, 1]</text>\n",
       "<text text-anchor=\"middle\" x=\"136.5\" y=\"-7.8\" font-family=\"Times,serif\" font-size=\"14.00\">class = 1 - versicolor</text>\n",
       "</g>\n",
       "<!-- 2&#45;&gt;3 -->\n",
       "<g id=\"edge3\" class=\"edge\">\n",
       "<title>2-&gt;3</title>\n",
       "<path fill=\"none\" stroke=\"black\" d=\"M182.95,-103.73C176.97,-94.88 170.63,-85.51 164.63,-76.63\"/>\n",
       "<polygon fill=\"black\" stroke=\"black\" points=\"167.5,-74.63 159,-68.3 161.7,-78.54 167.5,-74.63\"/>\n",
       "</g>\n",
       "<!-- 4 -->\n",
       "<g id=\"node5\" class=\"node\">\n",
       "<title>4</title>\n",
       "<polygon fill=\"#9254e9\" stroke=\"black\" points=\"348,-68 221,-68 221,0 348,0 348,-68\"/>\n",
       "<text text-anchor=\"middle\" x=\"284.5\" y=\"-52.8\" font-family=\"Times,serif\" font-size=\"14.00\">entropy = 0.535</text>\n",
       "<text text-anchor=\"middle\" x=\"284.5\" y=\"-37.8\" font-family=\"Times,serif\" font-size=\"14.00\">samples = 41</text>\n",
       "<text text-anchor=\"middle\" x=\"284.5\" y=\"-22.8\" font-family=\"Times,serif\" font-size=\"14.00\">value = [0, 5, 36]</text>\n",
       "<text text-anchor=\"middle\" x=\"284.5\" y=\"-7.8\" font-family=\"Times,serif\" font-size=\"14.00\">class = 2 - virginica</text>\n",
       "</g>\n",
       "<!-- 2&#45;&gt;4 -->\n",
       "<g id=\"edge4\" class=\"edge\">\n",
       "<title>2-&gt;4</title>\n",
       "<path fill=\"none\" stroke=\"black\" d=\"M238.05,-103.73C244.03,-94.88 250.37,-85.51 256.37,-76.63\"/>\n",
       "<polygon fill=\"black\" stroke=\"black\" points=\"259.3,-78.54 262,-68.3 253.5,-74.63 259.3,-78.54\"/>\n",
       "</g>\n",
       "</g>\n",
       "</svg>"
      ],
      "text/plain": [
       "<IPython.core.display.SVG object>"
      ]
     },
     "metadata": {},
     "output_type": "display_data"
    },
    {
     "name": "stdout",
     "output_type": "stream",
     "text": [
      "----------------------------------------------------------------------\n",
      "Tree for max_dept = 3\n",
      "\n",
      "Correctly identified on train set - 95.24%, on test set - 97.78%\n"
     ]
    },
    {
     "data": {
      "image/svg+xml": [
       "<svg xmlns=\"http://www.w3.org/2000/svg\" xmlns:xlink=\"http://www.w3.org/1999/xlink\" width=\"589pt\" height=\"433pt\" viewBox=\"0.00 0.00 589.00 433.00\">\n",
       "<g id=\"graph0\" class=\"graph\" transform=\"scale(1 1) rotate(0) translate(4 429)\">\n",
       "<title>Tree</title>\n",
       "<polygon fill=\"white\" stroke=\"transparent\" points=\"-4,4 -4,-429 585,-429 585,4 -4,4\"/>\n",
       "<!-- 0 -->\n",
       "<g id=\"node1\" class=\"node\">\n",
       "<title>0</title>\n",
       "<polygon fill=\"#ffffff\" stroke=\"black\" points=\"291,-425 142,-425 142,-342 291,-342 291,-425\"/>\n",
       "<text text-anchor=\"middle\" x=\"216.5\" y=\"-409.8\" font-family=\"Times,serif\" font-size=\"14.00\">petal width (cm) &lt;= 0.8</text>\n",
       "<text text-anchor=\"middle\" x=\"216.5\" y=\"-394.8\" font-family=\"Times,serif\" font-size=\"14.00\">entropy = 1.58</text>\n",
       "<text text-anchor=\"middle\" x=\"216.5\" y=\"-379.8\" font-family=\"Times,serif\" font-size=\"14.00\">samples = 105</text>\n",
       "<text text-anchor=\"middle\" x=\"216.5\" y=\"-364.8\" font-family=\"Times,serif\" font-size=\"14.00\">value = [31, 37, 37]</text>\n",
       "<text text-anchor=\"middle\" x=\"216.5\" y=\"-349.8\" font-family=\"Times,serif\" font-size=\"14.00\">class = 1 - versicolor</text>\n",
       "</g>\n",
       "<!-- 1 -->\n",
       "<g id=\"node2\" class=\"node\">\n",
       "<title>1</title>\n",
       "<polygon fill=\"#e58139\" stroke=\"black\" points=\"196,-298.5 83,-298.5 83,-230.5 196,-230.5 196,-298.5\"/>\n",
       "<text text-anchor=\"middle\" x=\"139.5\" y=\"-283.3\" font-family=\"Times,serif\" font-size=\"14.00\">entropy = 0.0</text>\n",
       "<text text-anchor=\"middle\" x=\"139.5\" y=\"-268.3\" font-family=\"Times,serif\" font-size=\"14.00\">samples = 31</text>\n",
       "<text text-anchor=\"middle\" x=\"139.5\" y=\"-253.3\" font-family=\"Times,serif\" font-size=\"14.00\">value = [31, 0, 0]</text>\n",
       "<text text-anchor=\"middle\" x=\"139.5\" y=\"-238.3\" font-family=\"Times,serif\" font-size=\"14.00\">class = 0 - setosa</text>\n",
       "</g>\n",
       "<!-- 0&#45;&gt;1 -->\n",
       "<g id=\"edge1\" class=\"edge\">\n",
       "<title>0-&gt;1</title>\n",
       "<path fill=\"none\" stroke=\"black\" d=\"M189.79,-341.91C182.38,-330.65 174.33,-318.42 166.88,-307.11\"/>\n",
       "<polygon fill=\"black\" stroke=\"black\" points=\"169.75,-305.1 161.33,-298.67 163.9,-308.94 169.75,-305.1\"/>\n",
       "<text text-anchor=\"middle\" x=\"156.28\" y=\"-319.45\" font-family=\"Times,serif\" font-size=\"14.00\">True</text>\n",
       "</g>\n",
       "<!-- 2 -->\n",
       "<g id=\"node3\" class=\"node\">\n",
       "<title>2</title>\n",
       "<polygon fill=\"#ffffff\" stroke=\"black\" points=\"373,-306 214,-306 214,-223 373,-223 373,-306\"/>\n",
       "<text text-anchor=\"middle\" x=\"293.5\" y=\"-290.8\" font-family=\"Times,serif\" font-size=\"14.00\">petal length (cm) &lt;= 4.75</text>\n",
       "<text text-anchor=\"middle\" x=\"293.5\" y=\"-275.8\" font-family=\"Times,serif\" font-size=\"14.00\">entropy = 1.0</text>\n",
       "<text text-anchor=\"middle\" x=\"293.5\" y=\"-260.8\" font-family=\"Times,serif\" font-size=\"14.00\">samples = 74</text>\n",
       "<text text-anchor=\"middle\" x=\"293.5\" y=\"-245.8\" font-family=\"Times,serif\" font-size=\"14.00\">value = [0, 37, 37]</text>\n",
       "<text text-anchor=\"middle\" x=\"293.5\" y=\"-230.8\" font-family=\"Times,serif\" font-size=\"14.00\">class = 1 - versicolor</text>\n",
       "</g>\n",
       "<!-- 0&#45;&gt;2 -->\n",
       "<g id=\"edge2\" class=\"edge\">\n",
       "<title>0-&gt;2</title>\n",
       "<path fill=\"none\" stroke=\"black\" d=\"M243.21,-341.91C249.01,-333.1 255.2,-323.7 261.18,-314.61\"/>\n",
       "<polygon fill=\"black\" stroke=\"black\" points=\"264.26,-316.3 266.83,-306.02 258.41,-312.45 264.26,-316.3\"/>\n",
       "<text text-anchor=\"middle\" x=\"271.88\" y=\"-326.81\" font-family=\"Times,serif\" font-size=\"14.00\">False</text>\n",
       "</g>\n",
       "<!-- 3 -->\n",
       "<g id=\"node4\" class=\"node\">\n",
       "<title>3</title>\n",
       "<polygon fill=\"#3fe685\" stroke=\"black\" points=\"282,-187 133,-187 133,-104 282,-104 282,-187\"/>\n",
       "<text text-anchor=\"middle\" x=\"207.5\" y=\"-171.8\" font-family=\"Times,serif\" font-size=\"14.00\">petal width (cm) &lt;= 1.6</text>\n",
       "<text text-anchor=\"middle\" x=\"207.5\" y=\"-156.8\" font-family=\"Times,serif\" font-size=\"14.00\">entropy = 0.196</text>\n",
       "<text text-anchor=\"middle\" x=\"207.5\" y=\"-141.8\" font-family=\"Times,serif\" font-size=\"14.00\">samples = 33</text>\n",
       "<text text-anchor=\"middle\" x=\"207.5\" y=\"-126.8\" font-family=\"Times,serif\" font-size=\"14.00\">value = [0, 32, 1]</text>\n",
       "<text text-anchor=\"middle\" x=\"207.5\" y=\"-111.8\" font-family=\"Times,serif\" font-size=\"14.00\">class = 1 - versicolor</text>\n",
       "</g>\n",
       "<!-- 2&#45;&gt;3 -->\n",
       "<g id=\"edge3\" class=\"edge\">\n",
       "<title>2-&gt;3</title>\n",
       "<path fill=\"none\" stroke=\"black\" d=\"M263.66,-222.91C257.13,-214.01 250.14,-204.51 243.39,-195.33\"/>\n",
       "<polygon fill=\"black\" stroke=\"black\" points=\"246.03,-193.01 237.28,-187.02 240.39,-197.15 246.03,-193.01\"/>\n",
       "</g>\n",
       "<!-- 6 -->\n",
       "<g id=\"node7\" class=\"node\">\n",
       "<title>6</title>\n",
       "<polygon fill=\"#9254e9\" stroke=\"black\" points=\"459,-187 300,-187 300,-104 459,-104 459,-187\"/>\n",
       "<text text-anchor=\"middle\" x=\"379.5\" y=\"-171.8\" font-family=\"Times,serif\" font-size=\"14.00\">petal length (cm) &lt;= 5.15</text>\n",
       "<text text-anchor=\"middle\" x=\"379.5\" y=\"-156.8\" font-family=\"Times,serif\" font-size=\"14.00\">entropy = 0.535</text>\n",
       "<text text-anchor=\"middle\" x=\"379.5\" y=\"-141.8\" font-family=\"Times,serif\" font-size=\"14.00\">samples = 41</text>\n",
       "<text text-anchor=\"middle\" x=\"379.5\" y=\"-126.8\" font-family=\"Times,serif\" font-size=\"14.00\">value = [0, 5, 36]</text>\n",
       "<text text-anchor=\"middle\" x=\"379.5\" y=\"-111.8\" font-family=\"Times,serif\" font-size=\"14.00\">class = 2 - virginica</text>\n",
       "</g>\n",
       "<!-- 2&#45;&gt;6 -->\n",
       "<g id=\"edge6\" class=\"edge\">\n",
       "<title>2-&gt;6</title>\n",
       "<path fill=\"none\" stroke=\"black\" d=\"M323.34,-222.91C329.87,-214.01 336.86,-204.51 343.61,-195.33\"/>\n",
       "<polygon fill=\"black\" stroke=\"black\" points=\"346.61,-197.15 349.72,-187.02 340.97,-193.01 346.61,-197.15\"/>\n",
       "</g>\n",
       "<!-- 4 -->\n",
       "<g id=\"node5\" class=\"node\">\n",
       "<title>4</title>\n",
       "<polygon fill=\"#39e581\" stroke=\"black\" points=\"133,-68 0,-68 0,0 133,0 133,-68\"/>\n",
       "<text text-anchor=\"middle\" x=\"66.5\" y=\"-52.8\" font-family=\"Times,serif\" font-size=\"14.00\">entropy = 0.0</text>\n",
       "<text text-anchor=\"middle\" x=\"66.5\" y=\"-37.8\" font-family=\"Times,serif\" font-size=\"14.00\">samples = 32</text>\n",
       "<text text-anchor=\"middle\" x=\"66.5\" y=\"-22.8\" font-family=\"Times,serif\" font-size=\"14.00\">value = [0, 32, 0]</text>\n",
       "<text text-anchor=\"middle\" x=\"66.5\" y=\"-7.8\" font-family=\"Times,serif\" font-size=\"14.00\">class = 1 - versicolor</text>\n",
       "</g>\n",
       "<!-- 3&#45;&gt;4 -->\n",
       "<g id=\"edge4\" class=\"edge\">\n",
       "<title>3-&gt;4</title>\n",
       "<path fill=\"none\" stroke=\"black\" d=\"M155,-103.73C142.66,-94.15 129.55,-83.96 117.29,-74.44\"/>\n",
       "<polygon fill=\"black\" stroke=\"black\" points=\"119.42,-71.67 109.38,-68.3 115.13,-77.2 119.42,-71.67\"/>\n",
       "</g>\n",
       "<!-- 5 -->\n",
       "<g id=\"node6\" class=\"node\">\n",
       "<title>5</title>\n",
       "<polygon fill=\"#8139e5\" stroke=\"black\" points=\"278,-68 151,-68 151,0 278,0 278,-68\"/>\n",
       "<text text-anchor=\"middle\" x=\"214.5\" y=\"-52.8\" font-family=\"Times,serif\" font-size=\"14.00\">entropy = 0.0</text>\n",
       "<text text-anchor=\"middle\" x=\"214.5\" y=\"-37.8\" font-family=\"Times,serif\" font-size=\"14.00\">samples = 1</text>\n",
       "<text text-anchor=\"middle\" x=\"214.5\" y=\"-22.8\" font-family=\"Times,serif\" font-size=\"14.00\">value = [0, 0, 1]</text>\n",
       "<text text-anchor=\"middle\" x=\"214.5\" y=\"-7.8\" font-family=\"Times,serif\" font-size=\"14.00\">class = 2 - virginica</text>\n",
       "</g>\n",
       "<!-- 3&#45;&gt;5 -->\n",
       "<g id=\"edge5\" class=\"edge\">\n",
       "<title>3-&gt;5</title>\n",
       "<path fill=\"none\" stroke=\"black\" d=\"M210.11,-103.73C210.64,-95.43 211.2,-86.67 211.73,-78.28\"/>\n",
       "<polygon fill=\"black\" stroke=\"black\" points=\"215.23,-78.5 212.37,-68.3 208.24,-78.06 215.23,-78.5\"/>\n",
       "</g>\n",
       "<!-- 7 -->\n",
       "<g id=\"node8\" class=\"node\">\n",
       "<title>7</title>\n",
       "<polygon fill=\"#c09cf2\" stroke=\"black\" points=\"436,-68 309,-68 309,0 436,0 436,-68\"/>\n",
       "<text text-anchor=\"middle\" x=\"372.5\" y=\"-52.8\" font-family=\"Times,serif\" font-size=\"14.00\">entropy = 0.918</text>\n",
       "<text text-anchor=\"middle\" x=\"372.5\" y=\"-37.8\" font-family=\"Times,serif\" font-size=\"14.00\">samples = 15</text>\n",
       "<text text-anchor=\"middle\" x=\"372.5\" y=\"-22.8\" font-family=\"Times,serif\" font-size=\"14.00\">value = [0, 5, 10]</text>\n",
       "<text text-anchor=\"middle\" x=\"372.5\" y=\"-7.8\" font-family=\"Times,serif\" font-size=\"14.00\">class = 2 - virginica</text>\n",
       "</g>\n",
       "<!-- 6&#45;&gt;7 -->\n",
       "<g id=\"edge7\" class=\"edge\">\n",
       "<title>6-&gt;7</title>\n",
       "<path fill=\"none\" stroke=\"black\" d=\"M376.89,-103.73C376.36,-95.43 375.8,-86.67 375.27,-78.28\"/>\n",
       "<polygon fill=\"black\" stroke=\"black\" points=\"378.76,-78.06 374.63,-68.3 371.77,-78.5 378.76,-78.06\"/>\n",
       "</g>\n",
       "<!-- 8 -->\n",
       "<g id=\"node9\" class=\"node\">\n",
       "<title>8</title>\n",
       "<polygon fill=\"#8139e5\" stroke=\"black\" points=\"581,-68 454,-68 454,0 581,0 581,-68\"/>\n",
       "<text text-anchor=\"middle\" x=\"517.5\" y=\"-52.8\" font-family=\"Times,serif\" font-size=\"14.00\">entropy = 0.0</text>\n",
       "<text text-anchor=\"middle\" x=\"517.5\" y=\"-37.8\" font-family=\"Times,serif\" font-size=\"14.00\">samples = 26</text>\n",
       "<text text-anchor=\"middle\" x=\"517.5\" y=\"-22.8\" font-family=\"Times,serif\" font-size=\"14.00\">value = [0, 0, 26]</text>\n",
       "<text text-anchor=\"middle\" x=\"517.5\" y=\"-7.8\" font-family=\"Times,serif\" font-size=\"14.00\">class = 2 - virginica</text>\n",
       "</g>\n",
       "<!-- 6&#45;&gt;8 -->\n",
       "<g id=\"edge8\" class=\"edge\">\n",
       "<title>6-&gt;8</title>\n",
       "<path fill=\"none\" stroke=\"black\" d=\"M430.89,-103.73C442.84,-94.24 455.55,-84.16 467.45,-74.72\"/>\n",
       "<polygon fill=\"black\" stroke=\"black\" points=\"469.88,-77.26 475.53,-68.3 465.52,-71.77 469.88,-77.26\"/>\n",
       "</g>\n",
       "</g>\n",
       "</svg>"
      ],
      "text/plain": [
       "<IPython.core.display.SVG object>"
      ]
     },
     "metadata": {},
     "output_type": "display_data"
    }
   ],
   "source": [
    "for max_depth in range(1, 4):\n",
    "    print('-' * 70 + '\\nTree for max_dept = {0}\\n'.format(max_depth))\n",
    "    tree = DecisionTreeClassifier(max_depth=max_depth, criterion='entropy')\n",
    "    # Fit on train data\n",
    "    tree.fit(X_train, y_train)\n",
    "\n",
    "    # Make prediction and evaluate performance\n",
    "    pred_train = tree.predict(X_train)\n",
    "    pred_test = tree.predict(X_test)\n",
    "    print('Correctly identified on train set - {0:.02%}, on test set - {1:.02%}'.format(\n",
    "        (pred_train == y_train).mean(),\n",
    "        (pred_test == y_test).mean()))\n",
    "\n",
    "    # Make a nice plot\n",
    "    graph = Source(export_graphviz(tree, out_file=None, filled = True,\n",
    "                                   feature_names=df.drop('class', axis=1).columns,\n",
    "                                   class_names=['0 - setosa', '1 - versicolor', '2 - virginica']))\n",
    "    display(SVG(graph.pipe(format='svg')))"
   ]
  },
  {
   "cell_type": "markdown",
   "metadata": {},
   "source": [
    "As we can see simple decision tree works quite good for iris dataset."
   ]
  },
  {
   "cell_type": "markdown",
   "metadata": {},
   "source": [
    "### Larger dataset and overfit example\n",
    "\n",
    "Let's load another legendary dataset containing classification problem. If you are interested in dataset details see [UCI](https://archive.ics.uci.edu/ml/datasets/Breast+Cancer+Wisconsin+%28Diagnostic%29)."
   ]
  },
  {
   "cell_type": "code",
   "execution_count": 54,
   "metadata": {
    "gradient": {}
   },
   "outputs": [],
   "source": [
    "from sklearn.datasets import load_breast_cancer\n",
    "\n",
    "# Load dataset\n",
    "cancer = load_breast_cancer()\n",
    "df = pd.DataFrame(cancer.data, columns = cancer.feature_names)\n",
    "df['class'] = cancer.target_names[cancer.target]\n",
    "\n",
    "# Train/test split\n",
    "X_train, X_test, y_train, y_test = train_test_split(\n",
    "    df.drop('class', axis=1), df['class'],\n",
    "    test_size=0.4, random_state=42)"
   ]
  },
  {
   "cell_type": "code",
   "execution_count": 11,
   "metadata": {
    "gradient": {}
   },
   "outputs": [
    {
     "data": {
      "text/plain": [
       "class\n",
       "benign       357\n",
       "malignant    212\n",
       "dtype: int64"
      ]
     },
     "execution_count": 11,
     "metadata": {},
     "output_type": "execute_result"
    }
   ],
   "source": [
    "df.groupby('class').size()"
   ]
  },
  {
   "cell_type": "markdown",
   "metadata": {},
   "source": [
    "As before we will fit multiple trees with different max_depth's. This time let's plot performance on train and test sets."
   ]
  },
  {
   "cell_type": "code",
   "execution_count": 57,
   "metadata": {
    "gradient": {}
   },
   "outputs": [
    {
     "data": {
      "text/plain": [
       "<AxesSubplot:title={'center':'Accuracy for different max_depth values'}>"
      ]
     },
     "execution_count": 57,
     "metadata": {},
     "output_type": "execute_result"
    },
    {
     "data": {
      "image/png": "[encoded data removed]",
      "text/plain": [
       "<Figure size 432x288 with 1 Axes>"
      ]
     },
     "metadata": {
      "needs_background": "light"
     },
     "output_type": "display_data"
    }
   ],
   "source": [
    "L = []\n",
    "for max_depth in range(1, 10):\n",
    "    tree = DecisionTreeClassifier(max_depth=max_depth, criterion='entropy', random_state=42)\n",
    "    # Fit on train data\n",
    "    tree.fit(X_train, y_train)\n",
    "\n",
    "    # Make prediction and evaluate performance\n",
    "    pred_train = tree.predict(X_train)\n",
    "    pred_test = tree.predict(X_test)\n",
    "    L.append([(pred_train == y_train).mean(),\n",
    "              (pred_test == y_test).mean()])\n",
    "\n",
    "pd.DataFrame(L, columns=['train', 'test']).plot(\n",
    "    title='Accuracy for different max_depth values')"
   ]
  },
  {
   "cell_type": "markdown",
   "metadata": {},
   "source": [
    "Notice that as the depth increases, we tend to get very strangely shaped classification regions. Such overfitting turns out to be a general property of decision trees: it is very easy to go too deep in the tree, and thus to fit details of the particular data rather than the overall properties of the distributions they are drawn from. Another way to see this overfitting is to look at models trained on different subsets of the data.\n",
    "\n",
    "How can we prevent it in this case?"
   ]
  },
  {
   "cell_type": "markdown",
   "metadata": {},
   "source": [
    "## Ensembles\n",
    "\n",
    "The notion that multiple overfitting estimators can be combined to reduce the effect of overfitting is what underlies an ensemble method called bagging. Bagging makes use of an ensemble (a grab bag, perhaps) of parallel estimators, each of which overfits the data, and averages the results to find a better classification. An ensemble of randomized decision trees is known as a random forest.\n",
    "\n",
    "<img src=\"https://paper-attachments.dropbox.com/s_4C6E1420D930BE100F0F1313D7A90868E9FB8CAFCB77E86AC4D0FB805D8FC787_1569583935206_image.png\"  style=\"width: 50%\"/>\n",
    "\n",
    "<img src=\"https://paper-attachments.dropbox.com/s_4C6E1420D930BE100F0F1313D7A90868E9FB8CAFCB77E86AC4D0FB805D8FC787_1569583987571_image.png\"  style=\"width: 50%\"/>\n",
    "\n",
    "Ensemble methods work best when the predictors are as independent from one another as possible. One way to get diverse classifiers is to train them using very different algorithms. This increases the chance that they will make very different types of errors, improving the ensemble’s accuracy.\n",
    "\n",
    "Ensemble methods lead to similar bias but a lower variance.\n",
    "\n",
    "<img src=\"https://nvsyashwanth.github.io/machinelearningmaster/assets/images/bias_variance.jpg\" style=\"width: 40%\"/>\n",
    "\n",
    "### Random forests\n",
    "\n",
    "You can make multiple trees by choosing sub-sample of features (usually $\\sqrt{m}$) and taking bootstrapped samples. Then just let trees vote for decision.\n",
    "\n",
    "<img src=\"https://victorzhou.com/media/random-forest-post/random-forest.png\" style=\"width: 60%\"/>\n",
    "\n",
    "Hard voting averages predictions, soft voting averages predicted probabilities instead. "
   ]
  },
  {
   "cell_type": "code",
   "execution_count": 58,
   "metadata": {
    "gradient": {}
   },
   "outputs": [],
   "source": [
    "from sklearn.ensemble import BaggingClassifier\n",
    "\n",
    "# Defining the base estimator\n",
    "base = DecisionTreeClassifier(max_depth=5, splitter='best',\n",
    "                              max_features='sqrt', criterion='entropy')\n",
    "\n",
    "# Create Random Forest \n",
    "ensemble = BaggingClassifier(base_estimator=base, n_estimators=1000,\n",
    "                             bootstrap=True)"
   ]
  },
  {
   "cell_type": "code",
   "execution_count": 60,
   "metadata": {
    "gradient": {}
   },
   "outputs": [
    {
     "name": "stdout",
     "output_type": "stream",
     "text": [
      "Correctly identified on train set - 99.41%, on test set - 97.81%\n",
      "\n",
      "CPU times: user 824 ms, sys: 21.9 ms, total: 846 ms\n",
      "Wall time: 846 ms\n"
     ]
    }
   ],
   "source": [
    "%%time\n",
    "\n",
    "ensemble.fit(X_train, y_train)\n",
    "pred_train = ensemble.predict(X_train)\n",
    "pred_test = ensemble.predict(X_test)\n",
    "    \n",
    "print('Correctly identified on train set - {0:.02%}, on test set - {1:.02%}\\n'.format(\n",
    "    (pred_train == y_train).mean(),        # train set\n",
    "    (pred_test == y_test).mean()))         # test set"
   ]
  },
  {
   "cell_type": "markdown",
   "metadata": {},
   "source": [
    "In realiy you should use `RandomForestClassifier` implementation instead. Lines above are only for illustation purposes."
   ]
  },
  {
   "cell_type": "code",
   "execution_count": 61,
   "metadata": {
    "gradient": {}
   },
   "outputs": [],
   "source": [
    "from sklearn.ensemble import RandomForestClassifier"
   ]
  },
  {
   "cell_type": "code",
   "execution_count": 70,
   "metadata": {},
   "outputs": [],
   "source": [
    "RandomForestClassifier?"
   ]
  },
  {
   "cell_type": "code",
   "execution_count": 73,
   "metadata": {
    "gradient": {}
   },
   "outputs": [
    {
     "name": "stdout",
     "output_type": "stream",
     "text": [
      "Correctly identified on train set - 100.00%, on test set - 98.25%\n",
      "\n",
      "CPU times: user 740 ms, sys: 8.45 ms, total: 749 ms\n",
      "Wall time: 747 ms\n"
     ]
    }
   ],
   "source": [
    "%%time\n",
    "\n",
    "rf = RandomForestClassifier(1000, criterion='entropy', max_depth=10)\n",
    "rf.fit(X_train, y_train)\n",
    "pred_train = rf.predict(X_train)\n",
    "pred_test = rf.predict(X_test)\n",
    "\n",
    "print('Correctly identified on train set - {0:.02%}, on test set - {1:.02%}\\n'.format(\n",
    "    (pred_train == y_train).mean(),\n",
    "    (pred_test == y_test).mean()))"
   ]
  },
  {
   "cell_type": "markdown",
   "metadata": {},
   "source": [
    "**Note:** there are other variations of boosted trees, for example ExtraTrees can be constructed by setting splitter to random and bootstrap to False. ExtraTrees are usually faster to train, but Random Forests are more well known, just try them both and see which works better for problem at hand."
   ]
  },
  {
   "cell_type": "markdown",
   "metadata": {},
   "source": [
    "### Task\n",
    "\n",
    "Try to use `sklearn.ensemble.RandomForestClassifier` for iris dataset. Use sklearn implementation."
   ]
  },
  {
   "cell_type": "code",
   "execution_count": 135,
   "metadata": {
    "gradient": {}
   },
   "outputs": [],
   "source": [
    "# Load dataset\n",
    "iris = load_iris()\n",
    "df = pd.DataFrame(iris.data, columns = iris.feature_names)\n",
    "df['class'] = iris.target_names[iris.target]\n",
    "\n",
    "# df['sepal area'] = df['sepal length (cm)'] * df['sepal width (cm)']\n",
    "# df['petal area'] = df['petal length (cm)'] * df['petal width (cm)']\n",
    "# df['visual pleasure'] = df['sepal area'] / df['petal area']\n",
    "\n",
    "# Train/test split\n",
    "X_train, X_test, y_train, y_test = train_test_split(\n",
    "    df.drop(['class', 'sepal length (cm)', 'sepal width (cm)',\n",
    "             'petal length (cm)', 'petal width (cm)'], axis=1), df['class'],\n",
    "    test_size=0.5, random_state=42)\n",
    "\n",
    "# TODO:\n",
    "# 1. train RF and compare results to the ones we had above\n",
    "# 2. add more features\n"
   ]
  },
  {
   "cell_type": "code",
   "execution_count": 136,
   "metadata": {},
   "outputs": [
    {
     "ename": "ValueError",
     "evalue": "at least one array or dtype is required",
     "output_type": "error",
     "traceback": [
      "\u001b[0;31m---------------------------------------------------------------------------\u001b[0m",
      "\u001b[0;31mValueError\u001b[0m                                Traceback (most recent call last)",
      "\u001b[0;32m/var/folders/71/2t6j6ytn1t3dfp5dxb9zhh6w0000gn/T/ipykernel_2069/4229513911.py\u001b[0m in \u001b[0;36m<module>\u001b[0;34m\u001b[0m\n\u001b[1;32m      1\u001b[0m \u001b[0mrf\u001b[0m \u001b[0;34m=\u001b[0m \u001b[0mRandomForestClassifier\u001b[0m\u001b[0;34m(\u001b[0m\u001b[0;36m1000\u001b[0m\u001b[0;34m,\u001b[0m \u001b[0mcriterion\u001b[0m\u001b[0;34m=\u001b[0m\u001b[0;34m'entropy'\u001b[0m\u001b[0;34m,\u001b[0m \u001b[0mmax_depth\u001b[0m\u001b[0;34m=\u001b[0m\u001b[0;36m10\u001b[0m\u001b[0;34m)\u001b[0m\u001b[0;34m\u001b[0m\u001b[0;34m\u001b[0m\u001b[0m\n\u001b[0;32m----> 2\u001b[0;31m \u001b[0mrf\u001b[0m\u001b[0;34m.\u001b[0m\u001b[0mfit\u001b[0m\u001b[0;34m(\u001b[0m\u001b[0mX_train\u001b[0m\u001b[0;34m,\u001b[0m \u001b[0my_train\u001b[0m\u001b[0;34m)\u001b[0m\u001b[0;34m\u001b[0m\u001b[0;34m\u001b[0m\u001b[0m\n\u001b[0m\u001b[1;32m      3\u001b[0m \u001b[0mpred_train\u001b[0m \u001b[0;34m=\u001b[0m \u001b[0mrf\u001b[0m\u001b[0;34m.\u001b[0m\u001b[0mpredict\u001b[0m\u001b[0;34m(\u001b[0m\u001b[0mX_train\u001b[0m\u001b[0;34m)\u001b[0m\u001b[0;34m\u001b[0m\u001b[0;34m\u001b[0m\u001b[0m\n\u001b[1;32m      4\u001b[0m \u001b[0mpred_test\u001b[0m \u001b[0;34m=\u001b[0m \u001b[0mrf\u001b[0m\u001b[0;34m.\u001b[0m\u001b[0mpredict\u001b[0m\u001b[0;34m(\u001b[0m\u001b[0mX_test\u001b[0m\u001b[0;34m)\u001b[0m\u001b[0;34m\u001b[0m\u001b[0;34m\u001b[0m\u001b[0m\n",
      "\u001b[0;32m/opt/homebrew/Caskroom/miniforge/base/envs/ai_primer/lib/python3.9/site-packages/sklearn/ensemble/_forest.py\u001b[0m in \u001b[0;36mfit\u001b[0;34m(self, X, y, sample_weight)\u001b[0m\n\u001b[1;32m    301\u001b[0m                 \u001b[0;34m\"sparse multilabel-indicator for y is not supported.\"\u001b[0m\u001b[0;34m\u001b[0m\u001b[0;34m\u001b[0m\u001b[0m\n\u001b[1;32m    302\u001b[0m             )\n\u001b[0;32m--> 303\u001b[0;31m         X, y = self._validate_data(X, y, multi_output=True,\n\u001b[0m\u001b[1;32m    304\u001b[0m                                    accept_sparse=\"csc\", dtype=DTYPE)\n\u001b[1;32m    305\u001b[0m         \u001b[0;32mif\u001b[0m \u001b[0msample_weight\u001b[0m \u001b[0;32mis\u001b[0m \u001b[0;32mnot\u001b[0m \u001b[0;32mNone\u001b[0m\u001b[0;34m:\u001b[0m\u001b[0;34m\u001b[0m\u001b[0;34m\u001b[0m\u001b[0m\n",
      "\u001b[0;32m/opt/homebrew/Caskroom/miniforge/base/envs/ai_primer/lib/python3.9/site-packages/sklearn/base.py\u001b[0m in \u001b[0;36m_validate_data\u001b[0;34m(self, X, y, reset, validate_separately, **check_params)\u001b[0m\n\u001b[1;32m    430\u001b[0m                 \u001b[0my\u001b[0m \u001b[0;34m=\u001b[0m \u001b[0mcheck_array\u001b[0m\u001b[0;34m(\u001b[0m\u001b[0my\u001b[0m\u001b[0;34m,\u001b[0m \u001b[0;34m**\u001b[0m\u001b[0mcheck_y_params\u001b[0m\u001b[0;34m)\u001b[0m\u001b[0;34m\u001b[0m\u001b[0;34m\u001b[0m\u001b[0m\n\u001b[1;32m    431\u001b[0m             \u001b[0;32melse\u001b[0m\u001b[0;34m:\u001b[0m\u001b[0;34m\u001b[0m\u001b[0;34m\u001b[0m\u001b[0m\n\u001b[0;32m--> 432\u001b[0;31m                 \u001b[0mX\u001b[0m\u001b[0;34m,\u001b[0m \u001b[0my\u001b[0m \u001b[0;34m=\u001b[0m \u001b[0mcheck_X_y\u001b[0m\u001b[0;34m(\u001b[0m\u001b[0mX\u001b[0m\u001b[0;34m,\u001b[0m \u001b[0my\u001b[0m\u001b[0;34m,\u001b[0m \u001b[0;34m**\u001b[0m\u001b[0mcheck_params\u001b[0m\u001b[0;34m)\u001b[0m\u001b[0;34m\u001b[0m\u001b[0;34m\u001b[0m\u001b[0m\n\u001b[0m\u001b[1;32m    433\u001b[0m             \u001b[0mout\u001b[0m \u001b[0;34m=\u001b[0m \u001b[0mX\u001b[0m\u001b[0;34m,\u001b[0m \u001b[0my\u001b[0m\u001b[0;34m\u001b[0m\u001b[0;34m\u001b[0m\u001b[0m\n\u001b[1;32m    434\u001b[0m \u001b[0;34m\u001b[0m\u001b[0m\n",
      "\u001b[0;32m/opt/homebrew/Caskroom/miniforge/base/envs/ai_primer/lib/python3.9/site-packages/sklearn/utils/validation.py\u001b[0m in \u001b[0;36minner_f\u001b[0;34m(*args, **kwargs)\u001b[0m\n\u001b[1;32m     70\u001b[0m                           FutureWarning)\n\u001b[1;32m     71\u001b[0m         \u001b[0mkwargs\u001b[0m\u001b[0;34m.\u001b[0m\u001b[0mupdate\u001b[0m\u001b[0;34m(\u001b[0m\u001b[0;34m{\u001b[0m\u001b[0mk\u001b[0m\u001b[0;34m:\u001b[0m \u001b[0marg\u001b[0m \u001b[0;32mfor\u001b[0m \u001b[0mk\u001b[0m\u001b[0;34m,\u001b[0m \u001b[0marg\u001b[0m \u001b[0;32min\u001b[0m \u001b[0mzip\u001b[0m\u001b[0;34m(\u001b[0m\u001b[0msig\u001b[0m\u001b[0;34m.\u001b[0m\u001b[0mparameters\u001b[0m\u001b[0;34m,\u001b[0m \u001b[0margs\u001b[0m\u001b[0;34m)\u001b[0m\u001b[0;34m}\u001b[0m\u001b[0;34m)\u001b[0m\u001b[0;34m\u001b[0m\u001b[0;34m\u001b[0m\u001b[0m\n\u001b[0;32m---> 72\u001b[0;31m         \u001b[0;32mreturn\u001b[0m \u001b[0mf\u001b[0m\u001b[0;34m(\u001b[0m\u001b[0;34m**\u001b[0m\u001b[0mkwargs\u001b[0m\u001b[0;34m)\u001b[0m\u001b[0;34m\u001b[0m\u001b[0;34m\u001b[0m\u001b[0m\n\u001b[0m\u001b[1;32m     73\u001b[0m     \u001b[0;32mreturn\u001b[0m \u001b[0minner_f\u001b[0m\u001b[0;34m\u001b[0m\u001b[0;34m\u001b[0m\u001b[0m\n\u001b[1;32m     74\u001b[0m \u001b[0;34m\u001b[0m\u001b[0m\n",
      "\u001b[0;32m/opt/homebrew/Caskroom/miniforge/base/envs/ai_primer/lib/python3.9/site-packages/sklearn/utils/validation.py\u001b[0m in \u001b[0;36mcheck_X_y\u001b[0;34m(X, y, accept_sparse, accept_large_sparse, dtype, order, copy, force_all_finite, ensure_2d, allow_nd, multi_output, ensure_min_samples, ensure_min_features, y_numeric, estimator)\u001b[0m\n\u001b[1;32m    793\u001b[0m         \u001b[0;32mraise\u001b[0m \u001b[0mValueError\u001b[0m\u001b[0;34m(\u001b[0m\u001b[0;34m\"y cannot be None\"\u001b[0m\u001b[0;34m)\u001b[0m\u001b[0;34m\u001b[0m\u001b[0;34m\u001b[0m\u001b[0m\n\u001b[1;32m    794\u001b[0m \u001b[0;34m\u001b[0m\u001b[0m\n\u001b[0;32m--> 795\u001b[0;31m     X = check_array(X, accept_sparse=accept_sparse,\n\u001b[0m\u001b[1;32m    796\u001b[0m                     \u001b[0maccept_large_sparse\u001b[0m\u001b[0;34m=\u001b[0m\u001b[0maccept_large_sparse\u001b[0m\u001b[0;34m,\u001b[0m\u001b[0;34m\u001b[0m\u001b[0;34m\u001b[0m\u001b[0m\n\u001b[1;32m    797\u001b[0m                     \u001b[0mdtype\u001b[0m\u001b[0;34m=\u001b[0m\u001b[0mdtype\u001b[0m\u001b[0;34m,\u001b[0m \u001b[0morder\u001b[0m\u001b[0;34m=\u001b[0m\u001b[0morder\u001b[0m\u001b[0;34m,\u001b[0m \u001b[0mcopy\u001b[0m\u001b[0;34m=\u001b[0m\u001b[0mcopy\u001b[0m\u001b[0;34m,\u001b[0m\u001b[0;34m\u001b[0m\u001b[0;34m\u001b[0m\u001b[0m\n",
      "\u001b[0;32m/opt/homebrew/Caskroom/miniforge/base/envs/ai_primer/lib/python3.9/site-packages/sklearn/utils/validation.py\u001b[0m in \u001b[0;36minner_f\u001b[0;34m(*args, **kwargs)\u001b[0m\n\u001b[1;32m     70\u001b[0m                           FutureWarning)\n\u001b[1;32m     71\u001b[0m         \u001b[0mkwargs\u001b[0m\u001b[0;34m.\u001b[0m\u001b[0mupdate\u001b[0m\u001b[0;34m(\u001b[0m\u001b[0;34m{\u001b[0m\u001b[0mk\u001b[0m\u001b[0;34m:\u001b[0m \u001b[0marg\u001b[0m \u001b[0;32mfor\u001b[0m \u001b[0mk\u001b[0m\u001b[0;34m,\u001b[0m \u001b[0marg\u001b[0m \u001b[0;32min\u001b[0m \u001b[0mzip\u001b[0m\u001b[0;34m(\u001b[0m\u001b[0msig\u001b[0m\u001b[0;34m.\u001b[0m\u001b[0mparameters\u001b[0m\u001b[0;34m,\u001b[0m \u001b[0margs\u001b[0m\u001b[0;34m)\u001b[0m\u001b[0;34m}\u001b[0m\u001b[0;34m)\u001b[0m\u001b[0;34m\u001b[0m\u001b[0;34m\u001b[0m\u001b[0m\n\u001b[0;32m---> 72\u001b[0;31m         \u001b[0;32mreturn\u001b[0m \u001b[0mf\u001b[0m\u001b[0;34m(\u001b[0m\u001b[0;34m**\u001b[0m\u001b[0mkwargs\u001b[0m\u001b[0;34m)\u001b[0m\u001b[0;34m\u001b[0m\u001b[0;34m\u001b[0m\u001b[0m\n\u001b[0m\u001b[1;32m     73\u001b[0m     \u001b[0;32mreturn\u001b[0m \u001b[0minner_f\u001b[0m\u001b[0;34m\u001b[0m\u001b[0;34m\u001b[0m\u001b[0m\n\u001b[1;32m     74\u001b[0m \u001b[0;34m\u001b[0m\u001b[0m\n",
      "\u001b[0;32m/opt/homebrew/Caskroom/miniforge/base/envs/ai_primer/lib/python3.9/site-packages/sklearn/utils/validation.py\u001b[0m in \u001b[0;36mcheck_array\u001b[0;34m(array, accept_sparse, accept_large_sparse, dtype, order, copy, force_all_finite, ensure_2d, allow_nd, ensure_min_samples, ensure_min_features, estimator)\u001b[0m\n\u001b[1;32m    531\u001b[0m \u001b[0;34m\u001b[0m\u001b[0m\n\u001b[1;32m    532\u001b[0m         \u001b[0;32mif\u001b[0m \u001b[0mall\u001b[0m\u001b[0;34m(\u001b[0m\u001b[0misinstance\u001b[0m\u001b[0;34m(\u001b[0m\u001b[0mdtype\u001b[0m\u001b[0;34m,\u001b[0m \u001b[0mnp\u001b[0m\u001b[0;34m.\u001b[0m\u001b[0mdtype\u001b[0m\u001b[0;34m)\u001b[0m \u001b[0;32mfor\u001b[0m \u001b[0mdtype\u001b[0m \u001b[0;32min\u001b[0m \u001b[0mdtypes_orig\u001b[0m\u001b[0;34m)\u001b[0m\u001b[0;34m:\u001b[0m\u001b[0;34m\u001b[0m\u001b[0;34m\u001b[0m\u001b[0m\n\u001b[0;32m--> 533\u001b[0;31m             \u001b[0mdtype_orig\u001b[0m \u001b[0;34m=\u001b[0m \u001b[0mnp\u001b[0m\u001b[0;34m.\u001b[0m\u001b[0mresult_type\u001b[0m\u001b[0;34m(\u001b[0m\u001b[0;34m*\u001b[0m\u001b[0mdtypes_orig\u001b[0m\u001b[0;34m)\u001b[0m\u001b[0;34m\u001b[0m\u001b[0;34m\u001b[0m\u001b[0m\n\u001b[0m\u001b[1;32m    534\u001b[0m \u001b[0;34m\u001b[0m\u001b[0m\n\u001b[1;32m    535\u001b[0m     \u001b[0;32mif\u001b[0m \u001b[0mdtype_numeric\u001b[0m\u001b[0;34m:\u001b[0m\u001b[0;34m\u001b[0m\u001b[0;34m\u001b[0m\u001b[0m\n",
      "\u001b[0;32m<__array_function__ internals>\u001b[0m in \u001b[0;36mresult_type\u001b[0;34m(*args, **kwargs)\u001b[0m\n",
      "\u001b[0;31mValueError\u001b[0m: at least one array or dtype is required"
     ]
    }
   ],
   "source": [
    "rf = RandomForestClassifier(1000, criterion='entropy', max_depth=10)\n",
    "rf.fit(X_train, y_train)\n",
    "pred_train = rf.predict(X_train)\n",
    "pred_test = rf.predict(X_test)"
   ]
  },
  {
   "cell_type": "code",
   "execution_count": 137,
   "metadata": {},
   "outputs": [
    {
     "data": {
      "text/plain": [
       "1.0"
      ]
     },
     "execution_count": 137,
     "metadata": {},
     "output_type": "execute_result"
    }
   ],
   "source": [
    "np.mean(pred_train == y_train)"
   ]
  },
  {
   "cell_type": "code",
   "execution_count": 138,
   "metadata": {},
   "outputs": [
    {
     "data": {
      "text/plain": [
       "0.9866666666666667"
      ]
     },
     "execution_count": 138,
     "metadata": {},
     "output_type": "execute_result"
    }
   ],
   "source": [
    "np.mean(pred_test == y_test)"
   ]
  },
  {
   "cell_type": "code",
   "execution_count": 139,
   "metadata": {},
   "outputs": [
    {
     "ename": "NotFittedError",
     "evalue": "This RandomForestClassifier instance is not fitted yet. Call 'fit' with appropriate arguments before using this estimator.",
     "output_type": "error",
     "traceback": [
      "\u001b[0;31m---------------------------------------------------------------------------\u001b[0m",
      "\u001b[0;31mNotFittedError\u001b[0m                            Traceback (most recent call last)",
      "\u001b[0;32m/var/folders/71/2t6j6ytn1t3dfp5dxb9zhh6w0000gn/T/ipykernel_2069/2255797810.py\u001b[0m in \u001b[0;36m<module>\u001b[0;34m\u001b[0m\n\u001b[0;32m----> 1\u001b[0;31m pd.DataFrame(rf.feature_importances_[np.newaxis],\n\u001b[0m\u001b[1;32m      2\u001b[0m              columns=df.drop(['class', 'sepal length (cm)', 'sepal width (cm)',\n\u001b[1;32m      3\u001b[0m              'petal length (cm)', 'petal width (cm)'], axis=1).columns).T.sort_values(0).style.background_gradient()\n",
      "\u001b[0;32m/opt/homebrew/Caskroom/miniforge/base/envs/ai_primer/lib/python3.9/site-packages/sklearn/ensemble/_forest.py\u001b[0m in \u001b[0;36mfeature_importances_\u001b[0;34m(self)\u001b[0m\n\u001b[1;32m    442\u001b[0m             \u001b[0marray\u001b[0m \u001b[0mof\u001b[0m \u001b[0mzeros\u001b[0m\u001b[0;34m.\u001b[0m\u001b[0;34m\u001b[0m\u001b[0;34m\u001b[0m\u001b[0m\n\u001b[1;32m    443\u001b[0m         \"\"\"\n\u001b[0;32m--> 444\u001b[0;31m         \u001b[0mcheck_is_fitted\u001b[0m\u001b[0;34m(\u001b[0m\u001b[0mself\u001b[0m\u001b[0;34m)\u001b[0m\u001b[0;34m\u001b[0m\u001b[0;34m\u001b[0m\u001b[0m\n\u001b[0m\u001b[1;32m    445\u001b[0m \u001b[0;34m\u001b[0m\u001b[0m\n\u001b[1;32m    446\u001b[0m         all_importances = Parallel(n_jobs=self.n_jobs,\n",
      "\u001b[0;32m/opt/homebrew/Caskroom/miniforge/base/envs/ai_primer/lib/python3.9/site-packages/sklearn/utils/validation.py\u001b[0m in \u001b[0;36minner_f\u001b[0;34m(*args, **kwargs)\u001b[0m\n\u001b[1;32m     70\u001b[0m                           FutureWarning)\n\u001b[1;32m     71\u001b[0m         \u001b[0mkwargs\u001b[0m\u001b[0;34m.\u001b[0m\u001b[0mupdate\u001b[0m\u001b[0;34m(\u001b[0m\u001b[0;34m{\u001b[0m\u001b[0mk\u001b[0m\u001b[0;34m:\u001b[0m \u001b[0marg\u001b[0m \u001b[0;32mfor\u001b[0m \u001b[0mk\u001b[0m\u001b[0;34m,\u001b[0m \u001b[0marg\u001b[0m \u001b[0;32min\u001b[0m \u001b[0mzip\u001b[0m\u001b[0;34m(\u001b[0m\u001b[0msig\u001b[0m\u001b[0;34m.\u001b[0m\u001b[0mparameters\u001b[0m\u001b[0;34m,\u001b[0m \u001b[0margs\u001b[0m\u001b[0;34m)\u001b[0m\u001b[0;34m}\u001b[0m\u001b[0;34m)\u001b[0m\u001b[0;34m\u001b[0m\u001b[0;34m\u001b[0m\u001b[0m\n\u001b[0;32m---> 72\u001b[0;31m         \u001b[0;32mreturn\u001b[0m \u001b[0mf\u001b[0m\u001b[0;34m(\u001b[0m\u001b[0;34m**\u001b[0m\u001b[0mkwargs\u001b[0m\u001b[0;34m)\u001b[0m\u001b[0;34m\u001b[0m\u001b[0;34m\u001b[0m\u001b[0m\n\u001b[0m\u001b[1;32m     73\u001b[0m     \u001b[0;32mreturn\u001b[0m \u001b[0minner_f\u001b[0m\u001b[0;34m\u001b[0m\u001b[0;34m\u001b[0m\u001b[0m\n\u001b[1;32m     74\u001b[0m \u001b[0;34m\u001b[0m\u001b[0m\n",
      "\u001b[0;32m/opt/homebrew/Caskroom/miniforge/base/envs/ai_primer/lib/python3.9/site-packages/sklearn/utils/validation.py\u001b[0m in \u001b[0;36mcheck_is_fitted\u001b[0;34m(estimator, attributes, msg, all_or_any)\u001b[0m\n\u001b[1;32m   1017\u001b[0m \u001b[0;34m\u001b[0m\u001b[0m\n\u001b[1;32m   1018\u001b[0m     \u001b[0;32mif\u001b[0m \u001b[0;32mnot\u001b[0m \u001b[0mattrs\u001b[0m\u001b[0;34m:\u001b[0m\u001b[0;34m\u001b[0m\u001b[0;34m\u001b[0m\u001b[0m\n\u001b[0;32m-> 1019\u001b[0;31m         \u001b[0;32mraise\u001b[0m \u001b[0mNotFittedError\u001b[0m\u001b[0;34m(\u001b[0m\u001b[0mmsg\u001b[0m \u001b[0;34m%\u001b[0m \u001b[0;34m{\u001b[0m\u001b[0;34m'name'\u001b[0m\u001b[0;34m:\u001b[0m \u001b[0mtype\u001b[0m\u001b[0;34m(\u001b[0m\u001b[0mestimator\u001b[0m\u001b[0;34m)\u001b[0m\u001b[0;34m.\u001b[0m\u001b[0m__name__\u001b[0m\u001b[0;34m}\u001b[0m\u001b[0;34m)\u001b[0m\u001b[0;34m\u001b[0m\u001b[0;34m\u001b[0m\u001b[0m\n\u001b[0m\u001b[1;32m   1020\u001b[0m \u001b[0;34m\u001b[0m\u001b[0m\n\u001b[1;32m   1021\u001b[0m \u001b[0;34m\u001b[0m\u001b[0m\n",
      "\u001b[0;31mNotFittedError\u001b[0m: This RandomForestClassifier instance is not fitted yet. Call 'fit' with appropriate arguments before using this estimator."
     ]
    }
   ],
   "source": [
    "pd.DataFrame(rf.feature_importances_[np.newaxis],\n",
    "             columns=df.drop(['class', 'sepal length (cm)', 'sepal width (cm)',\n",
    "             'petal length (cm)', 'petal width (cm)'], axis=1).columns).T.sort_values(0).style.background_gradient()"
   ]
  },
  {
   "cell_type": "markdown",
   "metadata": {},
   "source": [
    "I suggest to try it out on your own before looking at the answer given bellow.\n",
    "\n",
    "---\n",
    "\n",
    "#### Possible answer"
   ]
  },
  {
   "cell_type": "code",
   "execution_count": 140,
   "metadata": {
    "gradient": {}
   },
   "outputs": [],
   "source": [
    "from sklearn.ensemble import RandomForestClassifier"
   ]
  },
  {
   "cell_type": "code",
   "execution_count": 141,
   "metadata": {
    "gradient": {}
   },
   "outputs": [],
   "source": [
    "df['sepal area'] = df['sepal length (cm)'] * df['sepal width (cm)']\n",
    "df['petal area'] = df['petal length (cm)'] * df['petal width (cm)']\n",
    "df['simetry'] = df['sepal area'] / df['petal area']"
   ]
  },
  {
   "cell_type": "code",
   "execution_count": 142,
   "metadata": {
    "gradient": {}
   },
   "outputs": [],
   "source": [
    "X_train, X_test, y_train, y_test = train_test_split(\n",
    "    df.drop('class', axis=1), df['class'],\n",
    "    test_size=0.5, random_state=42)"
   ]
  },
  {
   "cell_type": "code",
   "execution_count": 143,
   "metadata": {
    "gradient": {}
   },
   "outputs": [
    {
     "data": {
      "text/plain": [
       "RandomForestClassifier(max_depth=2, n_estimators=1000)"
      ]
     },
     "execution_count": 143,
     "metadata": {},
     "output_type": "execute_result"
    }
   ],
   "source": [
    "rf = RandomForestClassifier(n_estimators=1000, max_depth=2)\n",
    "rf.fit(X_train, y_train)"
   ]
  },
  {
   "cell_type": "code",
   "execution_count": 144,
   "metadata": {
    "gradient": {}
   },
   "outputs": [
    {
     "name": "stdout",
     "output_type": "stream",
     "text": [
      "Accuracy 98.67%\n"
     ]
    }
   ],
   "source": [
    "pred = rf.predict(X_test)\n",
    "acc = np.mean(pred == y_test)\n",
    "print(f'Accuracy {acc:.02%}')"
   ]
  },
  {
   "cell_type": "markdown",
   "metadata": {},
   "source": [
    "## Neat tricks\n",
    "\n",
    "### Confusion matrix\n",
    "\n",
    "Thisis a neat way to see where your model is making mistakes."
   ]
  },
  {
   "cell_type": "code",
   "execution_count": 145,
   "metadata": {
    "gradient": {}
   },
   "outputs": [],
   "source": [
    "from sklearn.metrics import confusion_matrix"
   ]
  },
  {
   "cell_type": "code",
   "execution_count": 146,
   "metadata": {
    "gradient": {}
   },
   "outputs": [
    {
     "data": {
      "text/html": [
       "<style type=\"text/css\">\n",
       "#T_d0020_row0_col0, #T_d0020_row1_col1, #T_d0020_row2_col2 {\n",
       "  background-color: #023858;\n",
       "  color: #f1f1f1;\n",
       "}\n",
       "#T_d0020_row0_col1, #T_d0020_row0_col2, #T_d0020_row1_col0, #T_d0020_row1_col2, #T_d0020_row2_col0 {\n",
       "  background-color: #fff7fb;\n",
       "  color: #000000;\n",
       "}\n",
       "#T_d0020_row2_col1 {\n",
       "  background-color: #f8f1f8;\n",
       "  color: #000000;\n",
       "}\n",
       "</style>\n",
       "<table id=\"T_d0020_\">\n",
       "  <thead>\n",
       "    <tr>\n",
       "      <th class=\"blank level0\" >&nbsp;</th>\n",
       "      <th class=\"col_heading level0 col0\" >setosa</th>\n",
       "      <th class=\"col_heading level0 col1\" >versicolor</th>\n",
       "      <th class=\"col_heading level0 col2\" >virginica</th>\n",
       "    </tr>\n",
       "  </thead>\n",
       "  <tbody>\n",
       "    <tr>\n",
       "      <th id=\"T_d0020_level0_row0\" class=\"row_heading level0 row0\" >setosa</th>\n",
       "      <td id=\"T_d0020_row0_col0\" class=\"data row0 col0\" >29</td>\n",
       "      <td id=\"T_d0020_row0_col1\" class=\"data row0 col1\" >0</td>\n",
       "      <td id=\"T_d0020_row0_col2\" class=\"data row0 col2\" >0</td>\n",
       "    </tr>\n",
       "    <tr>\n",
       "      <th id=\"T_d0020_level0_row1\" class=\"row_heading level0 row1\" >versicolor</th>\n",
       "      <td id=\"T_d0020_row1_col0\" class=\"data row1 col0\" >0</td>\n",
       "      <td id=\"T_d0020_row1_col1\" class=\"data row1 col1\" >23</td>\n",
       "      <td id=\"T_d0020_row1_col2\" class=\"data row1 col2\" >0</td>\n",
       "    </tr>\n",
       "    <tr>\n",
       "      <th id=\"T_d0020_level0_row2\" class=\"row_heading level0 row2\" >virginica</th>\n",
       "      <td id=\"T_d0020_row2_col0\" class=\"data row2 col0\" >0</td>\n",
       "      <td id=\"T_d0020_row2_col1\" class=\"data row2 col1\" >1</td>\n",
       "      <td id=\"T_d0020_row2_col2\" class=\"data row2 col2\" >22</td>\n",
       "    </tr>\n",
       "  </tbody>\n",
       "</table>\n"
      ],
      "text/plain": [
       "<pandas.io.formats.style.Styler at 0x1392b1100>"
      ]
     },
     "execution_count": 146,
     "metadata": {},
     "output_type": "execute_result"
    }
   ],
   "source": [
    "pd.DataFrame(confusion_matrix(y_test, pred),\n",
    "             columns=rf.classes_, index=rf.classes_).style.background_gradient()"
   ]
  },
  {
   "cell_type": "markdown",
   "metadata": {},
   "source": [
    "### Feature importance\n",
    "\n",
    "It is easy to check which features are most important - ones which were used in most trees or/and gave highest information gain overall."
   ]
  },
  {
   "cell_type": "code",
   "execution_count": 25,
   "metadata": {
    "gradient": {}
   },
   "outputs": [
    {
     "data": {
      "text/html": [
       "<style type=\"text/css\">\n",
       "#T_f171a_row0_col0 {\n",
       "  background-color: #e7e3f0;\n",
       "  color: #000000;\n",
       "}\n",
       "#T_f171a_row1_col0, #T_f171a_row4_col0 {\n",
       "  background-color: #fff7fb;\n",
       "  color: #000000;\n",
       "}\n",
       "#T_f171a_row2_col0 {\n",
       "  background-color: #056dac;\n",
       "  color: #f1f1f1;\n",
       "}\n",
       "#T_f171a_row3_col0 {\n",
       "  background-color: #0771b1;\n",
       "  color: #f1f1f1;\n",
       "}\n",
       "#T_f171a_row5_col0 {\n",
       "  background-color: #023b5d;\n",
       "  color: #f1f1f1;\n",
       "}\n",
       "#T_f171a_row6_col0 {\n",
       "  background-color: #023858;\n",
       "  color: #f1f1f1;\n",
       "}\n",
       "</style>\n",
       "<table id=\"T_f171a_\">\n",
       "  <thead>\n",
       "    <tr>\n",
       "      <th class=\"blank level0\" >&nbsp;</th>\n",
       "      <th class=\"col_heading level0 col0\" >0</th>\n",
       "    </tr>\n",
       "  </thead>\n",
       "  <tbody>\n",
       "    <tr>\n",
       "      <th id=\"T_f171a_level0_row0\" class=\"row_heading level0 row0\" >sepal length (cm)</th>\n",
       "      <td id=\"T_f171a_row0_col0\" class=\"data row0 col0\" >0.054685</td>\n",
       "    </tr>\n",
       "    <tr>\n",
       "      <th id=\"T_f171a_level0_row1\" class=\"row_heading level0 row1\" >sepal width (cm)</th>\n",
       "      <td id=\"T_f171a_row1_col0\" class=\"data row1 col0\" >0.021274</td>\n",
       "    </tr>\n",
       "    <tr>\n",
       "      <th id=\"T_f171a_level0_row2\" class=\"row_heading level0 row2\" >petal length (cm)</th>\n",
       "      <td id=\"T_f171a_row2_col0\" class=\"data row2 col0\" >0.199785</td>\n",
       "    </tr>\n",
       "    <tr>\n",
       "      <th id=\"T_f171a_level0_row3\" class=\"row_heading level0 row3\" >petal width (cm)</th>\n",
       "      <td id=\"T_f171a_row3_col0\" class=\"data row3 col0\" >0.195682</td>\n",
       "    </tr>\n",
       "    <tr>\n",
       "      <th id=\"T_f171a_level0_row4\" class=\"row_heading level0 row4\" >sepal area</th>\n",
       "      <td id=\"T_f171a_row4_col0\" class=\"data row4 col0\" >0.020493</td>\n",
       "    </tr>\n",
       "    <tr>\n",
       "      <th id=\"T_f171a_level0_row5\" class=\"row_heading level0 row5\" >petal area</th>\n",
       "      <td id=\"T_f171a_row5_col0\" class=\"data row5 col0\" >0.252392</td>\n",
       "    </tr>\n",
       "    <tr>\n",
       "      <th id=\"T_f171a_level0_row6\" class=\"row_heading level0 row6\" >simetry</th>\n",
       "      <td id=\"T_f171a_row6_col0\" class=\"data row6 col0\" >0.255689</td>\n",
       "    </tr>\n",
       "  </tbody>\n",
       "</table>\n"
      ],
      "text/plain": [
       "<pandas.io.formats.style.Styler at 0x147996f40>"
      ]
     },
     "execution_count": 25,
     "metadata": {},
     "output_type": "execute_result"
    }
   ],
   "source": [
    "pd.DataFrame(rf.feature_importances_,\n",
    "             index=df.drop('class', axis=1).columns).style.background_gradient()"
   ]
  },
  {
   "cell_type": "markdown",
   "metadata": {},
   "source": [
    "## A note on decision boundaries"
   ]
  },
  {
   "cell_type": "markdown",
   "metadata": {},
   "source": [
    "Let's generate some data blobs."
   ]
  },
  {
   "cell_type": "code",
   "execution_count": 147,
   "metadata": {
    "gradient": {}
   },
   "outputs": [
    {
     "data": {
      "text/plain": [
       "RandomForestClassifier(max_depth=2, n_estimators=500)"
      ]
     },
     "execution_count": 147,
     "metadata": {},
     "output_type": "execute_result"
    }
   ],
   "source": [
    "from sklearn.tree import DecisionTreeClassifier\n",
    "from sklearn.ensemble import RandomForestClassifier\n",
    "from sklearn.datasets import make_blobs\n",
    "\n",
    "X, y = make_blobs(n_samples=300, centers=4,\n",
    "                  random_state=0, cluster_std=1.0)\n",
    "\n",
    "tree = DecisionTreeClassifier()\n",
    "tree.fit(X, y)\n",
    "\n",
    "rf = RandomForestClassifier(n_estimators=500, max_depth=2)\n",
    "rf.fit(X, y)"
   ]
  },
  {
   "cell_type": "markdown",
   "metadata": {},
   "source": [
    "Look at overfitting here, make decision boundary plots."
   ]
  },
  {
   "cell_type": "code",
   "execution_count": 148,
   "metadata": {
    "gradient": {}
   },
   "outputs": [
    {
     "data": {
      "image/png": "[encoded data removed]",
      "text/plain": [
       "<Figure size 1152x576 with 2 Axes>"
      ]
     },
     "metadata": {
      "needs_background": "light"
     },
     "output_type": "display_data"
    }
   ],
   "source": [
    "mesh = np.transpose([np.tile(np.linspace(-5, 5, 100), 100),\n",
    "                     np.repeat(np.linspace(-3, 12, 100), 100)])\n",
    "\n",
    "plt.figure(figsize=(16, 8))\n",
    "plt.subplot(121)\n",
    "plt.scatter(mesh[:, 0], mesh[:, 1], c=tree.predict(mesh), marker='s', s=20, cmap='inferno')\n",
    "plt.scatter(X[:, 0], X[:, 1], c=y, cmap='coolwarm')\n",
    "plt.title('Simple decision tree')\n",
    "plt.subplot(122)\n",
    "plt.scatter(mesh[:, 0], mesh[:, 1], c=rf.predict(mesh), marker='s', s=20, cmap='inferno')\n",
    "plt.scatter(X[:, 0], X[:, 1], c=y, cmap='coolwarm')\n",
    "plt.title('Random forest')\n",
    "plt.show()"
   ]
  },
  {
   "cell_type": "markdown",
   "metadata": {},
   "source": [
    "Make sure that you understand why those decision boundaries look this way.\n",
    "\n",
    "By the way, RF with standard param set will not look so nice, play around."
   ]
  },
  {
   "cell_type": "markdown",
   "metadata": {},
   "source": [
    "## MNIST\n",
    "\n",
    "The [MNIST database](http://yann.lecun.com/exdb/mnist/) contains handwritten digits and has a training set of 60,000 examples, and a test set of 10,000 examples. It is legendary dataset crated by LeCun group in 1999."
   ]
  },
  {
   "cell_type": "code",
   "execution_count": 149,
   "metadata": {
    "gradient": {}
   },
   "outputs": [
    {
     "name": "stdout",
     "output_type": "stream",
     "text": [
      "Init Plugin\n",
      "Init Graph Optimizer\n",
      "Init Kernel\n"
     ]
    },
    {
     "data": {
      "image/png": "[encoded data removed]",
      "text/plain": [
       "<Figure size 720x216 with 30 Axes>"
      ]
     },
     "metadata": {
      "needs_background": "light"
     },
     "output_type": "display_data"
    }
   ],
   "source": [
    "from tensorflow import keras\n",
    "\n",
    "(X_train, y_train), (X_test, y_test) = keras.datasets.mnist.load_data()\n",
    "# Normalize\n",
    "X_train = X_train / 255\n",
    "X_test = X_test / 255\n",
    "\n",
    "plt.figure(figsize=(10, 3))\n",
    "for i in range(30):\n",
    "    plt.subplot(3, 10, i + 1)\n",
    "    plt.imshow(X_train[i], cmap='gray')\n",
    "    plt.axis('off')\n",
    "plt.show()\n",
    "\n",
    "X_train = X_train.reshape((60000, 28*28))\n",
    "X_test = X_test.reshape((10000, 28*28))"
   ]
  },
  {
   "cell_type": "code",
   "execution_count": 150,
   "metadata": {
    "gradient": {}
   },
   "outputs": [],
   "source": [
    "model = RandomForestClassifier()\n",
    "model.fit(X_train, y_train)\n",
    "pred = model.predict(X_test)"
   ]
  },
  {
   "cell_type": "code",
   "execution_count": 151,
   "metadata": {
    "gradient": {}
   },
   "outputs": [
    {
     "data": {
      "text/plain": [
       "0.9709"
      ]
     },
     "execution_count": 151,
     "metadata": {},
     "output_type": "execute_result"
    }
   ],
   "source": [
    "from sklearn.metrics import accuracy_score\n",
    "\n",
    "accuracy_score(y_test, pred)"
   ]
  },
  {
   "cell_type": "code",
   "execution_count": 152,
   "metadata": {
    "gradient": {}
   },
   "outputs": [
    {
     "data": {
      "text/html": [
       "<style type=\"text/css\">\n",
       "#T_a9b52_row0_col0, #T_a9b52_row1_col1, #T_a9b52_row2_col2, #T_a9b52_row3_col3, #T_a9b52_row4_col4, #T_a9b52_row5_col5, #T_a9b52_row6_col6, #T_a9b52_row7_col7, #T_a9b52_row8_col8, #T_a9b52_row9_col9 {\n",
       "  background-color: #023858;\n",
       "  color: #f1f1f1;\n",
       "}\n",
       "#T_a9b52_row0_col1, #T_a9b52_row0_col2, #T_a9b52_row0_col3, #T_a9b52_row0_col4, #T_a9b52_row0_col5, #T_a9b52_row0_col7, #T_a9b52_row0_col8, #T_a9b52_row0_col9, #T_a9b52_row1_col0, #T_a9b52_row1_col2, #T_a9b52_row1_col4, #T_a9b52_row1_col5, #T_a9b52_row1_col6, #T_a9b52_row1_col7, #T_a9b52_row1_col8, #T_a9b52_row1_col9, #T_a9b52_row2_col1, #T_a9b52_row2_col4, #T_a9b52_row2_col5, #T_a9b52_row2_col9, #T_a9b52_row3_col0, #T_a9b52_row3_col1, #T_a9b52_row3_col4, #T_a9b52_row3_col6, #T_a9b52_row3_col9, #T_a9b52_row4_col0, #T_a9b52_row4_col1, #T_a9b52_row4_col2, #T_a9b52_row4_col3, #T_a9b52_row4_col5, #T_a9b52_row4_col7, #T_a9b52_row4_col8, #T_a9b52_row5_col0, #T_a9b52_row5_col1, #T_a9b52_row5_col2, #T_a9b52_row5_col4, #T_a9b52_row5_col7, #T_a9b52_row5_col9, #T_a9b52_row6_col1, #T_a9b52_row6_col2, #T_a9b52_row6_col3, #T_a9b52_row6_col4, #T_a9b52_row6_col7, #T_a9b52_row6_col8, #T_a9b52_row6_col9, #T_a9b52_row7_col0, #T_a9b52_row7_col1, #T_a9b52_row7_col3, #T_a9b52_row7_col4, #T_a9b52_row7_col5, #T_a9b52_row7_col6, #T_a9b52_row7_col8, #T_a9b52_row8_col1, #T_a9b52_row8_col4, #T_a9b52_row8_col6, #T_a9b52_row8_col7, #T_a9b52_row9_col2, #T_a9b52_row9_col6 {\n",
       "  background-color: #fff7fb;\n",
       "  color: #000000;\n",
       "}\n",
       "#T_a9b52_row0_col6, #T_a9b52_row1_col3, #T_a9b52_row2_col0, #T_a9b52_row2_col3, #T_a9b52_row2_col6, #T_a9b52_row2_col8, #T_a9b52_row4_col6, #T_a9b52_row5_col6, #T_a9b52_row5_col8, #T_a9b52_row6_col0, #T_a9b52_row6_col5, #T_a9b52_row7_col9, #T_a9b52_row8_col0, #T_a9b52_row8_col2, #T_a9b52_row9_col0, #T_a9b52_row9_col1, #T_a9b52_row9_col5, #T_a9b52_row9_col7, #T_a9b52_row9_col8 {\n",
       "  background-color: #fef6fb;\n",
       "  color: #000000;\n",
       "}\n",
       "#T_a9b52_row2_col7, #T_a9b52_row3_col2, #T_a9b52_row3_col5, #T_a9b52_row3_col7, #T_a9b52_row3_col8, #T_a9b52_row5_col3, #T_a9b52_row8_col3, #T_a9b52_row8_col5, #T_a9b52_row8_col9, #T_a9b52_row9_col3, #T_a9b52_row9_col4 {\n",
       "  background-color: #fef6fa;\n",
       "  color: #000000;\n",
       "}\n",
       "#T_a9b52_row4_col9, #T_a9b52_row7_col2 {\n",
       "  background-color: #fdf5fa;\n",
       "  color: #000000;\n",
       "}\n",
       "</style>\n",
       "<table id=\"T_a9b52_\">\n",
       "  <thead>\n",
       "    <tr>\n",
       "      <th class=\"blank level0\" >&nbsp;</th>\n",
       "      <th class=\"col_heading level0 col0\" >0</th>\n",
       "      <th class=\"col_heading level0 col1\" >1</th>\n",
       "      <th class=\"col_heading level0 col2\" >2</th>\n",
       "      <th class=\"col_heading level0 col3\" >3</th>\n",
       "      <th class=\"col_heading level0 col4\" >4</th>\n",
       "      <th class=\"col_heading level0 col5\" >5</th>\n",
       "      <th class=\"col_heading level0 col6\" >6</th>\n",
       "      <th class=\"col_heading level0 col7\" >7</th>\n",
       "      <th class=\"col_heading level0 col8\" >8</th>\n",
       "      <th class=\"col_heading level0 col9\" >9</th>\n",
       "    </tr>\n",
       "  </thead>\n",
       "  <tbody>\n",
       "    <tr>\n",
       "      <th id=\"T_a9b52_level0_row0\" class=\"row_heading level0 row0\" >0</th>\n",
       "      <td id=\"T_a9b52_row0_col0\" class=\"data row0 col0\" >970</td>\n",
       "      <td id=\"T_a9b52_row0_col1\" class=\"data row0 col1\" >0</td>\n",
       "      <td id=\"T_a9b52_row0_col2\" class=\"data row0 col2\" >1</td>\n",
       "      <td id=\"T_a9b52_row0_col3\" class=\"data row0 col3\" >0</td>\n",
       "      <td id=\"T_a9b52_row0_col4\" class=\"data row0 col4\" >0</td>\n",
       "      <td id=\"T_a9b52_row0_col5\" class=\"data row0 col5\" >1</td>\n",
       "      <td id=\"T_a9b52_row0_col6\" class=\"data row0 col6\" >4</td>\n",
       "      <td id=\"T_a9b52_row0_col7\" class=\"data row0 col7\" >1</td>\n",
       "      <td id=\"T_a9b52_row0_col8\" class=\"data row0 col8\" >3</td>\n",
       "      <td id=\"T_a9b52_row0_col9\" class=\"data row0 col9\" >0</td>\n",
       "    </tr>\n",
       "    <tr>\n",
       "      <th id=\"T_a9b52_level0_row1\" class=\"row_heading level0 row1\" >1</th>\n",
       "      <td id=\"T_a9b52_row1_col0\" class=\"data row1 col0\" >0</td>\n",
       "      <td id=\"T_a9b52_row1_col1\" class=\"data row1 col1\" >1123</td>\n",
       "      <td id=\"T_a9b52_row1_col2\" class=\"data row1 col2\" >2</td>\n",
       "      <td id=\"T_a9b52_row1_col3\" class=\"data row1 col3\" >4</td>\n",
       "      <td id=\"T_a9b52_row1_col4\" class=\"data row1 col4\" >0</td>\n",
       "      <td id=\"T_a9b52_row1_col5\" class=\"data row1 col5\" >2</td>\n",
       "      <td id=\"T_a9b52_row1_col6\" class=\"data row1 col6\" >3</td>\n",
       "      <td id=\"T_a9b52_row1_col7\" class=\"data row1 col7\" >0</td>\n",
       "      <td id=\"T_a9b52_row1_col8\" class=\"data row1 col8\" >1</td>\n",
       "      <td id=\"T_a9b52_row1_col9\" class=\"data row1 col9\" >0</td>\n",
       "    </tr>\n",
       "    <tr>\n",
       "      <th id=\"T_a9b52_level0_row2\" class=\"row_heading level0 row2\" >2</th>\n",
       "      <td id=\"T_a9b52_row2_col0\" class=\"data row2 col0\" >6</td>\n",
       "      <td id=\"T_a9b52_row2_col1\" class=\"data row2 col1\" >0</td>\n",
       "      <td id=\"T_a9b52_row2_col2\" class=\"data row2 col2\" >1000</td>\n",
       "      <td id=\"T_a9b52_row2_col3\" class=\"data row2 col3\" >4</td>\n",
       "      <td id=\"T_a9b52_row2_col4\" class=\"data row2 col4\" >2</td>\n",
       "      <td id=\"T_a9b52_row2_col5\" class=\"data row2 col5\" >0</td>\n",
       "      <td id=\"T_a9b52_row2_col6\" class=\"data row2 col6\" >4</td>\n",
       "      <td id=\"T_a9b52_row2_col7\" class=\"data row2 col7\" >8</td>\n",
       "      <td id=\"T_a9b52_row2_col8\" class=\"data row2 col8\" >8</td>\n",
       "      <td id=\"T_a9b52_row2_col9\" class=\"data row2 col9\" >0</td>\n",
       "    </tr>\n",
       "    <tr>\n",
       "      <th id=\"T_a9b52_level0_row3\" class=\"row_heading level0 row3\" >3</th>\n",
       "      <td id=\"T_a9b52_row3_col0\" class=\"data row3 col0\" >1</td>\n",
       "      <td id=\"T_a9b52_row3_col1\" class=\"data row3 col1\" >0</td>\n",
       "      <td id=\"T_a9b52_row3_col2\" class=\"data row3 col2\" >9</td>\n",
       "      <td id=\"T_a9b52_row3_col3\" class=\"data row3 col3\" >973</td>\n",
       "      <td id=\"T_a9b52_row3_col4\" class=\"data row3 col4\" >0</td>\n",
       "      <td id=\"T_a9b52_row3_col5\" class=\"data row3 col5\" >9</td>\n",
       "      <td id=\"T_a9b52_row3_col6\" class=\"data row3 col6\" >0</td>\n",
       "      <td id=\"T_a9b52_row3_col7\" class=\"data row3 col7\" >8</td>\n",
       "      <td id=\"T_a9b52_row3_col8\" class=\"data row3 col8\" >9</td>\n",
       "      <td id=\"T_a9b52_row3_col9\" class=\"data row3 col9\" >1</td>\n",
       "    </tr>\n",
       "    <tr>\n",
       "      <th id=\"T_a9b52_level0_row4\" class=\"row_heading level0 row4\" >4</th>\n",
       "      <td id=\"T_a9b52_row4_col0\" class=\"data row4 col0\" >1</td>\n",
       "      <td id=\"T_a9b52_row4_col1\" class=\"data row4 col1\" >0</td>\n",
       "      <td id=\"T_a9b52_row4_col2\" class=\"data row4 col2\" >2</td>\n",
       "      <td id=\"T_a9b52_row4_col3\" class=\"data row4 col3\" >0</td>\n",
       "      <td id=\"T_a9b52_row4_col4\" class=\"data row4 col4\" >955</td>\n",
       "      <td id=\"T_a9b52_row4_col5\" class=\"data row4 col5\" >0</td>\n",
       "      <td id=\"T_a9b52_row4_col6\" class=\"data row4 col6\" >5</td>\n",
       "      <td id=\"T_a9b52_row4_col7\" class=\"data row4 col7\" >0</td>\n",
       "      <td id=\"T_a9b52_row4_col8\" class=\"data row4 col8\" >2</td>\n",
       "      <td id=\"T_a9b52_row4_col9\" class=\"data row4 col9\" >17</td>\n",
       "    </tr>\n",
       "    <tr>\n",
       "      <th id=\"T_a9b52_level0_row5\" class=\"row_heading level0 row5\" >5</th>\n",
       "      <td id=\"T_a9b52_row5_col0\" class=\"data row5 col0\" >3</td>\n",
       "      <td id=\"T_a9b52_row5_col1\" class=\"data row5 col1\" >0</td>\n",
       "      <td id=\"T_a9b52_row5_col2\" class=\"data row5 col2\" >0</td>\n",
       "      <td id=\"T_a9b52_row5_col3\" class=\"data row5 col3\" >10</td>\n",
       "      <td id=\"T_a9b52_row5_col4\" class=\"data row5 col4\" >1</td>\n",
       "      <td id=\"T_a9b52_row5_col5\" class=\"data row5 col5\" >864</td>\n",
       "      <td id=\"T_a9b52_row5_col6\" class=\"data row5 col6\" >6</td>\n",
       "      <td id=\"T_a9b52_row5_col7\" class=\"data row5 col7\" >1</td>\n",
       "      <td id=\"T_a9b52_row5_col8\" class=\"data row5 col8\" >6</td>\n",
       "      <td id=\"T_a9b52_row5_col9\" class=\"data row5 col9\" >1</td>\n",
       "    </tr>\n",
       "    <tr>\n",
       "      <th id=\"T_a9b52_level0_row6\" class=\"row_heading level0 row6\" >6</th>\n",
       "      <td id=\"T_a9b52_row6_col0\" class=\"data row6 col0\" >7</td>\n",
       "      <td id=\"T_a9b52_row6_col1\" class=\"data row6 col1\" >3</td>\n",
       "      <td id=\"T_a9b52_row6_col2\" class=\"data row6 col2\" >1</td>\n",
       "      <td id=\"T_a9b52_row6_col3\" class=\"data row6 col3\" >0</td>\n",
       "      <td id=\"T_a9b52_row6_col4\" class=\"data row6 col4\" >3</td>\n",
       "      <td id=\"T_a9b52_row6_col5\" class=\"data row6 col5\" >4</td>\n",
       "      <td id=\"T_a9b52_row6_col6\" class=\"data row6 col6\" >938</td>\n",
       "      <td id=\"T_a9b52_row6_col7\" class=\"data row6 col7\" >0</td>\n",
       "      <td id=\"T_a9b52_row6_col8\" class=\"data row6 col8\" >2</td>\n",
       "      <td id=\"T_a9b52_row6_col9\" class=\"data row6 col9\" >0</td>\n",
       "    </tr>\n",
       "    <tr>\n",
       "      <th id=\"T_a9b52_level0_row7\" class=\"row_heading level0 row7\" >7</th>\n",
       "      <td id=\"T_a9b52_row7_col0\" class=\"data row7 col0\" >1</td>\n",
       "      <td id=\"T_a9b52_row7_col1\" class=\"data row7 col1\" >3</td>\n",
       "      <td id=\"T_a9b52_row7_col2\" class=\"data row7 col2\" >19</td>\n",
       "      <td id=\"T_a9b52_row7_col3\" class=\"data row7 col3\" >1</td>\n",
       "      <td id=\"T_a9b52_row7_col4\" class=\"data row7 col4\" >2</td>\n",
       "      <td id=\"T_a9b52_row7_col5\" class=\"data row7 col5\" >0</td>\n",
       "      <td id=\"T_a9b52_row7_col6\" class=\"data row7 col6\" >0</td>\n",
       "      <td id=\"T_a9b52_row7_col7\" class=\"data row7 col7\" >992</td>\n",
       "      <td id=\"T_a9b52_row7_col8\" class=\"data row7 col8\" >3</td>\n",
       "      <td id=\"T_a9b52_row7_col9\" class=\"data row7 col9\" >7</td>\n",
       "    </tr>\n",
       "    <tr>\n",
       "      <th id=\"T_a9b52_level0_row8\" class=\"row_heading level0 row8\" >8</th>\n",
       "      <td id=\"T_a9b52_row8_col0\" class=\"data row8 col0\" >5</td>\n",
       "      <td id=\"T_a9b52_row8_col1\" class=\"data row8 col1\" >0</td>\n",
       "      <td id=\"T_a9b52_row8_col2\" class=\"data row8 col2\" >5</td>\n",
       "      <td id=\"T_a9b52_row8_col3\" class=\"data row8 col3\" >9</td>\n",
       "      <td id=\"T_a9b52_row8_col4\" class=\"data row8 col4\" >3</td>\n",
       "      <td id=\"T_a9b52_row8_col5\" class=\"data row8 col5\" >7</td>\n",
       "      <td id=\"T_a9b52_row8_col6\" class=\"data row8 col6\" >3</td>\n",
       "      <td id=\"T_a9b52_row8_col7\" class=\"data row8 col7\" >3</td>\n",
       "      <td id=\"T_a9b52_row8_col8\" class=\"data row8 col8\" >930</td>\n",
       "      <td id=\"T_a9b52_row8_col9\" class=\"data row8 col9\" >9</td>\n",
       "    </tr>\n",
       "    <tr>\n",
       "      <th id=\"T_a9b52_level0_row9\" class=\"row_heading level0 row9\" >9</th>\n",
       "      <td id=\"T_a9b52_row9_col0\" class=\"data row9 col0\" >5</td>\n",
       "      <td id=\"T_a9b52_row9_col1\" class=\"data row9 col1\" >5</td>\n",
       "      <td id=\"T_a9b52_row9_col2\" class=\"data row9 col2\" >2</td>\n",
       "      <td id=\"T_a9b52_row9_col3\" class=\"data row9 col3\" >10</td>\n",
       "      <td id=\"T_a9b52_row9_col4\" class=\"data row9 col4\" >8</td>\n",
       "      <td id=\"T_a9b52_row9_col5\" class=\"data row9 col5\" >5</td>\n",
       "      <td id=\"T_a9b52_row9_col6\" class=\"data row9 col6\" >0</td>\n",
       "      <td id=\"T_a9b52_row9_col7\" class=\"data row9 col7\" >4</td>\n",
       "      <td id=\"T_a9b52_row9_col8\" class=\"data row9 col8\" >6</td>\n",
       "      <td id=\"T_a9b52_row9_col9\" class=\"data row9 col9\" >964</td>\n",
       "    </tr>\n",
       "  </tbody>\n",
       "</table>\n"
      ],
      "text/plain": [
       "<pandas.io.formats.style.Styler at 0x2962ec280>"
      ]
     },
     "execution_count": 152,
     "metadata": {},
     "output_type": "execute_result"
    }
   ],
   "source": [
    "import pandas as pd\n",
    "from sklearn.metrics import confusion_matrix\n",
    "\n",
    "pd.DataFrame(confusion_matrix(y_test, pred), columns=range(10), index=range(10)).style.background_gradient()"
   ]
  },
  {
   "cell_type": "markdown",
   "metadata": {},
   "source": [
    "**TASK:** using PCA compress MNIST to two dimensions and make a plot (color by class label)."
   ]
  },
  {
   "cell_type": "markdown",
   "metadata": {},
   "source": [
    "True labels are on the left and predicted ones on the top. Quick glimpse gives you insightes like - RF makes most mistakes while identifying actual 7 as 2 and actual 4 as 9. What other insights can you give?\n",
    "\n",
    "Soon we will see that using neural networks we can avoid some of these mistakes, but key insight here is that RF is good method even for complex tasks as this one."
   ]
  },
  {
   "cell_type": "markdown",
   "metadata": {},
   "source": [
    "## Whats next?\n",
    "\n",
    "There are many variations of Random Forests you can explore, to name a few:\n",
    "- [ExtraTrees](https://scikit-learn.org/stable/modules/ensemble.html#extremely-randomized-trees)\n",
    "- [XGBoost](https://xgboost.readthedocs.io/en/latest/)\n",
    "- [LightGBM](https://lightgbm.readthedocs.io/en/latest/)\n",
    "\n",
    "Up to the day of writing XGboost is still a leading method for tabular problems, but as we will see deep learning will beat them at unstructured data. Basic idea of XGBoost: fit next decision tree on residual errors made by the previous predictor, thus trying to fix them.\n",
    "\n",
    "1. Fit $\\text{tree}_0$ on $X$ and $y_0=y$ and make predictions $y_1$. Set $i=1$.\n",
    "2. Fit $\\text{tree}_i$ to predict residuals $y_{i-1} - y_i$ given $X$ and make predictions $y_{i+1}$.\n",
    "3. Increment $i$ and jump back to step 2.\n",
    "\n",
    "\n",
    "## (Re) Sources:\n",
    "- Short [podcast](https://dataskeptic.com/blog/episodes/2016/random-forest) about random forest that contains simple explanation of ensambles.\n",
    "- Claude Shannon “A Mathematical Theory of Communication” 1948 ([link](http://www.math.harvard.edu/~ctm/home/text/others/shannon/entropy/entropy.pdf)).\n",
    "- Nice [video](https://youtu.be/ErfnhcEV1O8) about Entropy \n",
    "- Medium [post](https://towardsdatascience.com/must-know-information-theory-concepts-in-deep-learning-ai-e54a5da9769d) about Entropy\n",
    "- Logistic regression from scratch ([medium post](https://medium.com/@martinpella/logistic-regression-from-scratch-in-python-124c5636b8ac))\n"
   ]
  }
 ],
 "metadata": {
  "kernelspec": {
   "display_name": "Python 3 (ipykernel)",
   "language": "python",
   "name": "python3"
  },
  "language_info": {
   "codemirror_mode": {
    "name": "ipython",
    "version": 3
   },
   "file_extension": ".py",
   "mimetype": "text/x-python",
   "name": "python",
   "nbconvert_exporter": "python",
   "pygments_lexer": "ipython3",
   "version": "3.9.6"
  }
 },
 "nbformat": 4,
 "nbformat_minor": 4
}
