{
 "cells": [
  {
   "cell_type": "code",
   "execution_count": 4,
   "id": "d5f61f6b",
   "metadata": {},
   "outputs": [],
   "source": [
    "import numpy as np\n",
    "import matplotlib.pyplot as plt"
   ]
  },
  {
   "cell_type": "code",
   "execution_count": 27,
   "id": "44fa4ad9",
   "metadata": {},
   "outputs": [],
   "source": [
    "S = np.random.normal(size=1000)\n",
    "S[S > 1] = 1\n",
    "S -= min(S)\n",
    "S /= max(S)"
   ]
  },
  {
   "cell_type": "code",
   "execution_count": 32,
   "id": "c63eb228",
   "metadata": {},
   "outputs": [],
   "source": [
    "S = sorted(S)"
   ]
  },
  {
   "cell_type": "code",
   "execution_count": 33,
   "id": "b82d1e05",
   "metadata": {},
   "outputs": [
    {
     "data": {
      "text/plain": [
       "(array([  2.,   7.,  21.,  37.,  76., 122., 146., 165., 138., 286.]),\n",
       " array([0. , 0.1, 0.2, 0.3, 0.4, 0.5, 0.6, 0.7, 0.8, 0.9, 1. ]),\n",
       " <BarContainer object of 10 artists>)"
      ]
     },
     "execution_count": 33,
     "metadata": {},
     "output_type": "execute_result"
    },
    {
     "data": {
      "image/png": "[encoded data removed]",
      "text/plain": [
       "<Figure size 432x288 with 1 Axes>"
      ]
     },
     "metadata": {
      "needs_background": "light"
     },
     "output_type": "display_data"
    }
   ],
   "source": [
    "plt.hist(S)"
   ]
  },
  {
   "cell_type": "code",
   "execution_count": 37,
   "id": "e022aacb",
   "metadata": {},
   "outputs": [
    {
     "data": {
      "image/png": "[encoded data removed]",
      "text/plain": [
       "<Figure size 432x288 with 1 Axes>"
      ]
     },
     "metadata": {
      "needs_background": "light"
     },
     "output_type": "display_data"
    }
   ],
   "source": [
    "A = [S[0]]\n",
    "for s in S[1:]:\n",
    "    A.append(round(0.98 * A[-1] + 0.02 * s, 2))\n",
    "    \n",
    "plt.hist(A, bins=np.linspace(0, 1, 101))\n",
    "plt.show()"
   ]
  },
  {
   "cell_type": "code",
   "execution_count": 39,
   "id": "03c78153",
   "metadata": {},
   "outputs": [
    {
     "data": {
      "text/plain": [
       "0.76"
      ]
     },
     "execution_count": 39,
     "metadata": {},
     "output_type": "execute_result"
    }
   ],
   "source": [
    "max(A)"
   ]
  },
  {
   "cell_type": "code",
   "execution_count": 70,
   "id": "36e282e0",
   "metadata": {},
   "outputs": [
    {
     "data": {
      "image/png": "[encoded data removed]",
      "text/plain": [
       "<Figure size 432x288 with 1 Axes>"
      ]
     },
     "metadata": {
      "needs_background": "light"
     },
     "output_type": "display_data"
    }
   ],
   "source": [
    "A = [S[0]]\n",
    "for s in S[1:]:\n",
    "    A.append(round(0.98 * A[-1] + 0.02 * s, 4))\n",
    "    \n",
    "A = [round(a, 2) for a in A]\n",
    "\n",
    "plt.hist(A, bins=np.linspace(0, 1, 50))\n",
    "plt.show()"
   ]
  },
  {
   "cell_type": "code",
   "execution_count": 69,
   "id": "7b5bdafb",
   "metadata": {},
   "outputs": [
    {
     "data": {
      "image/png": "[encoded data removed]",
      "text/plain": [
       "<Figure size 432x288 with 1 Axes>"
      ]
     },
     "metadata": {
      "needs_background": "light"
     },
     "output_type": "display_data"
    }
   ],
   "source": [
    "A = [S[0]]\n",
    "for s in S[1:]:\n",
    "    A.append(0.99 * A[-1] + 0.01 * s)\n",
    "    \n",
    "A = [round(a, 2) for a in A]\n",
    "    \n",
    "plt.hist(A, bins=np.linspace(0, 1, 50))\n",
    "plt.show()"
   ]
  },
  {
   "cell_type": "code",
   "execution_count": null,
   "id": "9bdd58db",
   "metadata": {},
   "outputs": [],
   "source": []
  }
 ],
 "metadata": {
  "kernelspec": {
   "display_name": "Python 3 (ipykernel)",
   "language": "python",
   "name": "python3"
  },
  "language_info": {
   "codemirror_mode": {
    "name": "ipython",
    "version": 3
   },
   "file_extension": ".py",
   "mimetype": "text/x-python",
   "name": "python",
   "nbconvert_exporter": "python",
   "pygments_lexer": "ipython3",
   "version": "3.9.6"
  }
 },
 "nbformat": 4,
 "nbformat_minor": 5
}
